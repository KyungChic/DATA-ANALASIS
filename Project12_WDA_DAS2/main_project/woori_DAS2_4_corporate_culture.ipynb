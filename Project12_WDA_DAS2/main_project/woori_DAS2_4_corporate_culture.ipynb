{
  "nbformat": 4,
  "nbformat_minor": 0,
  "metadata": {
    "colab": {
      "name": "woori_DAS2_4_corporate_culture.ipynb",
      "provenance": [],
      "collapsed_sections": []
    },
    "kernelspec": {
      "name": "python3",
      "display_name": "Python 3"
    },
    "language_info": {
      "name": "python"
    }
  },
  "cells": [
    {
      "cell_type": "code",
      "source": [
        "#Celenium_Install\n",
        "\n",
        "!pip install selenium\n",
        "!apt-get update\n",
        "!apt install chromium-chromedriver\n",
        "!cp /usr/lib/chromium-browser/chromedriver /usr/bin"
      ],
      "metadata": {
        "id": "LidUm6YrVhVJ"
      },
      "execution_count": null,
      "outputs": []
    },
    {
      "cell_type": "code",
      "execution_count": null,
      "metadata": {
        "id": "A3RDDkEiUvU4"
      },
      "outputs": [],
      "source": [
        "import pandas as pd\n",
        "import numpy as np\n",
        "\n",
        "import matplotlib.pyplot as plt\n",
        "import seaborn as sns\n",
        "\n",
        "#셀레니움(크롤링)\n",
        "import time\n",
        "from selenium import webdriver\n",
        "from bs4 import BeautifulSoup\n",
        "\n",
        "#드라이브 마운트\n",
        "from google.colab import drive\n",
        "drive.mount(\"/content/drive\")\n",
        "\n",
        "#라쏘\n",
        "import numpy as np\n",
        "import mglearn\n",
        "from sklearn.linear_model import Lasso\n",
        "\n",
        "#회귀분석\n",
        "import statsmodels.api as sm"
      ]
    },
    {
      "cell_type": "code",
      "source": [
        "#판다스 지수표현 제거\n",
        "pd.options.display.float_format = '{:.5f}'.format"
      ],
      "metadata": {
        "id": "qiklMt3M2ldM"
      },
      "execution_count": null,
      "outputs": []
    },
    {
      "cell_type": "markdown",
      "source": [
        "#크롤링"
      ],
      "metadata": {
        "id": "l0WEooM1VwEk"
      }
    },
    {
      "cell_type": "code",
      "source": [
        "#Colab에선 웹브라우저 창이 뜨지 않으므로 별도 설정한다.\n",
        " \n",
        "options = webdriver.ChromeOptions()\n",
        "options.add_argument('--headless')      \n",
        "options.add_argument('--no-sandbox')\n",
        "options.add_argument('--disable-dev-shm-usage')\n",
        "driver = webdriver.Chrome('chromedriver', options=options)"
      ],
      "metadata": {
        "id": "QB1y5CHKVk__"
      },
      "execution_count": null,
      "outputs": []
    },
    {
      "cell_type": "markdown",
      "source": [
        "##잡플래닛 로그인"
      ],
      "metadata": {
        "id": "hEW9M1vCVzO_"
      }
    },
    {
      "cell_type": "code",
      "source": [
        "driver = webdriver.Chrome('chromedriver', options=options)\n",
        "\n",
        "url = 'https://www.jobplanet.co.kr/users/sign_in?_nav=gb'\n",
        "driver.get(url)\n",
        "\n",
        "time.sleep(3)\n",
        "\n",
        "#id\n",
        "email = 'xxxxxxxx'  #아이디(이메일)입력\n",
        "input_id = driver.find_elements_by_css_selector('input#user_email')[0]\n",
        "input_id.clear()\n",
        "input_id.send_keys(email)\n",
        "\n",
        "#password\n",
        "password = 'xxxxxxxx' #패스워드입력\n",
        "input_pw = driver.find_elements_by_css_selector('input#user_password')[0]\n",
        "input_pw.send_keys(password)\n",
        "input_pw.submit()\n",
        "\n",
        "time.sleep(3)"
      ],
      "metadata": {
        "id": "lb2_hlUbVrQH"
      },
      "execution_count": null,
      "outputs": []
    },
    {
      "cell_type": "markdown",
      "source": [
        "##추출작업"
      ],
      "metadata": {
        "id": "6kv3xZf3V2WQ"
      }
    },
    {
      "cell_type": "markdown",
      "source": [
        "###은행/금융업 추출"
      ],
      "metadata": {
        "id": "sRKI1IIBWIHE"
      }
    },
    {
      "cell_type": "code",
      "source": [
        "#은행/금융업 리스트 추출\n",
        "\n",
        "name = []\n",
        "id = []\n",
        "\n",
        "page = 63\n",
        "\n",
        "for i in range(1,page+1):\n",
        "  url = 'https://www.jobplanet.co.kr/companies?industry_id=900&page='\n",
        "  url = url + str(i)\n",
        "  \n",
        "  driver.get(url)\n",
        "  time.sleep(1)\n",
        "\n",
        "  html = driver.page_source\n",
        "  soup = BeautifulSoup(html, 'html.parser')\n",
        "\n",
        "  data = soup.select('div.section_group > section.company.content_ty3 > div > div > dl.content_col2_3.cominfo > dt.us_titb_l3 > a')\n",
        "\n",
        "  for unit in (data):\n",
        "    name.append(unit.text)\n",
        "    id.append(unit['href'].split('/')[2])"
      ],
      "metadata": {
        "id": "3WDTGCjjVsnj"
      },
      "execution_count": null,
      "outputs": []
    },
    {
      "cell_type": "code",
      "source": [
        "#평점 추출\n",
        "\n",
        "score = []  #총 평점\n",
        "n= [] #평가자 수\n",
        "benefit_pay = []  #복지및급여\n",
        "balance = []  #업무와 삶의 균형\n",
        "culture = []  #사내문화\n",
        "promotion = []  #승진 기회 및 가능성\n",
        "boarder = []  #경영진\n",
        "recommend = []  #기업추천비율\n",
        "CEO_support = []  #CEO 지지율\n",
        "potential = []  #성장가능성\n",
        "\n",
        "\n",
        "for idx in id:\n",
        "  url = 'https://www.jobplanet.co.kr/companies/' + idx + '/reviews/'\n",
        "  driver.get(url)\n",
        "  time.sleep(1)\n",
        "\n",
        "  html = driver.page_source\n",
        "  soup = BeautifulSoup(html, 'html.parser')\n",
        "\n",
        "  data = soup.select('div.review_stats_wrapper.total > div.stats_smr_sec.left_sec > div.rate_star_wrap.type2 > span ')\n",
        "  \n",
        "  #score\n",
        "  score.append(float(data[0].text))\n",
        "\n",
        "  #n\n",
        "  data = soup.select('div.stats_hd > h2')\n",
        "  text = data[0].text\n",
        "  n.append(float(text.split('(')[1].split('명')[0]))\n",
        "\n",
        "  #benefit_pay\n",
        "  data = soup.select('div.rate_bar_set.barfill.total > div > div.rate_bar_group > div.rate_bar_unit > span.txt_point')\n",
        "  benefit_pay.append(float(data[0].text))\n",
        "\n",
        "  #balance\n",
        "  balance.append(float(data[1].text))\n",
        "\n",
        "  #culture\n",
        "  culture.append(float(data[2].text))\n",
        "\n",
        "  #promotion\n",
        "  promotion.append(float(data[3].text))\n",
        "\n",
        "  #boarder\n",
        "  boarder.append(float(data[4].text))\n",
        "\n",
        "  #recommend(%)\n",
        "  data = soup.select('div.stats_smr_sec.right_sec.rate_pie_group.premium_total_reviews > div > div.rate_pie.pie1 > span')\n",
        "  recommend.append(data[0].text.split('%')[0])\n",
        "\n",
        "  #CEO_support(%)\n",
        "  data = soup.select('div.stats_smr_sec.right_sec.rate_pie_group.premium_total_reviews > div > div.rate_pie.pie2 > span')\n",
        "  CEO_support.append(data[0].text.split('%')[0])\n",
        "\n",
        "  #Potential(%)\n",
        "  data = soup.select('div.stats_smr_sec.right_sec.rate_pie_group.premium_total_reviews > div > div.rate_pie.pie3 > span')\n",
        "  potential.append(data[0].text.split('%')[0])"
      ],
      "metadata": {
        "id": "ZaFB1XeFV7x2"
      },
      "execution_count": null,
      "outputs": []
    },
    {
      "cell_type": "code",
      "source": [
        "#추출 데이터 저장\n",
        "\n",
        "data = pd.DataFrame((zip(id, name, score, n, benefit_pay, balance, culture, promotion, boarder, recommend, CEO_support, potential)), \n",
        "                    columns=('id', 'name', 'score', 'n', 'benefit_pay', 'balance', 'culture', 'promotion', 'boarder', 'recommend', 'CEO_support', 'potential'))\n",
        "data.to_csv(\"data_fin.csv\",encoding='utf-8-sig')"
      ],
      "metadata": {
        "id": "nTN1jfpEV-qA"
      },
      "execution_count": null,
      "outputs": []
    },
    {
      "cell_type": "markdown",
      "source": [
        "###IT추출"
      ],
      "metadata": {
        "id": "5mib3yDrWDUb"
      }
    },
    {
      "cell_type": "code",
      "source": [
        "#IT 리스트 추출\n",
        "\n",
        "name = []\n",
        "id = []\n",
        "\n",
        "page = 423\n",
        "\n",
        "for i in range(1,page+1):\n",
        "  url = 'https://www.jobplanet.co.kr/companies?industry_id=700&page='\n",
        "  url = url + str(i)\n",
        "  \n",
        "  driver.get(url)\n",
        "  time.sleep(1)\n",
        "\n",
        "  html = driver.page_source\n",
        "  soup = BeautifulSoup(html, 'html.parser')\n",
        "\n",
        "  data = soup.select('div.section_group > section.company.content_ty3 > div > div > dl.content_col2_3.cominfo > dt.us_titb_l3 > a')\n",
        "\n",
        "  for unit in (data):\n",
        "    name.append(unit.text)\n",
        "    id.append(unit['href'].split('/')[2])"
      ],
      "metadata": {
        "id": "AzfaODiqWLVa"
      },
      "execution_count": null,
      "outputs": []
    },
    {
      "cell_type": "code",
      "source": [
        "#평점 추출\n",
        "\n",
        "score = []  #총 평점\n",
        "n= [] #평가자 수\n",
        "benefit_pay = []  #복지및급여\n",
        "balance = []  #업무와 삶의 균형\n",
        "culture = []  #사내문화\n",
        "promotion = []  #승진 기회 및 가능성\n",
        "boarder = []  #경영진\n",
        "recommend = []  #기업추천비율\n",
        "CEO_support = []  #CEO 지지율\n",
        "potential = []  #성장가능성\n",
        "\n",
        "\n",
        "for idx in id:\n",
        "  url = 'https://www.jobplanet.co.kr/companies/' + idx + '/reviews/'\n",
        "  driver.get(url)\n",
        "  time.sleep(1)\n",
        "\n",
        "  html = driver.page_source\n",
        "  soup = BeautifulSoup(html, 'html.parser')\n",
        "\n",
        "  data = soup.select('div.review_stats_wrapper.total > div.stats_smr_sec.left_sec > div.rate_star_wrap.type2 > span ')\n",
        "  \n",
        "  #score\n",
        "  score.append(float(data[0].text))\n",
        "\n",
        "  #n\n",
        "  data = soup.select('div.stats_hd > h2')\n",
        "  text = data[0].text\n",
        "  n.append(float(text.split('(')[1].split('명')[0]))\n",
        "\n",
        "  #benefit_pay\n",
        "  data = soup.select('div.rate_bar_set.barfill.total > div > div.rate_bar_group > div.rate_bar_unit > span.txt_point')\n",
        "  benefit_pay.append(float(data[0].text))\n",
        "\n",
        "  #balance\n",
        "  balance.append(float(data[1].text))\n",
        "\n",
        "  #culture\n",
        "  culture.append(float(data[2].text))\n",
        "\n",
        "  #promotion\n",
        "  promotion.append(float(data[3].text))\n",
        "\n",
        "  #boarder\n",
        "  boarder.append(float(data[4].text))\n",
        "  \n",
        "  try:\n",
        "    #recommend(%)\n",
        "    data = soup.select('div.stats_smr_sec.right_sec.rate_pie_group.premium_total_reviews > div > div.rate_pie.pie1 > span')\n",
        "    recommend.append(data[0].text.split('%')[0])\n",
        "\n",
        "    #CEO_support(%)\n",
        "    data = soup.select('div.stats_smr_sec.right_sec.rate_pie_group.premium_total_reviews > div > div.rate_pie.pie2 > span')\n",
        "    CEO_support.append(data[0].text.split('%')[0])\n",
        "\n",
        "    #Potential(%)\n",
        "    data = soup.select('div.stats_smr_sec.right_sec.rate_pie_group.premium_total_reviews > div > div.rate_pie.pie3 > span')\n",
        "    potential.append(data[0].text.split('%')[0])\n",
        "\n",
        "  except:\n",
        "    recommend.append(np.NaN)\n",
        "    CEO_support.append(np.NaN)\n",
        "    potential.append(np.NaN)"
      ],
      "metadata": {
        "id": "i6asQ7s7WVln"
      },
      "execution_count": null,
      "outputs": []
    },
    {
      "cell_type": "code",
      "source": [
        "#추출 데이터 저장\n",
        "\n",
        "data = pd.DataFrame((zip(id, name, score, n, benefit_pay, balance, culture, promotion, boarder, recommend, CEO_support, potential)), \n",
        "                    columns=('id', 'name', 'score', 'n', 'benefit_pay', 'balance', 'culture', 'promotion', 'boarder', 'recommend', 'CEO_support', 'potential'))\n",
        "data.to_csv(\"data_it.csv\",encoding='utf-8-sig')"
      ],
      "metadata": {
        "id": "zr3N9JpHXM9d"
      },
      "execution_count": null,
      "outputs": []
    },
    {
      "cell_type": "markdown",
      "source": [
        "# 전처리"
      ],
      "metadata": {
        "id": "3ugUpGT-XpEU"
      }
    },
    {
      "cell_type": "code",
      "source": [
        "#불러오기\n",
        "\n",
        "data_it = pd.read_csv('data_it.csv', encoding = 'utf-8-sig')\n",
        "data_fin = pd.read_csv('data_fin', encoding = 'utf-8-sig')\n",
        "data_pension = pd.read_csv('data_pension.csv', encoding = 'utf-8-sig')"
      ],
      "metadata": {
        "id": "38-t0zbAS00x"
      },
      "execution_count": null,
      "outputs": []
    },
    {
      "cell_type": "markdown",
      "source": [
        "## 응답자수 >= 30"
      ],
      "metadata": {
        "id": "BTWMWYOFZD-M"
      }
    },
    {
      "cell_type": "code",
      "source": [
        "data_it_n_geq_30 = data_it[data_it.n >= 30]\n",
        "data_fin_n_geq_30 = data_fin[data_it.n >= 30]"
      ],
      "metadata": {
        "id": "4AxgTJW-ZCeE"
      },
      "execution_count": null,
      "outputs": []
    },
    {
      "cell_type": "markdown",
      "source": [
        "## 연금데이터와 합치기"
      ],
      "metadata": {
        "id": "Zh8MxX4eTLn_"
      }
    },
    {
      "cell_type": "code",
      "source": [
        "#연금데이터에서 필요한 데이터만 추출\n",
        "\n",
        "columns = [' 사업장명', ' 가입자수', ' 당월고지금액', ' 신규취득자수']\n",
        "pension = data_pension[columns]\n",
        "\n",
        "#칼럼명 수정\n",
        "\n",
        "pension.columns = ['name', 'n', 'notice_amount','new']"
      ],
      "metadata": {
        "id": "Bvovps84TIpj"
      },
      "execution_count": null,
      "outputs": []
    },
    {
      "cell_type": "markdown",
      "source": [
        "### 기업명 맞추기"
      ],
      "metadata": {
        "id": "nsixrtC9V3xp"
      }
    },
    {
      "cell_type": "code",
      "source": [
        "# (주) (유) (사) 주식회사 유한회사 사단법인 글자 삭제\n",
        "\n",
        "data_it_n_geq_30['strip_name'] = data_it_n_geq_30['name'].str.strip()\n",
        "data_fin_n_geq_30['strip_name'] = data_fin_n_geq_30['name'].str.strip()\n",
        "pension['strip_name'] = pension['name'].str.strip()\n",
        "\n",
        "del_list = ['(주)', '(유)', '(사)', '주)', '(주', '유)', '(유', '사)', '(사', '주식회사', '유한회사', '사단법인']\n",
        "\n",
        "for word in del_list:\n",
        "  data_it_n_geq_30['strip_name'] = data_it_n_geq_30['strip_name'].str.strip(word)\n",
        "  data_fin_n_geq_30['strip_name'] = data_fin_n_geq_30['strip_name'].str.strip(word)\n",
        "  pension['strip_name'] = pension['strip_name'].str.strip(word)\n",
        "\n",
        "\n",
        "#공백삭제\n",
        "\n",
        "data_it_n_geq_30['strip_name'] = data_it_n_geq_30['strip_name'].str.strip()\n",
        "data_fin_n_geq_30['strip_name'] = data_fin_n_geq_30['strip_name'].str.strip()\n",
        "pension['strip_name'] = pension['strip_name'].str.strip()\n"
      ],
      "metadata": {
        "id": "9wZCThUSV63y"
      },
      "execution_count": null,
      "outputs": []
    },
    {
      "cell_type": "markdown",
      "source": [
        "### 기업명을 통한 merge"
      ],
      "metadata": {
        "id": "qKuhayJYV0w6"
      }
    },
    {
      "cell_type": "code",
      "source": [
        "total_data_Fin = pd.merge(left = data_it_n_geq_30, right = pension, on = 'strip_name')\n",
        "total_data_IT = pd.merge(left = data_fin_n_geq_30, right = pension, on = 'strip_name')"
      ],
      "metadata": {
        "id": "92-dE1kBfuC9"
      },
      "execution_count": null,
      "outputs": []
    },
    {
      "cell_type": "code",
      "source": [
        "#데이터 저장\n",
        "total_data_Fin.to_csv('total_data_fin.csv', index = False, encoding = 'cp949')\n",
        "tota_data_IT.to_csv('total_data_it.csv', index = False, encoding = 'cp949')"
      ],
      "metadata": {
        "id": "1CdY0l-t1q0X"
      },
      "execution_count": null,
      "outputs": []
    },
    {
      "cell_type": "markdown",
      "source": [
        "# EDA"
      ],
      "metadata": {
        "id": "hbhZGTCgzPbD"
      }
    },
    {
      "cell_type": "code",
      "source": [
        "data_fin = total_data_Fin\n",
        "data_it = total_data_IT"
      ],
      "metadata": {
        "id": "IS-IPCSx1kno"
      },
      "execution_count": null,
      "outputs": []
    },
    {
      "cell_type": "code",
      "source": [
        "#그룹핑\n",
        "woori = ['우리은행(주)', '(주)우리카드', '우리금융캐피탈(주)', '우리자산신탁(주)', '우리에프아이에스(주)']\n",
        "it_list = ['네이버(주)', '(주)카카오', '(주)우아한형제들', '(주)비바리퍼블리카']\n",
        "counter_bank = ('신한은행(주)', '국민은행(주)', '하나은행(주)', '농협은행(주)')"
      ],
      "metadata": {
        "id": "lEKAE8Md3tHL"
      },
      "execution_count": null,
      "outputs": []
    },
    {
      "cell_type": "code",
      "source": [
        "fig, axs = plt.subplots(1,3, figsize=(20,7))\n",
        "\n",
        "tmp = []\n",
        "want = ['score','pay_per_month', 'mean_work_hour_per_day']\n",
        "for j in range(3):\n",
        "  tmp.append((j,want[j]))\n",
        "\n",
        "\n",
        "\n",
        "for (j,col) in tmp:\n",
        "  tmp_it = list(range(len(data_it[col])))\n",
        "  random.shuffle(tmp_it)\n",
        "  tmp_fin = random.sample(tmp_it, len(data_fin))\n",
        "  axs[j].set_title(col, fontsize=25, fontweight= 'bold')\n",
        "  axs[j].scatter(tmp_fin, data_fin[col], c='purple')\n",
        "  axs[j].scatter(tmp_it, data_it[col], c='orange')\n",
        "  for name1 in woori:\n",
        "    tmp_fin_1 = random.sample(tmp_it,1)[0]\n",
        "    axs[j].scatter(tmp_fin_1, data_fin[data_fin.name == name1][col], s=200, c='blue')\n",
        "    axs[j].text(tmp_fin_1, data_fin[data_fin.name == name1][col], name1)\n",
        "  for name2 in it_list:\n",
        "    tmp_it_2 = random.sample(tmp_it,1)[0]\n",
        "    axs[j].scatter(tmp_it_2, data_it[data_it.name == name2][col], s=200, c='green')\n",
        "    axs[j].text(tmp_it_2, data_it[data_it.name == name2][col], name2)\n",
        "  for name3 in counter_bank:\n",
        "    tmp_fin_3 = random.sample(tmp_it,1)[0]\n",
        "    axs[j].scatter(tmp_fin_3, data_fin[data_fin.name == name3][col], s=200, c='red')\n",
        "    axs[j].text(tmp_fin_3, data_fin[data_fin.name == name3][col], name3)\n",
        "\n",
        "\n",
        "fig.tight_layout()\n",
        "plt.show()"
      ],
      "metadata": {
        "id": "DQA4WGw94Z8C"
      },
      "execution_count": null,
      "outputs": []
    },
    {
      "cell_type": "code",
      "source": [
        "fig, axs = plt.subplots(1,3, figsize=(20,7))\n",
        "\n",
        "tmp = []\n",
        "want = ['mean_overtime_day_per_week', 'mean_wknd_workday_per_month', 'workers']\n",
        "for j in range(3):\n",
        "  tmp.append((j,want[j]))\n",
        "\n",
        "for (j,col) in tmp:\n",
        "  tmp_it = list(range(len(data_it[col])))\n",
        "  random.shuffle(tmp_it)\n",
        "  tmp_fin = random.sample(tmp_it, len(data_fin))\n",
        "  axs[j].set_title(col, fontsize=25, fontweight= 'bold')\n",
        "  axs[j].scatter(tmp_fin, data_fin[col], c='purple')\n",
        "  axs[j].scatter(tmp_it, data_it[col], c='orange')\n",
        "  for name1 in woori:\n",
        "    tmp_fin_1 = random.sample(tmp_it,1)[0]\n",
        "    axs[j].scatter(tmp_fin_1, data_fin[data_fin.name == name1][col], s=200, c='blue')\n",
        "    axs[j].text(tmp_fin_1, data_fin[data_fin.name == name1][col], name1)\n",
        "  for name2 in it_list:\n",
        "    tmp_it_2 = random.sample(tmp_it,1)[0]\n",
        "    axs[j].scatter(tmp_it_2, data_it[data_it.name == name2][col], s=200, c='green')\n",
        "    axs[j].text(tmp_it_2, data_it[data_it.name == name2][col], name2)\n",
        "  for name3 in counter_bank:\n",
        "    tmp_fin_3 = random.sample(tmp_it,1)[0]\n",
        "    axs[j].scatter(tmp_fin_3, data_fin[data_fin.name == name3][col], s=200, c='red')\n",
        "    axs[j].text(tmp_fin_3, data_fin[data_fin.name == name3][col], name3)\n",
        "\n",
        "\n",
        "fig.tight_layout()\n",
        "plt.show()"
      ],
      "metadata": {
        "id": "wZqVMSwa4hxG"
      },
      "execution_count": null,
      "outputs": []
    },
    {
      "cell_type": "code",
      "source": [
        "fig, axs = plt.subplots(1,3, figsize=(20,7))\n",
        "\n",
        "tmp = []\n",
        "want = ['mean_leave_per_year', 'mean_workplan_flexibility', 'mean_remote_work']\n",
        "for j in range(3):\n",
        "  tmp.append((j,want[j]))\n",
        "\n",
        "for (j,col) in tmp:\n",
        "  tmp_it = list(range(len(data_it[col])))\n",
        "  random.shuffle(tmp_it)\n",
        "  tmp_fin = random.sample(tmp_it, len(data_fin))\n",
        "  axs[j].set_title(col, fontsize=25, fontweight= 'bold')\n",
        "  axs[j].scatter(tmp_fin, data_fin[col], c='purple')\n",
        "  axs[j].scatter(tmp_it, data_it[col], c='orange')\n",
        "  for name1 in woori:\n",
        "    tmp_fin_1 = random.sample(tmp_it,1)[0]\n",
        "    axs[j].scatter(tmp_fin_1, data_fin[data_fin.name == name1][col], s=200, c='blue')\n",
        "    axs[j].text(tmp_fin_1, data_fin[data_fin.name == name1][col], name1)\n",
        "  for name2 in it_list:\n",
        "    tmp_it_2 = random.sample(tmp_it,1)[0]\n",
        "    axs[j].scatter(tmp_it_2, data_it[data_it.name == name2][col], s=200, c='green')\n",
        "    axs[j].text(tmp_it_2, data_it[data_it.name == name2][col], name2)\n",
        "  for name3 in counter_bank:\n",
        "    tmp_fin_3 = random.sample(tmp_it,1)[0]\n",
        "    axs[j].scatter(tmp_fin_3, data_fin[data_fin.name == name3][col], s=200, c='red')\n",
        "    axs[j].text(tmp_fin_3, data_fin[data_fin.name == name3][col], name3)\n",
        "\n",
        "\n",
        "fig.tight_layout()\n",
        "plt.show()"
      ],
      "metadata": {
        "id": "vPtSFZox4jki"
      },
      "execution_count": null,
      "outputs": []
    },
    {
      "cell_type": "markdown",
      "source": [
        "# 모델링"
      ],
      "metadata": {
        "id": "VdxCbDgY4qFb"
      }
    },
    {
      "cell_type": "markdown",
      "source": [
        "##차원축소 - 라쏘 모델링"
      ],
      "metadata": {
        "id": "yVa8vQyJ6Qgc"
      }
    },
    {
      "cell_type": "markdown",
      "source": [
        "※실수했던 것 : 라쏘회귀 등 계수를 통제하는 방법들은 진행하기 전 스케일링이 먼저 이루어져야 합니다. 저희 결과물이 조금 이상하게 나온 것도 여기서 실수했던 것 같습니다.. 죄송합니다"
      ],
      "metadata": {
        "id": "iMy0ovXW6TvH"
      }
    },
    {
      "cell_type": "markdown",
      "source": [
        "###라쏘_금융"
      ],
      "metadata": {
        "id": "r_uk_r34_Kjy"
      }
    },
    {
      "cell_type": "code",
      "source": [
        "fin_X = data_fin[['respondents', 'benefit_pay', 'balance', 'culture',\n",
        "       'promotion', 'boarder', 'CEO_support', 'potential',\n",
        "       'workers', 'mean_work_hour_per_day', 'mean_overtime_day_per_week',\n",
        "       'mean_wknd_workday_per_month', 'mean_leave_per_year',\n",
        "       'mean_workplan_flexibility', 'mean_remote_work', 'pay_per_month']]\n",
        "fin_Y = data_fin['score']\n",
        "\n",
        "lasso = Lasso().fit(fin_X, fin_Y)"
      ],
      "metadata": {
        "id": "_qiVzpM84lZQ"
      },
      "execution_count": null,
      "outputs": []
    },
    {
      "cell_type": "code",
      "source": [
        "alpha_list = np.arange(0,5.001,0.01)\n",
        "\n",
        "score = []\n",
        "features = []\n",
        "cols = []\n",
        "\n",
        "for alpha in alpha_list :\n",
        "  lasso_fin = Lasso(alpha = alpha).fit(fin_X, fin_Y)\n",
        "  score.append(lasso_fin.score(fin_X, fin_Y))\n",
        "  features.append(np.sum(lasso_fin.coef_ != 0))  \n",
        "\n",
        "  usedfeatures = np.nonzero(lasso_fin.coef_ != 0)\n",
        "  cols.append(usedfeatures[0])"
      ],
      "metadata": {
        "id": "VkkCDbVI_DHB"
      },
      "execution_count": null,
      "outputs": []
    },
    {
      "cell_type": "code",
      "source": [
        "#스코어~알파 시각화\n",
        "plt.plot(alpha_list, score)\n",
        "plt.xlabel('alpha')\n",
        "plt.ylabel('score')\n",
        "plt.title('Finance')"
      ],
      "metadata": {
        "id": "eUr619sz_Igp"
      },
      "execution_count": null,
      "outputs": []
    },
    {
      "cell_type": "code",
      "source": [
        "#피쳐 수~알바 시각화\n",
        "\n",
        "plt.plot(alpha_list, features, color='orange')\n",
        "plt.xlabel('alpha')\n",
        "plt.ylabel('features')\n",
        "plt.title('Finance')"
      ],
      "metadata": {
        "id": "bLZsxZh7_UDC"
      },
      "execution_count": null,
      "outputs": []
    },
    {
      "cell_type": "markdown",
      "source": [
        "###라쏘_IT"
      ],
      "metadata": {
        "id": "gnZXkwRZAUU9"
      }
    },
    {
      "cell_type": "code",
      "source": [
        "it_X = data_it[['respondents', 'benefit_pay', 'balance', 'culture',\n",
        "       'promotion', 'boarder', 'CEO_support', 'potential',\n",
        "       'workers', 'mean_work_hour_per_day', 'mean_overtime_day_per_week',\n",
        "       'mean_wknd_workday_per_month', 'mean_leave_per_year',\n",
        "       'mean_workplan_flexibility', 'mean_remote_work', 'pay_per_month']]\n",
        "it_Y = data_it['score']"
      ],
      "metadata": {
        "id": "7efzsvzfAWAc"
      },
      "execution_count": null,
      "outputs": []
    },
    {
      "cell_type": "code",
      "source": [
        "alpha_list = np.arange(0,5.001,0.01)\n",
        "\n",
        "score = []\n",
        "features = []\n",
        "cols = []\n",
        "\n",
        "for alpha in alpha_list :\n",
        "  lasso_it = Lasso(alpha = alpha).fit(it_X, it_Y)\n",
        "  score.append(lasso_it.score(it_X, it_Y))\n",
        "  features.append(np.sum(lasso_it.coef_ != 0))  \n",
        "\n",
        "  usedfeatures = np.nonzero(lasso.coef_ != 0)\n",
        "  cols.append(usedfeatures[0])"
      ],
      "metadata": {
        "id": "iSppYGriAXD-"
      },
      "execution_count": null,
      "outputs": []
    },
    {
      "cell_type": "code",
      "source": [
        "#스코어~알파 시각화\n",
        "plt.plot(alpha_list, score)\n",
        "plt.xlabel('alpha')\n",
        "plt.ylabel('score')\n",
        "plt.title('IT')"
      ],
      "metadata": {
        "id": "dUyK72VBAb3w"
      },
      "execution_count": null,
      "outputs": []
    },
    {
      "cell_type": "code",
      "source": [
        "#피쳐 수~알파 시각화\n",
        "plt.plot(alpha_list, features, color='orange')\n",
        "plt.xlabel('alpha')\n",
        "plt.ylabel('features')\n",
        "plt.title(\"IT\")"
      ],
      "metadata": {
        "id": "VXELV926Bbhv"
      },
      "execution_count": null,
      "outputs": []
    },
    {
      "cell_type": "markdown",
      "source": [
        "## 라쏘회귀 특성에 대한 회귀분석 진행"
      ],
      "metadata": {
        "id": "y6EqI7zZBgsD"
      }
    },
    {
      "cell_type": "markdown",
      "source": [
        "###금융-변수5(CEO지지율 + 성장가능성 + 근무자 수 + 업무 계획 유연성 + 월급여)"
      ],
      "metadata": {
        "id": "JV8Umvt0DHs2"
      }
    },
    {
      "cell_type": "code",
      "source": [
        "model_fin_feature5 = sm.OLS.from_formula('score ~ CEO_support+potential+workers+mean_workplan_flexibility+pay_per_month', data = data_fin)\n",
        "result_model_fin_feature5 = model_fin_feature5.fit()\n",
        "result_model_fin_feature5.summary()"
      ],
      "metadata": {
        "id": "fVsOxSO1Blmw"
      },
      "execution_count": null,
      "outputs": []
    },
    {
      "cell_type": "markdown",
      "source": [
        "###금융-변수3(CEO지지율 + ~근무자 수~ + 월급여)"
      ],
      "metadata": {
        "id": "AGDh0g1jDOtH"
      }
    },
    {
      "cell_type": "code",
      "source": [
        "model_fin_feature3 = sm.OLS.from_formula('score ~ CEO_support+workers+pay_per_month', data = data_fin)\n",
        "result_model_fin_feature3 = model_fin_feature3.fit()\n",
        "result_model_fin_feature3.summary()"
      ],
      "metadata": {
        "id": "Zm69PSAFDVL-"
      },
      "execution_count": null,
      "outputs": []
    },
    {
      "cell_type": "code",
      "source": [
        "model_fin_feature2 = sm.OLS.from_formula('score ~ CEO_support+pay_per_month', data = data_fin)\n",
        "result_model_fin_feature2 = model_fin_feature2.fit()\n",
        "result_model_fin_feature2.summary()"
      ],
      "metadata": {
        "id": "cjw0j-_0DWs5"
      },
      "execution_count": null,
      "outputs": []
    },
    {
      "cell_type": "markdown",
      "source": [
        "###IT-변수7(응답자 수 + CEO지지율 + 성장가능성 + 근무자 수 + 업무 계획 유연성 + 원격근무 가능성 + 월급여)"
      ],
      "metadata": {
        "id": "R9DT_zaBDZXn"
      }
    },
    {
      "cell_type": "code",
      "source": [
        "model_it_feature7 = sm.OLS.from_formula('score ~ respondents+CEO_support+potential+workers+mean_workplan_flexibility+mean_remote_work+pay_per_month', data = data_it)\n",
        "result_model_it_feature7 = model_it_feature7.fit()\n",
        "result_model_it_feature7.summary()"
      ],
      "metadata": {
        "id": "yl_O8sGKDdpJ"
      },
      "execution_count": null,
      "outputs": []
    },
    {
      "cell_type": "markdown",
      "source": [
        "###IT-변수3(CEO지지율 + 근무자 수 + 월급여)"
      ],
      "metadata": {
        "id": "1xaby-I8Dfyp"
      }
    },
    {
      "cell_type": "code",
      "source": [
        "model_it_feature3 = sm.OLS.from_formula('score ~ CEO_support+workers+pay_per_month', data = data_it)\n",
        "result_model_it_feature3 = model_it_feature3.fit()\n",
        "result_model_it_feature3.summary()"
      ],
      "metadata": {
        "id": "5sI8AqXbDhRC"
      },
      "execution_count": null,
      "outputs": []
    }
  ]
}