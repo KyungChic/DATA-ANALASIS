{
  "nbformat": 4,
  "nbformat_minor": 0,
  "metadata": {
    "colab": {
      "name": "파이썬_1차시",
      "provenance": [],
      "collapsed_sections": []
    },
    "kernelspec": {
      "name": "python3",
      "display_name": "Python 3"
    },
    "language_info": {
      "name": "python"
    }
  },
  "cells": [
    {
      "cell_type": "markdown",
      "source": [
        "# chapter2. 자료형\n"
      ],
      "metadata": {
        "id": "5OPbjEB7ooNh"
      }
    },
    {
      "cell_type": "markdown",
      "source": [
        "### 문자열"
      ],
      "metadata": {
        "id": "qqYpdJ3tpEg_"
      }
    },
    {
      "cell_type": "markdown",
      "source": [
        "  #### 문자열연산자"
      ],
      "metadata": {
        "id": "YPwjr276poan"
      }
    },
    {
      "cell_type": "code",
      "source": [
        "print(\"안녕하세요\"[0])"
      ],
      "metadata": {
        "colab": {
          "base_uri": "https://localhost:8080/"
        },
        "id": "-CykLXYlouHv",
        "outputId": "8105565a-804f-4236-a285-6f40e1291e2e"
      },
      "execution_count": 2,
      "outputs": [
        {
          "output_type": "stream",
          "name": "stdout",
          "text": [
            "안\n"
          ]
        }
      ]
    },
    {
      "cell_type": "code",
      "source": [
        "print(\"안녕하세요\"[-5])"
      ],
      "metadata": {
        "colab": {
          "base_uri": "https://localhost:8080/"
        },
        "id": "l92-AUWvox8c",
        "outputId": "9b4618d8-e80d-4709-a41b-f762b0a916a3"
      },
      "execution_count": 3,
      "outputs": [
        {
          "output_type": "stream",
          "name": "stdout",
          "text": [
            "안\n"
          ]
        }
      ]
    },
    {
      "cell_type": "code",
      "source": [
        "#슬라이싱\n",
        "\n",
        "print(\"안녕하세요\"[1:4])"
      ],
      "metadata": {
        "colab": {
          "base_uri": "https://localhost:8080/"
        },
        "id": "cgUXJlZWos-9",
        "outputId": "968aee0c-e3d1-41ad-df01-3d505abb4aca"
      },
      "execution_count": 4,
      "outputs": [
        {
          "output_type": "stream",
          "name": "stdout",
          "text": [
            "녕하세\n"
          ]
        }
      ]
    },
    {
      "cell_type": "code",
      "source": [
        "print(\"안녕하세요\"[1:])"
      ],
      "metadata": {
        "colab": {
          "base_uri": "https://localhost:8080/"
        },
        "id": "4AhfJxkCoiWG",
        "outputId": "506e16e0-a94f-4c97-d1f2-5d8b20eaf3ab"
      },
      "execution_count": 6,
      "outputs": [
        {
          "output_type": "stream",
          "name": "stdout",
          "text": [
            "녕하세요\n"
          ]
        }
      ]
    },
    {
      "cell_type": "code",
      "source": [
        "#문자열 길이 구하기\n",
        "print(len(\"안녕하세요\"))"
      ],
      "metadata": {
        "colab": {
          "base_uri": "https://localhost:8080/"
        },
        "id": "fABCK2ylqdA_",
        "outputId": "3fdb0fb6-7135-4a86-8ebc-e72d9ba63c75"
      },
      "execution_count": 7,
      "outputs": [
        {
          "output_type": "stream",
          "name": "stdout",
          "text": [
            "5\n"
          ]
        }
      ]
    },
    {
      "cell_type": "markdown",
      "source": [
        "### 숫자형\n"
      ],
      "metadata": {
        "id": "65OHcHg8vA7M"
      }
    },
    {
      "cell_type": "markdown",
      "source": [
        "#### 숫자형 연산"
      ],
      "metadata": {
        "id": "QqvOPwmQvFvp"
      }
    },
    {
      "cell_type": "code",
      "source": [
        ""
      ],
      "metadata": {
        "id": "SikABIlAvEj2"
      },
      "execution_count": 7,
      "outputs": []
    },
    {
      "cell_type": "markdown",
      "source": [
        "### 사용자입력"
      ],
      "metadata": {
        "id": "A3HTICXMwjwe"
      }
    },
    {
      "cell_type": "code",
      "source": [
        "print(input())"
      ],
      "metadata": {
        "colab": {
          "base_uri": "https://localhost:8080/"
        },
        "id": "exhZMpElv7pN",
        "outputId": "077c9fef-155f-4f6b-bea2-622763c12481"
      },
      "execution_count": 8,
      "outputs": [
        {
          "output_type": "stream",
          "name": "stdout",
          "text": [
            "aks\n",
            "aks\n"
          ]
        }
      ]
    },
    {
      "cell_type": "code",
      "source": [
        "print(int(input(\"+100 = \"))+100)"
      ],
      "metadata": {
        "colab": {
          "base_uri": "https://localhost:8080/"
        },
        "id": "neWuV9M0vDYd",
        "outputId": "9bcaf496-590d-4fce-81f4-1ce92e2d978a"
      },
      "execution_count": 12,
      "outputs": [
        {
          "output_type": "stream",
          "name": "stdout",
          "text": [
            "+100 = 500\n",
            "600\n"
          ]
        }
      ]
    },
    {
      "cell_type": "markdown",
      "source": [
        "### format() 함수"
      ],
      "metadata": {
        "id": "2A8ASX-uxT56"
      }
    },
    {
      "cell_type": "code",
      "source": [
        "\"{}\".format(10)"
      ],
      "metadata": {
        "colab": {
          "base_uri": "https://localhost:8080/",
          "height": 35
        },
        "id": "D2pFkFPFqs98",
        "outputId": "8b4868be-2e8d-402e-fff3-86cd09f8e4c2"
      },
      "execution_count": 13,
      "outputs": [
        {
          "output_type": "execute_result",
          "data": {
            "text/plain": [
              "'10'"
            ],
            "application/vnd.google.colaboratory.intrinsic+json": {
              "type": "string"
            }
          },
          "metadata": {},
          "execution_count": 13
        }
      ]
    },
    {
      "cell_type": "code",
      "source": [
        "\"{}, {}\".format(10, 20)"
      ],
      "metadata": {
        "colab": {
          "base_uri": "https://localhost:8080/",
          "height": 35
        },
        "id": "tbcLHxcAxbDT",
        "outputId": "5923041b-a8c1-4766-d936-0ce4bd8468b4"
      },
      "execution_count": 15,
      "outputs": [
        {
          "output_type": "execute_result",
          "data": {
            "text/plain": [
              "'10, 20'"
            ],
            "application/vnd.google.colaboratory.intrinsic+json": {
              "type": "string"
            }
          },
          "metadata": {},
          "execution_count": 15
        }
      ]
    },
    {
      "cell_type": "markdown",
      "source": [
        "### 대소문자 바꾸기"
      ],
      "metadata": {
        "id": "Q_JYmtFpx4NJ"
      }
    },
    {
      "cell_type": "code",
      "source": [
        "\"abd\".upper()"
      ],
      "metadata": {
        "colab": {
          "base_uri": "https://localhost:8080/",
          "height": 35
        },
        "id": "170JAeMKxe0n",
        "outputId": "263ae866-f966-4868-dd6c-c4e7aceeecd9"
      },
      "execution_count": 17,
      "outputs": [
        {
          "output_type": "execute_result",
          "data": {
            "text/plain": [
              "'ABD'"
            ],
            "application/vnd.google.colaboratory.intrinsic+json": {
              "type": "string"
            }
          },
          "metadata": {},
          "execution_count": 17
        }
      ]
    },
    {
      "cell_type": "code",
      "source": [
        "\"ADB\".lower()"
      ],
      "metadata": {
        "colab": {
          "base_uri": "https://localhost:8080/",
          "height": 35
        },
        "id": "-mZqz68Hx8FR",
        "outputId": "23521092-a3e2-44db-d6fa-7064a6477f77"
      },
      "execution_count": 18,
      "outputs": [
        {
          "output_type": "execute_result",
          "data": {
            "text/plain": [
              "'adb'"
            ],
            "application/vnd.google.colaboratory.intrinsic+json": {
              "type": "string"
            }
          },
          "metadata": {},
          "execution_count": 18
        }
      ]
    },
    {
      "cell_type": "markdown",
      "source": [
        "괄호 안에 넣는 것은 \"매개변수\"로 넣는 경우이고,\n",
        "개체 뒤에 . 으로 넣는 것은 함수를 호출하는 것."
      ],
      "metadata": {
        "id": "nmCeKkrSyJBp"
      }
    },
    {
      "cell_type": "markdown",
      "source": [
        "### 문자열 양옆의 공백 제거하기"
      ],
      "metadata": {
        "id": "tWtN6Q6KyU40"
      }
    },
    {
      "cell_type": "markdown",
      "source": [
        "### 문자열의 구성 파악하기"
      ],
      "metadata": {
        "id": "RTg8iTtUyvIu"
      }
    },
    {
      "cell_type": "code",
      "source": [
        "\"A123BC\".isalnum()"
      ],
      "metadata": {
        "colab": {
          "base_uri": "https://localhost:8080/"
        },
        "id": "AfmKM5TxyD28",
        "outputId": "5de09b70-7a6f-4df5-da67-648a91591b42"
      },
      "execution_count": 19,
      "outputs": [
        {
          "output_type": "execute_result",
          "data": {
            "text/plain": [
              "True"
            ]
          },
          "metadata": {},
          "execution_count": 19
        }
      ]
    },
    {
      "cell_type": "markdown",
      "source": [
        "### 그밖의.."
      ],
      "metadata": {
        "id": "DwXgKjyNzIIG"
      }
    },
    {
      "cell_type": "code",
      "source": [
        "#in 함수\n",
        "'a' in \"abc\""
      ],
      "metadata": {
        "colab": {
          "base_uri": "https://localhost:8080/"
        },
        "id": "hoTU7OVDy2k-",
        "outputId": "12eac385-2c02-4c0a-c623-68fffa43e952"
      },
      "execution_count": 22,
      "outputs": [
        {
          "output_type": "execute_result",
          "data": {
            "text/plain": [
              "True"
            ]
          },
          "metadata": {},
          "execution_count": 22
        }
      ]
    },
    {
      "cell_type": "code",
      "source": [
        "#split\n",
        "\"10 20 30 40 50\".split(\" \")"
      ],
      "metadata": {
        "colab": {
          "base_uri": "https://localhost:8080/"
        },
        "id": "BWe9ZroLzNLv",
        "outputId": "bbf1168e-a401-463d-e7a6-dce7500012a0"
      },
      "execution_count": 23,
      "outputs": [
        {
          "output_type": "execute_result",
          "data": {
            "text/plain": [
              "['10', '20', '30', '40', '50']"
            ]
          },
          "metadata": {},
          "execution_count": 23
        }
      ]
    },
    {
      "cell_type": "markdown",
      "source": [
        "## 조건문"
      ],
      "metadata": {
        "id": "_SJk2KrkzakT"
      }
    },
    {
      "cell_type": "code",
      "source": [
        "#입력\n",
        "\n",
        "number = input(\"정수입력\")\n",
        "number = int(number)"
      ],
      "metadata": {
        "colab": {
          "base_uri": "https://localhost:8080/"
        },
        "id": "CeBouocLzW_6",
        "outputId": "72ba0b75-c618-4f68-e484-ec8849289414"
      },
      "execution_count": 25,
      "outputs": [
        {
          "name": "stdout",
          "output_type": "stream",
          "text": [
            "정수입력5\n"
          ]
        }
      ]
    },
    {
      "cell_type": "code",
      "source": [
        "#양수 조건\n",
        "\n",
        "if number > 0 :\n",
        "    print(\"양수입니다\")"
      ],
      "metadata": {
        "colab": {
          "base_uri": "https://localhost:8080/"
        },
        "id": "0CNujEY00hus",
        "outputId": "53a97686-f160-48cf-8f8a-cf0c3b205296"
      },
      "execution_count": 27,
      "outputs": [
        {
          "output_type": "stream",
          "name": "stdout",
          "text": [
            "양수입니다\n"
          ]
        }
      ]
    },
    {
      "cell_type": "code",
      "source": [
        "#음수 조건\n",
        "\n",
        "if number < 0 :\n",
        "    print(\"음수입니다\")"
      ],
      "metadata": {
        "id": "Sp7OMIAO0pc9"
      },
      "execution_count": 28,
      "outputs": []
    },
    {
      "cell_type": "markdown",
      "source": [
        "#### 예시 - 키보드로 임의의 정수를 입력받아 홀수/짝수를 판별하는 프로그램 작성"
      ],
      "metadata": {
        "id": "ESVexZnZ09kx"
      }
    },
    {
      "cell_type": "code",
      "source": [
        "number = input(\"정수 입력 :  \")\n",
        "number = int(number)\n",
        "\n",
        "\n",
        "if number%2 == 1 :\n",
        "    print(\"홀수\")\n",
        "\n",
        "if number%2 == 0 :\n",
        "    if number == 0:\n",
        "        print(\"0입니다\")\n",
        "    else: \n",
        "        print(\"짝수\")"
      ],
      "metadata": {
        "colab": {
          "base_uri": "https://localhost:8080/"
        },
        "id": "ENCd5M3Y0zAf",
        "outputId": "450e281b-a0f5-4038-a5b6-6cf9f9f5bcf1"
      },
      "execution_count": 37,
      "outputs": [
        {
          "output_type": "stream",
          "name": "stdout",
          "text": [
            "정수 입력 :  2\n",
            "짝수\n"
          ]
        }
      ]
    },
    {
      "cell_type": "code",
      "source": [
        ""
      ],
      "metadata": {
        "id": "lXtfknSt1EwW"
      },
      "execution_count": 38,
      "outputs": []
    },
    {
      "cell_type": "markdown",
      "source": [
        "### elif구문"
      ],
      "metadata": {
        "id": "4IQr4TXS7stR"
      }
    },
    {
      "cell_type": "code",
      "source": [
        "import datetime\n",
        "\n",
        "now = datetime.datetime.now()\n",
        "month = now.month\n",
        "\n",
        "if 3<= month <= 5:\n",
        "  print(\"Spring\")\n",
        "\n",
        "elif month <=9:\n",
        "  print(\"Summmer\")"
      ],
      "metadata": {
        "colab": {
          "base_uri": "https://localhost:8080/"
        },
        "id": "C9je7nG57ruC",
        "outputId": "cff22330-1074-4bff-cdda-8968bb1815db"
      },
      "execution_count": 42,
      "outputs": [
        {
          "output_type": "stream",
          "name": "stdout",
          "text": [
            "Spring\n"
          ]
        }
      ]
    },
    {
      "cell_type": "markdown",
      "source": [
        "## 리스트와 반복문"
      ],
      "metadata": {
        "id": "ddgB5ZtH8Si6"
      }
    },
    {
      "cell_type": "markdown",
      "source": [
        "### 리스트"
      ],
      "metadata": {
        "id": "Ud-BuHqk9WFm"
      }
    },
    {
      "cell_type": "code",
      "source": [
        "array = [1,2,3,5,6, '문자열']"
      ],
      "metadata": {
        "id": "0x3n11fT70zG"
      },
      "execution_count": 45,
      "outputs": []
    },
    {
      "cell_type": "code",
      "source": [
        "array[1]"
      ],
      "metadata": {
        "colab": {
          "base_uri": "https://localhost:8080/"
        },
        "id": "dWiWjoFx9UOf",
        "outputId": "fa44b232-8029-47ca-8474-623e87464454"
      },
      "execution_count": 46,
      "outputs": [
        {
          "output_type": "execute_result",
          "data": {
            "text/plain": [
              "2"
            ]
          },
          "metadata": {},
          "execution_count": 46
        }
      ]
    },
    {
      "cell_type": "code",
      "source": [
        ""
      ],
      "metadata": {
        "id": "QtjaAyyy90nO"
      },
      "execution_count": 46,
      "outputs": []
    },
    {
      "cell_type": "code",
      "source": [
        "list_a = [[1,2,3], [4,5,6], [7,8,9]]\n",
        "\n",
        "list_a[1]\n",
        "\n",
        "list_a[1][1]"
      ],
      "metadata": {
        "colab": {
          "base_uri": "https://localhost:8080/"
        },
        "id": "WkBnJHsN-oks",
        "outputId": "3d967d54-7ef3-42f7-8ec1-9e312c44dad4"
      },
      "execution_count": 52,
      "outputs": [
        {
          "output_type": "execute_result",
          "data": {
            "text/plain": [
              "5"
            ]
          },
          "metadata": {},
          "execution_count": 52
        }
      ]
    },
    {
      "cell_type": "markdown",
      "source": [
        "### 반복문"
      ],
      "metadata": {
        "id": "snzom7lYA3Qs"
      }
    },
    {
      "cell_type": "code",
      "source": [
        "for i in range(100) :\n",
        "  print(\"{}번째\".format(i+1) )"
      ],
      "metadata": {
        "colab": {
          "base_uri": "https://localhost:8080/"
        },
        "id": "ysMf2E5C-xAX",
        "outputId": "9756644a-10d0-421f-a093-5c998c405e3a"
      },
      "execution_count": 55,
      "outputs": [
        {
          "output_type": "stream",
          "name": "stdout",
          "text": [
            "1번째\n",
            "2번째\n",
            "3번째\n",
            "4번째\n",
            "5번째\n",
            "6번째\n",
            "7번째\n",
            "8번째\n",
            "9번째\n",
            "10번째\n",
            "11번째\n",
            "12번째\n",
            "13번째\n",
            "14번째\n",
            "15번째\n",
            "16번째\n",
            "17번째\n",
            "18번째\n",
            "19번째\n",
            "20번째\n",
            "21번째\n",
            "22번째\n",
            "23번째\n",
            "24번째\n",
            "25번째\n",
            "26번째\n",
            "27번째\n",
            "28번째\n",
            "29번째\n",
            "30번째\n",
            "31번째\n",
            "32번째\n",
            "33번째\n",
            "34번째\n",
            "35번째\n",
            "36번째\n",
            "37번째\n",
            "38번째\n",
            "39번째\n",
            "40번째\n",
            "41번째\n",
            "42번째\n",
            "43번째\n",
            "44번째\n",
            "45번째\n",
            "46번째\n",
            "47번째\n",
            "48번째\n",
            "49번째\n",
            "50번째\n",
            "51번째\n",
            "52번째\n",
            "53번째\n",
            "54번째\n",
            "55번째\n",
            "56번째\n",
            "57번째\n",
            "58번째\n",
            "59번째\n",
            "60번째\n",
            "61번째\n",
            "62번째\n",
            "63번째\n",
            "64번째\n",
            "65번째\n",
            "66번째\n",
            "67번째\n",
            "68번째\n",
            "69번째\n",
            "70번째\n",
            "71번째\n",
            "72번째\n",
            "73번째\n",
            "74번째\n",
            "75번째\n",
            "76번째\n",
            "77번째\n",
            "78번째\n",
            "79번째\n",
            "80번째\n",
            "81번째\n",
            "82번째\n",
            "83번째\n",
            "84번째\n",
            "85번째\n",
            "86번째\n",
            "87번째\n",
            "88번째\n",
            "89번째\n",
            "90번째\n",
            "91번째\n",
            "92번째\n",
            "93번째\n",
            "94번째\n",
            "95번째\n",
            "96번째\n",
            "97번째\n",
            "98번째\n",
            "99번째\n",
            "100번째\n"
          ]
        }
      ]
    },
    {
      "cell_type": "code",
      "source": [
        "for a in [273, 32, 103, 57, 52] :\n",
        "  print(a)"
      ],
      "metadata": {
        "colab": {
          "base_uri": "https://localhost:8080/"
        },
        "id": "GtsbezE3BJct",
        "outputId": "c9f0839a-ee65-4015-9247-c412ea4b00c9"
      },
      "execution_count": 58,
      "outputs": [
        {
          "output_type": "stream",
          "name": "stdout",
          "text": [
            "273\n",
            "32\n",
            "103\n",
            "57\n",
            "52\n"
          ]
        }
      ]
    },
    {
      "cell_type": "code",
      "source": [
        "#피보나치 수열\n",
        "\n",
        "number = int(input(\"임의 정수> \"))\n",
        "\n",
        "array = []\n",
        "\n",
        "for i in range(number):\n",
        "    if i<= 1:\n",
        "        i = 1\n",
        "        array.append(i)\n",
        "    else:\n",
        "        array.append(array[-1] + array[-2])\n",
        "\n",
        "array"
      ],
      "metadata": {
        "colab": {
          "base_uri": "https://localhost:8080/"
        },
        "id": "fBfQ3f77BazA",
        "outputId": "e24c1627-6e45-4f9c-fc72-d1b9a9695cdc"
      },
      "execution_count": 65,
      "outputs": [
        {
          "name": "stdout",
          "output_type": "stream",
          "text": [
            "임의 정수1\n"
          ]
        },
        {
          "output_type": "execute_result",
          "data": {
            "text/plain": [
              "[1]"
            ]
          },
          "metadata": {},
          "execution_count": 65
        }
      ]
    },
    {
      "cell_type": "code",
      "source": [
        "for i in range(10, 1, -1):\n",
        "  print(i)"
      ],
      "metadata": {
        "colab": {
          "base_uri": "https://localhost:8080/"
        },
        "id": "zkUUSOM7GjP6",
        "outputId": "c817879c-2204-4d91-9e99-48c993447a72"
      },
      "execution_count": 81,
      "outputs": [
        {
          "output_type": "stream",
          "name": "stdout",
          "text": [
            "10\n",
            "9\n",
            "8\n",
            "7\n",
            "6\n",
            "5\n",
            "4\n",
            "3\n",
            "2\n"
          ]
        }
      ]
    },
    {
      "cell_type": "code",
      "source": [
        "#구구단\n",
        "\n",
        "number = input(\"2~9사이 정수> \")\n",
        "number = int(number)\n",
        "\n",
        "\n",
        "for i in range(9):\n",
        "  print(\"{} * {} = {}\".format(number, i+1, number*(i+1)))"
      ],
      "metadata": {
        "colab": {
          "base_uri": "https://localhost:8080/"
        },
        "id": "KNWf1Z_DCODG",
        "outputId": "f44428d3-fbd0-464f-9885-8d5aee6c3d18"
      },
      "execution_count": 66,
      "outputs": [
        {
          "output_type": "stream",
          "name": "stdout",
          "text": [
            "2~9사이 정수9\n",
            "9 * 1 = 9\n",
            "9 * 2 = 18\n",
            "9 * 3 = 27\n",
            "9 * 4 = 36\n",
            "9 * 5 = 45\n",
            "9 * 6 = 54\n",
            "9 * 7 = 63\n",
            "9 * 8 = 72\n",
            "9 * 9 = 81\n"
          ]
        }
      ]
    },
    {
      "cell_type": "markdown",
      "source": [
        "### 딕셔너리"
      ],
      "metadata": {
        "id": "RWqfEa49K2J2"
      }
    },
    {
      "cell_type": "code",
      "source": [
        "dict_a = {'name' : '어벤져스 엔드게임', 'type': '히어로 무비'}"
      ],
      "metadata": {
        "id": "O67rNR__C7VT"
      },
      "execution_count": 82,
      "outputs": []
    },
    {
      "cell_type": "code",
      "source": [
        "dict_a['name'] #{}로 호출하지 않음을 유의"
      ],
      "metadata": {
        "colab": {
          "base_uri": "https://localhost:8080/",
          "height": 35
        },
        "id": "hJcEhqSrLNXa",
        "outputId": "940db558-0ebc-4e81-f3f0-b9ffa2389a12"
      },
      "execution_count": 83,
      "outputs": [
        {
          "output_type": "execute_result",
          "data": {
            "text/plain": [
              "'어벤져스 엔드게임'"
            ],
            "application/vnd.google.colaboratory.intrinsic+json": {
              "type": "string"
            }
          },
          "metadata": {},
          "execution_count": 83
        }
      ]
    },
    {
      "cell_type": "code",
      "source": [
        "dict_a['type']"
      ],
      "metadata": {
        "colab": {
          "base_uri": "https://localhost:8080/",
          "height": 35
        },
        "id": "wOGwFautLP3B",
        "outputId": "52220126-dcf6-48ff-833d-acb57f4eaf4c"
      },
      "execution_count": 84,
      "outputs": [
        {
          "output_type": "execute_result",
          "data": {
            "text/plain": [
              "'히어로 무비'"
            ],
            "application/vnd.google.colaboratory.intrinsic+json": {
              "type": "string"
            }
          },
          "metadata": {},
          "execution_count": 84
        }
      ]
    },
    {
      "cell_type": "code",
      "source": [
        "dict_a.keys()"
      ],
      "metadata": {
        "colab": {
          "base_uri": "https://localhost:8080/"
        },
        "id": "zyA-jH7nLR4d",
        "outputId": "e632abc3-b6d9-4e89-a7a2-db4ba43d7ced"
      },
      "execution_count": 86,
      "outputs": [
        {
          "output_type": "execute_result",
          "data": {
            "text/plain": [
              "dict_keys(['name', 'type'])"
            ]
          },
          "metadata": {},
          "execution_count": 86
        }
      ]
    },
    {
      "cell_type": "code",
      "source": [
        "dict_a.values()"
      ],
      "metadata": {
        "colab": {
          "base_uri": "https://localhost:8080/"
        },
        "id": "tAJIOOPFMRbQ",
        "outputId": "e6d4cf35-34d8-43ce-83b8-96121b593e03"
      },
      "execution_count": 88,
      "outputs": [
        {
          "output_type": "execute_result",
          "data": {
            "text/plain": [
              "dict_values(['어벤져스 엔드게임', '히어로 무비'])"
            ]
          },
          "metadata": {},
          "execution_count": 88
        }
      ]
    },
    {
      "cell_type": "code",
      "source": [
        "dictionary = {\n",
        "    \"name\" : \"망고\",\n",
        "    \"type\" : \"절임\",\n",
        "    \"ingredient\" : [\"망고\", \"설탕\", '메타', '치자'],\n",
        "    'origin' : '필리핀'\n",
        "}"
      ],
      "metadata": {
        "id": "XAOgUSgGMTa5"
      },
      "execution_count": 90,
      "outputs": []
    },
    {
      "cell_type": "code",
      "source": [
        "'name' in dictionary\n"
      ],
      "metadata": {
        "colab": {
          "base_uri": "https://localhost:8080/"
        },
        "id": "07Jq43yFMm9o",
        "outputId": "3c006062-5f3f-4950-bd3d-e9f2ebb8128a"
      },
      "execution_count": 93,
      "outputs": [
        {
          "output_type": "execute_result",
          "data": {
            "text/plain": [
              "True"
            ]
          },
          "metadata": {},
          "execution_count": 93
        }
      ]
    },
    {
      "cell_type": "code",
      "source": [
        "\n",
        "'number' in dictionary"
      ],
      "metadata": {
        "colab": {
          "base_uri": "https://localhost:8080/"
        },
        "id": "CrORKQeFM_QE",
        "outputId": "ff5c20a2-84cd-47e5-8678-4edff2562739"
      },
      "execution_count": 94,
      "outputs": [
        {
          "output_type": "execute_result",
          "data": {
            "text/plain": [
              "False"
            ]
          },
          "metadata": {},
          "execution_count": 94
        }
      ]
    },
    {
      "cell_type": "code",
      "source": [
        "for key in dictionary :\n",
        "  print(key, \":\", dictionary[key])"
      ],
      "metadata": {
        "colab": {
          "base_uri": "https://localhost:8080/"
        },
        "id": "CaXLiQ7NNBZJ",
        "outputId": "bc033653-493e-4141-9705-521cef2fbda0"
      },
      "execution_count": 96,
      "outputs": [
        {
          "output_type": "stream",
          "name": "stdout",
          "text": [
            "name : 망고\n",
            "type : 절임\n",
            "ingredient : ['망고', '설탕', '메타', '치자']\n",
            "origin : 필리핀\n"
          ]
        }
      ]
    },
    {
      "cell_type": "markdown",
      "source": [
        "### break / continue"
      ],
      "metadata": {
        "id": "GpVjtyUSPpoP"
      }
    },
    {
      "cell_type": "code",
      "source": [
        "numbers = [5, 15, 6, 20, 7, 25]\n",
        "\n",
        "for number in numbers:\n",
        "  #number가 10보다 작으면 다음반복으로 스킵!\n",
        "    if number <10 :\n",
        "      continue\n",
        "    print(number)"
      ],
      "metadata": {
        "colab": {
          "base_uri": "https://localhost:8080/"
        },
        "id": "e63_oQGQNpgL",
        "outputId": "c755ec9d-8ebe-41d8-cc93-39b63225d8c8"
      },
      "execution_count": 98,
      "outputs": [
        {
          "output_type": "stream",
          "name": "stdout",
          "text": [
            "15\n",
            "20\n",
            "25\n"
          ]
        }
      ]
    },
    {
      "cell_type": "markdown",
      "source": [
        "### enumerate"
      ],
      "metadata": {
        "id": "6LLdlRLeRF9o"
      }
    },
    {
      "cell_type": "code",
      "source": [
        "a = ['a','b','c',]\n",
        "\n",
        "for entry in enumerate(a):\n",
        "  print(entry)"
      ],
      "metadata": {
        "colab": {
          "base_uri": "https://localhost:8080/"
        },
        "id": "rvK7OM22PigY",
        "outputId": "c2297af8-774a-4df2-ade5-a49cb1f6800a"
      },
      "execution_count": 101,
      "outputs": [
        {
          "output_type": "stream",
          "name": "stdout",
          "text": [
            "(0, 'a')\n",
            "(1, 'b')\n",
            "(2, 'c')\n"
          ]
        }
      ]
    },
    {
      "cell_type": "markdown",
      "source": [
        "### 함수"
      ],
      "metadata": {
        "id": "WUAwavOnTQ8g"
      }
    },
    {
      "cell_type": "code",
      "source": [
        "def x (a,b):\n",
        "  return (a+b)\n",
        "\n",
        "print(x(1,2))"
      ],
      "metadata": {
        "colab": {
          "base_uri": "https://localhost:8080/"
        },
        "id": "MVb8T4KDRH4n",
        "outputId": "b753d33f-6a0c-4278-d617-61da3f18d4be"
      },
      "execution_count": 104,
      "outputs": [
        {
          "output_type": "stream",
          "name": "stdout",
          "text": [
            "3\n"
          ]
        }
      ]
    },
    {
      "cell_type": "code",
      "source": [
        "def print_n_times(value, n):\n",
        "  for i in range(n):\n",
        "    print(value)\n",
        "\n",
        "print_n_times(\"안녕하세요\",5)"
      ],
      "metadata": {
        "colab": {
          "base_uri": "https://localhost:8080/"
        },
        "id": "N54z5UBURzi8",
        "outputId": "38aa3cb1-5bb2-4ddd-8a6a-2cb6bfdd0b30"
      },
      "execution_count": 105,
      "outputs": [
        {
          "output_type": "stream",
          "name": "stdout",
          "text": [
            "안녕하세요\n",
            "안녕하세요\n",
            "안녕하세요\n",
            "안녕하세요\n",
            "안녕하세요\n"
          ]
        }
      ]
    },
    {
      "cell_type": "code",
      "source": [
        "#가변 매개변수의 활용\n",
        "## 함수당 한개만 사용 가능하며 리스트처럼 활용함.\n",
        "\n",
        "def print_n_times(n, *values):\n",
        "  for i in range(n):\n",
        "    for value in values :\n",
        "      print(value)\n",
        "    print()\n",
        "  \n",
        "print_n_times(3, \"안녕하세요\", \"즐거운\", '파이썬', '입니다')"
      ],
      "metadata": {
        "colab": {
          "base_uri": "https://localhost:8080/"
        },
        "id": "axFSjty0V5CW",
        "outputId": "53c0465e-f40a-4d8a-c065-873cca3b3f48"
      },
      "execution_count": 107,
      "outputs": [
        {
          "output_type": "stream",
          "name": "stdout",
          "text": [
            "안녕하세요\n",
            "즐거운\n",
            "파이썬\n",
            "입니다\n",
            "\n",
            "안녕하세요\n",
            "즐거운\n",
            "파이썬\n",
            "입니다\n",
            "\n",
            "안녕하세요\n",
            "즐거운\n",
            "파이썬\n",
            "입니다\n",
            "\n"
          ]
        }
      ]
    },
    {
      "cell_type": "code",
      "source": [
        "#기본 매개변수\n",
        "##n=2는 뒤에 와야함.\n",
        "\n",
        "def print_n_times(value, n=2):\n",
        "  for i in range(n):\n",
        "    print(value)\n",
        "\n",
        "print_n_times(\"hi\")"
      ],
      "metadata": {
        "colab": {
          "base_uri": "https://localhost:8080/"
        },
        "id": "ZIA8p-gpW3JF",
        "outputId": "9ab2f11c-02bc-4908-afc1-f214f0875d0b"
      },
      "execution_count": 111,
      "outputs": [
        {
          "output_type": "stream",
          "name": "stdout",
          "text": [
            "hi\n",
            "hi\n"
          ]
        }
      ]
    },
    {
      "cell_type": "code",
      "source": [
        "#키워드 매개변수\n",
        "\n",
        "def print_n_times(value, n=2):\n",
        "  for i in range(n):\n",
        "    print(value)\n",
        "\n",
        "print_n_times(\"hi\", n=3)  # print_n_times(\"hi\", 3) 하면 \"hi\", 3이 두 번 출력됨."
      ],
      "metadata": {
        "colab": {
          "base_uri": "https://localhost:8080/"
        },
        "id": "GyiBHdsSXdjf",
        "outputId": "49d2d5d7-4148-48da-d920-3ce7f53a02bb"
      },
      "execution_count": 112,
      "outputs": [
        {
          "output_type": "stream",
          "name": "stdout",
          "text": [
            "hi\n",
            "hi\n",
            "hi\n"
          ]
        }
      ]
    },
    {
      "cell_type": "markdown",
      "source": [
        "### 튜플"
      ],
      "metadata": {
        "id": "gCT6M60zY1uo"
      }
    },
    {
      "cell_type": "code",
      "source": [
        "tuple_a = (\"a\", 'b', 'c')"
      ],
      "metadata": {
        "id": "RmPbhT12YhPU"
      },
      "execution_count": 114,
      "outputs": []
    },
    {
      "cell_type": "code",
      "source": [
        "tuple_a"
      ],
      "metadata": {
        "colab": {
          "base_uri": "https://localhost:8080/"
        },
        "id": "3xyI6aoNY7ti",
        "outputId": "98c5aac8-8595-4aa4-d06a-23af77875de2"
      },
      "execution_count": 115,
      "outputs": [
        {
          "output_type": "execute_result",
          "data": {
            "text/plain": [
              "('a', 'b', 'c')"
            ]
          },
          "metadata": {},
          "execution_count": 115
        }
      ]
    },
    {
      "cell_type": "code",
      "source": [
        "tuple_a[0]"
      ],
      "metadata": {
        "colab": {
          "base_uri": "https://localhost:8080/",
          "height": 35
        },
        "id": "pehz3zMJY_Qf",
        "outputId": "48a129c0-2655-4a94-e67e-88e61c3b798e"
      },
      "execution_count": 116,
      "outputs": [
        {
          "output_type": "execute_result",
          "data": {
            "text/plain": [
              "'a'"
            ],
            "application/vnd.google.colaboratory.intrinsic+json": {
              "type": "string"
            }
          },
          "metadata": {},
          "execution_count": 116
        }
      ]
    },
    {
      "cell_type": "code",
      "source": [
        "tuple_a[0] = 1"
      ],
      "metadata": {
        "colab": {
          "base_uri": "https://localhost:8080/",
          "height": 172
        },
        "id": "daJfNGFYZC5q",
        "outputId": "9d82832e-7708-4f38-e15d-cc296f87b0ef"
      },
      "execution_count": 117,
      "outputs": [
        {
          "output_type": "error",
          "ename": "TypeError",
          "evalue": "ignored",
          "traceback": [
            "\u001b[0;31m---------------------------------------------------------------------------\u001b[0m",
            "\u001b[0;31mTypeError\u001b[0m                                 Traceback (most recent call last)",
            "\u001b[0;32m<ipython-input-117-f40ca7674fde>\u001b[0m in \u001b[0;36m<module>\u001b[0;34m()\u001b[0m\n\u001b[0;32m----> 1\u001b[0;31m \u001b[0mtuple_a\u001b[0m\u001b[0;34m[\u001b[0m\u001b[0;36m0\u001b[0m\u001b[0;34m]\u001b[0m \u001b[0;34m=\u001b[0m \u001b[0;36m1\u001b[0m\u001b[0;34m\u001b[0m\u001b[0;34m\u001b[0m\u001b[0m\n\u001b[0m",
            "\u001b[0;31mTypeError\u001b[0m: 'tuple' object does not support item assignment"
          ]
        }
      ]
    },
    {
      "cell_type": "code",
      "source": [
        "test_1 = (213)\n",
        "test_2 = (213,)\n",
        "\n",
        "print(test_1, test_2[0])"
      ],
      "metadata": {
        "colab": {
          "base_uri": "https://localhost:8080/"
        },
        "id": "8pw4d888ZErG",
        "outputId": "32bf7565-c1eb-47a7-cea1-7bf897918aed"
      },
      "execution_count": 119,
      "outputs": [
        {
          "output_type": "stream",
          "name": "stdout",
          "text": [
            "213 213\n"
          ]
        }
      ]
    },
    {
      "cell_type": "code",
      "source": [
        "  tuple_test = 1, 2, 3, 4\n",
        "  type(tuple_test)"
      ],
      "metadata": {
        "colab": {
          "base_uri": "https://localhost:8080/"
        },
        "id": "_6k0IbJgZR09",
        "outputId": "03fd3b7d-5a14-4091-dc89-8112336b4ec8"
      },
      "execution_count": 120,
      "outputs": [
        {
          "output_type": "execute_result",
          "data": {
            "text/plain": [
              "tuple"
            ]
          },
          "metadata": {},
          "execution_count": 120
        }
      ]
    },
    {
      "cell_type": "code",
      "source": [
        "print(tuple_test)"
      ],
      "metadata": {
        "colab": {
          "base_uri": "https://localhost:8080/"
        },
        "id": "7eOVEnx2ZlS8",
        "outputId": "7f202a3e-1f95-4c66-c629-352269c5b02d"
      },
      "execution_count": 121,
      "outputs": [
        {
          "output_type": "stream",
          "name": "stdout",
          "text": [
            "(1, 2, 3, 4)\n"
          ]
        }
      ]
    },
    {
      "cell_type": "code",
      "source": [
        "a, b, c = 1, 2, 3"
      ],
      "metadata": {
        "id": "lNo9qSEVZn05"
      },
      "execution_count": 122,
      "outputs": []
    },
    {
      "cell_type": "code",
      "source": [
        "print(a)"
      ],
      "metadata": {
        "colab": {
          "base_uri": "https://localhost:8080/"
        },
        "id": "-ova2C7eZvyY",
        "outputId": "5a411a32-b1d7-4a0c-eafe-4f2018a86d79"
      },
      "execution_count": 123,
      "outputs": [
        {
          "output_type": "stream",
          "name": "stdout",
          "text": [
            "1\n"
          ]
        }
      ]
    },
    {
      "cell_type": "code",
      "source": [
        "print(a, b, c)"
      ],
      "metadata": {
        "colab": {
          "base_uri": "https://localhost:8080/"
        },
        "id": "jONgTQpsZwoR",
        "outputId": "32e2d281-d199-4578-e492-14171eccfbc7"
      },
      "execution_count": 124,
      "outputs": [
        {
          "output_type": "stream",
          "name": "stdout",
          "text": [
            "1 2 3\n"
          ]
        }
      ]
    },
    {
      "cell_type": "code",
      "source": [
        "type(a)"
      ],
      "metadata": {
        "colab": {
          "base_uri": "https://localhost:8080/"
        },
        "id": "AjtknAonZyq0",
        "outputId": "e731d2d7-b7a2-4742-d126-680801675181"
      },
      "execution_count": 125,
      "outputs": [
        {
          "output_type": "execute_result",
          "data": {
            "text/plain": [
              "int"
            ]
          },
          "metadata": {},
          "execution_count": 125
        }
      ]
    },
    {
      "cell_type": "code",
      "source": [
        "def test():\n",
        "  return(10, 20, 30)\n",
        "\n",
        "a, b, c = test()\n",
        "\n",
        "print(\"a:\", a, \"b:\", b, 'c:', c)"
      ],
      "metadata": {
        "colab": {
          "base_uri": "https://localhost:8080/"
        },
        "id": "uyHjWN5JZ0F-",
        "outputId": "1aec6c62-4b64-495e-ac9b-c092449a2c82"
      },
      "execution_count": 127,
      "outputs": [
        {
          "output_type": "stream",
          "name": "stdout",
          "text": [
            "a: 10 b: 20 c: 30\n"
          ]
        }
      ]
    },
    {
      "cell_type": "markdown",
      "source": [
        "# 실습 : 컴퓨터와의 가위바위보 만들기, 사용자의 값을 입력 받고 컴퓨터의 랜덤값을 비교하여 결과 출력.(가위:0, 바위:1, 보:2)"
      ],
      "metadata": {
        "id": "Joa6PRHjasN8"
      }
    },
    {
      "cell_type": "code",
      "source": [
        "import random\n",
        "\n",
        "computer = random.choice([0,1,2])    #리스트 안의 값을 임의로 하나 출력\n",
        "user = int(input(\"가위(0)바위(1)보(2)\"))\n",
        "\n",
        "print(\"com : {}, you : {}\".format(computer, user))\n",
        "\n",
        "diff = abs(computer - user)\n",
        "\n",
        "if diff == 0 : \n",
        "  print(\"draw\")\n",
        "elif diff == 2 :\n",
        "  if computer > user :\n",
        "    print(\"user win\")\n",
        "  else :\n",
        "    print(\"computer win\")\n",
        "else: \n",
        "  if computer < user :\n",
        "    print(\"user win\")\n",
        "  else:\n",
        "    print(\"computer win\")\n",
        "\n",
        "  \n"
      ],
      "metadata": {
        "colab": {
          "base_uri": "https://localhost:8080/"
        },
        "id": "1U02DxxNZ2xF",
        "outputId": "2864c08e-a8ba-4edb-a64e-9509f83adf51"
      },
      "execution_count": 140,
      "outputs": [
        {
          "output_type": "stream",
          "name": "stdout",
          "text": [
            "가위(0)바위(1)보(2)0\n",
            "com : 2, you : 0\n",
            "user win\n"
          ]
        }
      ]
    },
    {
      "cell_type": "code",
      "source": [
        ""
      ],
      "metadata": {
        "id": "BqZ1DuapbjcT"
      },
      "execution_count": null,
      "outputs": []
    }
  ]
}