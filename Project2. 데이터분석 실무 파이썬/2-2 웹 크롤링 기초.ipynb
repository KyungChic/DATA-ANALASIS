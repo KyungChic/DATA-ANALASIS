{
 "cells": [
  {
   "cell_type": "code",
   "execution_count": 1,
   "metadata": {},
   "outputs": [
    {
     "ename": "ModuleNotFoundError",
     "evalue": "No module named 'selenium'",
     "output_type": "error",
     "traceback": [
      "\u001b[1;31m---------------------------------------------------------------------------\u001b[0m",
      "\u001b[1;31mModuleNotFoundError\u001b[0m                       Traceback (most recent call last)",
      "\u001b[1;32m<ipython-input-1-93833772b63f>\u001b[0m in \u001b[0;36m<module>\u001b[1;34m()\u001b[0m\n\u001b[1;32m----> 1\u001b[1;33m \u001b[1;32mfrom\u001b[0m \u001b[0mselenium\u001b[0m \u001b[1;32mimport\u001b[0m \u001b[0mwebdriver\u001b[0m\u001b[1;33m\u001b[0m\u001b[0m\n\u001b[0m",
      "\u001b[1;31mModuleNotFoundError\u001b[0m: No module named 'selenium'"
     ]
    }
   ],
   "source": [
    "#1. selenium import 하기\n",
    "## 설치 안됐으면 설치해주어야함\n",
    "from selenium import webdriver"
   ]
  },
  {
   "cell_type": "code",
   "execution_count": 2,
   "metadata": {},
   "outputs": [
    {
     "name": "stdout",
     "output_type": "stream",
     "text": [
      "Collecting selenium\n",
      "  Downloading https://files.pythonhosted.org/packages/80/d6/4294f0b4bce4de0abf13e17190289f9d0613b0a44e5dd6a7f5ca98459853/selenium-3.141.0-py2.py3-none-any.whl (904kB)\n",
      "Requirement already satisfied: urllib3 in c:\\users\\gargantua\\anaconda3\\lib\\site-packages (from selenium) (1.22)\n",
      "Installing collected packages: selenium\n",
      "Successfully installed selenium-3.141.0\n"
     ]
    },
    {
     "name": "stderr",
     "output_type": "stream",
     "text": [
      "distributed 1.21.8 requires msgpack, which is not installed.\n",
      "You are using pip version 10.0.1, however version 21.0.1 is available.\n",
      "You should consider upgrading via the 'python -m pip install --upgrade pip' command.\n"
     ]
    }
   ],
   "source": [
    "#1-1. 셀레니움 설치\n",
    "! pip install selenium"
   ]
  },
  {
   "cell_type": "code",
   "execution_count": 3,
   "metadata": {},
   "outputs": [],
   "source": [
    "from selenium import webdriver"
   ]
  },
  {
   "cell_type": "code",
   "execution_count": 4,
   "metadata": {},
   "outputs": [],
   "source": [
    "#1-2. 크롬드라이버 설치\n",
    "\n",
    "## 메뉴 - 도움말 - 정보 - 버전 앞 두자릿수 확인\n",
    "### https://sites.google.com/a/chromium.org/chromedriver/downloads"
   ]
  },
  {
   "cell_type": "code",
   "execution_count": 1,
   "metadata": {},
   "outputs": [],
   "source": [
    "#1-3. 크롬드라이버 활용하기\n",
    "## 크롬드라이버 열기\n",
    "\n",
    "from selenium import webdriver\n",
    "driver = webdriver.Chrome(r'C:\\Users\\Gargantua\\Desktop\\files\\chromedriver.exe')"
   ]
  },
  {
   "cell_type": "code",
   "execution_count": 6,
   "metadata": {},
   "outputs": [],
   "source": [
    "#1-3-1. 웹페이지접속\n",
    "##크롬드라이버가 열려 있는 상태에서 조작해야 함.\n",
    "\n",
    "url = 'https://www.naver.com/'\n",
    "driver.get(url)"
   ]
  },
  {
   "cell_type": "code",
   "execution_count": 2,
   "metadata": {},
   "outputs": [],
   "source": [
    "#2. HTML 열기\n",
    "\n",
    "url = r'file:///C:/Users/Gargantua/Desktop/data_analysis/Project2.%20%EB%8D%B0%EC%9D%B4%ED%84%B0%EB%B6%84%EC%84%9D%20%EC%8B%A4%EB%AC%B4%20%ED%8C%8C%EC%9D%B4%EC%8D%AC/FILES/2_Data_Analysis_Basic/files/sample.html'\n",
    "driver.get(url)\n"
   ]
  },
  {
   "cell_type": "code",
   "execution_count": 6,
   "metadata": {},
   "outputs": [
    {
     "name": "stdout",
     "output_type": "stream",
     "text": [
      "<html><head>\n",
      "\t</head>\n",
      "\t<body>\n",
      "\t\t<h1> 우리동네시장</h1>\n",
      "\t\t\t<div class=\"sale\">\n",
      "\t\t\t\t<p id=\"fruits1\" clss=\"fruits\">\n",
      "\t\t\t\t\t<span class=\"name\"> 바나나 </span>\n",
      "\t\t\t\t\t<span class=\"price\"> 3000원 </span>\n",
      "\t\t\t\t\t<span class=\"inventory\"> 500개 </span>\n",
      "\t\t\t\t\t<span class=\"store\"> 가나다상회 </span>\n",
      "\t\t\t\t\t<a href=\"http://bit.ly/forPlaywithData\"> 홈페이지 </a>\n",
      "\t\t\t\t</p>\n",
      "\t\t\t</div>\n",
      "\t\t\t\n",
      "\t\t\t<div class=\"prepare\">\n",
      "\t\t\t\t<p id=\"fruits2\" class=\"fruits\">\n",
      "\t\t\t\t\t<span class=\"name\"> 파인애플 </span>\n",
      "\t\t\t\t</p>\n",
      "\t\t\t</div>\n",
      "\t\n",
      "\n",
      "\t\t\t\t\t</body></html>\n"
     ]
    }
   ],
   "source": [
    "html = driver.page_source\n",
    "print(html)"
   ]
  },
  {
   "cell_type": "code",
   "execution_count": 5,
   "metadata": {},
   "outputs": [],
   "source": [
    "#2-1. BeautifulSoup을 이용한 정보 찾기\n",
    "\n",
    "from bs4 import BeautifulSoup\n",
    "\n",
    "soup = BeautifulSoup(html, 'html.parser')  ## html변수 안에 있는 문자열 정보를  HTML 형식에 맞게 해석해서 찾도록 준비함"
   ]
  },
  {
   "cell_type": "code",
   "execution_count": 23,
   "metadata": {},
   "outputs": [
    {
     "name": "stdout",
     "output_type": "stream",
     "text": [
      "[<span class=\"name\"> 바나나 </span>, <span class=\"price\"> 3000원 </span>, <span class=\"inventory\"> 500개 </span>, <span class=\"store\"> 가나다상회 </span>, <span class=\"name\"> 파인애플 </span>]\n",
      "\n",
      "\n",
      "\n",
      "[<p clss=\"fruits\" id=\"fruits1\">\n",
      "<span class=\"name\"> 바나나 </span>\n",
      "<span class=\"price\"> 3000원 </span>\n",
      "<span class=\"inventory\"> 500개 </span>\n",
      "<span class=\"store\"> 가나다상회 </span>\n",
      "<a href=\"http://bit.ly/forPlaywithData\"> 홈페이지 </a>\n",
      "</p>, <p class=\"fruits\" id=\"fruits2\">\n",
      "<span class=\"name\"> 파인애플 </span>\n",
      "</p>]\n"
     ]
    }
   ],
   "source": [
    "#2-2. 태그속성 활용.\n",
    "\n",
    "#2-2-1. 태그명을 활용하여 HTML 내 정보 찾기\n",
    "\n",
    "tags_span = soup.select('span') #tag명이 span인 태그를 모두 찾아 변수에 저장\n",
    "tags_p = soup.select('p') #tag명이 p인 태그를 모두 찾아 변수에 저장\n",
    "\n",
    "print(tags_span)\n",
    "print('\\n\\n')\n",
    "print(tags_p)"
   ]
  },
  {
   "cell_type": "code",
   "execution_count": 25,
   "metadata": {},
   "outputs": [
    {
     "name": "stdout",
     "output_type": "stream",
     "text": [
      "[<p clss=\"fruits\" id=\"fruits1\">\n",
      "<span class=\"name\"> 바나나 </span>\n",
      "<span class=\"price\"> 3000원 </span>\n",
      "<span class=\"inventory\"> 500개 </span>\n",
      "<span class=\"store\"> 가나다상회 </span>\n",
      "<a href=\"http://bit.ly/forPlaywithData\"> 홈페이지 </a>\n",
      "</p>]\n",
      "\n",
      "[<span class=\"price\"> 3000원 </span>]\n",
      "\n",
      "[<span class=\"price\"> 3000원 </span>]\n"
     ]
    }
   ],
   "source": [
    "ids_fruits1 = soup.select('#fruits1')            #id값이 'fruits1' 인 태그를 모두 찾아 변수에 저장\n",
    "class_price = soup.select('.price')            #class 명이 'price'인 태그를 모두 찾아 변수에 저장    \n",
    "tags_span_class_price = soup.select('span.price')            #태그명이 'span'이면서 class명이 'price'인 태그를 모두 저장\n",
    "\n",
    "print(ids_fruits1, class_price, tags_span_class_price, sep='\\n\\n')\n",
    "\n",
    "\n",
    "## class 속성은 글꼴, 배경색 등의 서식을 지정하기 위해 사용되며, HTML 내에서 동일한 class명이 여러 번 사용될 수 있음\n",
    "## id 값은 특정 대상을 지정하기 위해 사용되므로 HTML 내에서 한 번만 사용 가능."
   ]
  },
  {
   "cell_type": "code",
   "execution_count": 7,
   "metadata": {},
   "outputs": [
    {
     "name": "stdout",
     "output_type": "stream",
     "text": [
      "[<span class=\"name\"> 바나나 </span>, <span class=\"name\"> 파인애플 </span>]\n"
     ]
    }
   ],
   "source": [
    "#2-2-2. 상위 구조를 활용하여 HTML 내 정보 찾기\n",
    "\n",
    "tags_name = soup.select('span.name') #태그명이 span이면서 class명이 name인 태그를 모두 저장\n",
    "print(tags_name)"
   ]
  },
  {
   "cell_type": "code",
   "execution_count": 8,
   "metadata": {},
   "outputs": [
    {
     "name": "stdout",
     "output_type": "stream",
     "text": [
      "[<span class=\"name\"> 바나나 </span>]\n"
     ]
    }
   ],
   "source": [
    "##ID값 활용\n",
    "\n",
    "tags_banana1 = soup.select('#fruits1 > span.name') #ID명이 fruits1 인 span 태그의 name class를 저장\n",
    "print(tags_banana1)"
   ]
  },
  {
   "cell_type": "code",
   "execution_count": 15,
   "metadata": {},
   "outputs": [
    {
     "name": "stdout",
     "output_type": "stream",
     "text": [
      "[<span class=\"name\"> 바나나 </span>]\n"
     ]
    }
   ],
   "source": [
    "##div class 값 > id 값 활용\n",
    "\n",
    "tags_banana2 = soup.select('div.sale > #fruits1 > span.name')\n",
    "print(tags_banana2)"
   ]
  },
  {
   "cell_type": "code",
   "execution_count": 17,
   "metadata": {},
   "outputs": [
    {
     "name": "stdout",
     "output_type": "stream",
     "text": [
      "[<span class=\"name\"> 바나나 </span>]\n"
     ]
    }
   ],
   "source": [
    "##div class 값 활용\n",
    "\n",
    "tags_banana3 = soup.select('div.sale span.name') #여러 단계의 하위를 나타낼 때에는 '>'가 아니라 ' '(한칸 띄기) 이용한다.\n",
    "print(tags_banana3)"
   ]
  },
  {
   "cell_type": "code",
   "execution_count": 18,
   "metadata": {},
   "outputs": [
    {
     "name": "stdout",
     "output_type": "stream",
     "text": [
      "<span class=\"name\"> 바나나 </span>\n"
     ]
    }
   ],
   "source": [
    "#2-2-3. 태그 그룹에서 하나의 태그 선택하기\n",
    "\n",
    "tags = soup.select('span.name')\n",
    "tag_1 = tags[0]\n",
    "\n",
    "print(tag_1)"
   ]
  },
  {
   "cell_type": "code",
   "execution_count": 20,
   "metadata": {},
   "outputs": [
    {
     "name": "stdout",
     "output_type": "stream",
     "text": [
      "<span class=\"name\"> 바나나 </span>\n",
      "<span class=\"name\"> 파인애플 </span>\n"
     ]
    }
   ],
   "source": [
    "##반복문을 활용\n",
    "\n",
    "tags = soup.select('span.name')\n",
    "for tag in tags:\n",
    "    print(tag)"
   ]
  },
  {
   "cell_type": "code",
   "execution_count": 23,
   "metadata": {},
   "outputs": [
    {
     "name": "stdout",
     "output_type": "stream",
     "text": [
      "content =  홈페이지 \n",
      "\n",
      "link = http://bit.ly/forPlaywithData\n"
     ]
    }
   ],
   "source": [
    "#2-2-4. 선택한 태그에서 정보 불러오기\n",
    "\n",
    "##하이퍼링크 정보 활용하기\n",
    "\n",
    "tags = soup.select('a')\n",
    "tag = tags[0]\n",
    "content = tag.text  #화면에 보이는 text를 저장 (태그에서 화면에 보이는 텍스트 부분만 가져오기)\n",
    "\n",
    "link = tag['href']  #하이퍼링크의 주소 값을 저장 (태그 내 속성값 가져오기)\n",
    "\n",
    "print('content = ' + content + '\\n\\n' + 'link = ' + link)"
   ]
  },
  {
   "cell_type": "code",
   "execution_count": null,
   "metadata": {},
   "outputs": [],
   "source": []
  }
 ],
 "metadata": {
  "kernelspec": {
   "display_name": "Python 3",
   "language": "python",
   "name": "python3"
  },
  "language_info": {
   "codemirror_mode": {
    "name": "ipython",
    "version": 3
   },
   "file_extension": ".py",
   "mimetype": "text/x-python",
   "name": "python",
   "nbconvert_exporter": "python",
   "pygments_lexer": "ipython3",
   "version": "3.6.5"
  }
 },
 "nbformat": 4,
 "nbformat_minor": 2
}
