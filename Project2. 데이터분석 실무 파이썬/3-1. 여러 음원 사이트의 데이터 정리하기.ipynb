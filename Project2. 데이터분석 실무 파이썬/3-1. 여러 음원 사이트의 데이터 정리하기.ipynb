{
 "cells": [
  {
   "cell_type": "code",
   "execution_count": 126,
   "metadata": {},
   "outputs": [],
   "source": [
    "# 순위 데이터 엑셀로 저장해보기\n",
    "\n",
    "#1. 멜론"
   ]
  },
  {
   "cell_type": "code",
   "execution_count": 127,
   "metadata": {},
   "outputs": [],
   "source": [
    "from selenium import webdriver\n",
    "from bs4 import BeautifulSoup"
   ]
  },
  {
   "cell_type": "code",
   "execution_count": 128,
   "metadata": {},
   "outputs": [],
   "source": [
    "driver = webdriver.Chrome(r'C:\\Users\\Gargantua\\Desktop\\files\\chromedriver.exe')\n",
    "url = 'https://www.melon.com/chart/index.htm'\n",
    "driver.get(url)"
   ]
  },
  {
   "cell_type": "code",
   "execution_count": 129,
   "metadata": {},
   "outputs": [],
   "source": [
    "html = driver.page_source\n",
    "soup = BeautifulSoup(html, 'html.parser')"
   ]
  },
  {
   "cell_type": "code",
   "execution_count": 130,
   "metadata": {},
   "outputs": [],
   "source": [
    "##데이터 추출\n",
    "\n",
    "song_data = []\n",
    "rank = 1\n",
    "\n",
    "songs = soup.select('table > tbody > tr')\n",
    "for song in songs:\n",
    "    title = song.select('div.ellipsis.rank01 > span > a')[0].text\n",
    "    \n",
    "    artists = ''\n",
    "    singers = song.select('div.ellipsis.rank02 > a')\n",
    "    \n",
    "    for singer in singers:\n",
    "        artists = artists + '  ' + singer.text\n",
    "    \n",
    "    song_data.append(['Melon', rank, title, artists])\n",
    "    \n",
    "    rank = rank + 1"
   ]
  },
  {
   "cell_type": "code",
   "execution_count": 131,
   "metadata": {},
   "outputs": [],
   "source": [
    "##데이터 저장\n",
    "\n",
    "import pandas as pd\n",
    "\n",
    "columns = ['서비스', '순위', '타이틀', '가수']\n",
    "\n",
    "pd_data = pd.DataFrame(song_data, columns = columns)\n",
    "\n",
    "pd_data.to_excel(r'C:\\Users\\Gargantua\\Desktop\\files\\Music_Rank\\멜론.xlsx', index = False)"
   ]
  },
  {
   "cell_type": "code",
   "execution_count": 132,
   "metadata": {},
   "outputs": [],
   "source": [
    "\n",
    "\n",
    "#2. 벅스뮤직\n",
    "\n"
   ]
  },
  {
   "cell_type": "code",
   "execution_count": 133,
   "metadata": {},
   "outputs": [],
   "source": [
    "from selenium import webdriver\n",
    "from bs4 import BeautifulSoup"
   ]
  },
  {
   "cell_type": "code",
   "execution_count": 134,
   "metadata": {},
   "outputs": [],
   "source": [
    "driver = webdriver.Chrome(r'C:\\Users\\Gargantua\\Desktop\\files\\chromedriver.exe')\n",
    "url = 'https://music.bugs.co.kr/chart'\n",
    "driver.get(url)"
   ]
  },
  {
   "cell_type": "code",
   "execution_count": 135,
   "metadata": {},
   "outputs": [],
   "source": [
    "html = driver.page_source\n",
    "soup = BeautifulSoup(html, 'html.parser')"
   ]
  },
  {
   "cell_type": "code",
   "execution_count": 146,
   "metadata": {},
   "outputs": [
    {
     "data": {
      "text/plain": [
       "[]"
      ]
     },
     "execution_count": 146,
     "metadata": {},
     "output_type": "execute_result"
    }
   ],
   "source": [
    "songs = soup.select('table.list.trackList.byChart > tbody > tr')\n",
    "\n",
    "rank = 1\n",
    "song_db = []\n",
    "\n",
    "for song in songs:\n",
    "    title = song.select('p.title > a')[0].text.strip()\n",
    "    artist = song.select('p.artist > a')[0].text.strip()\n",
    "    \n",
    "    song_db.append(['Bugs', rank, title, artist])\n",
    "    rank=rank+1\n",
    "\n",
    "song_db"
   ]
  },
  {
   "cell_type": "code",
   "execution_count": 137,
   "metadata": {},
   "outputs": [],
   "source": [
    "import pandas as pd\n",
    "\n",
    "columns = ['서비스', '순위', '타이틀', '가수']\n",
    "\n",
    "pd_data = pd.DataFrame(song_db, columns = columns)\n",
    "\n",
    "pd_data.to_excel(r'C:\\Users\\Gargantua\\Desktop\\files\\Music_Rank\\벅스.xlsx', index=False)"
   ]
  },
  {
   "cell_type": "code",
   "execution_count": 138,
   "metadata": {},
   "outputs": [],
   "source": [
    "\n",
    "\n",
    "#3. 지니뮤직\n",
    "\n"
   ]
  },
  {
   "cell_type": "code",
   "execution_count": 139,
   "metadata": {},
   "outputs": [],
   "source": [
    "from selenium import webdriver\n",
    "from bs4 import BeautifulSoup"
   ]
  },
  {
   "cell_type": "code",
   "execution_count": 140,
   "metadata": {},
   "outputs": [],
   "source": [
    "driver = webdriver.Chrome(r'C:\\Users\\Gargantua\\Desktop\\files\\chromedriver.exe')\n",
    "url = 'https://www.genie.co.kr/chart/top200'\n",
    "driver.get(url)"
   ]
  },
  {
   "cell_type": "code",
   "execution_count": 141,
   "metadata": {},
   "outputs": [],
   "source": [
    "html = driver.page_source\n",
    "soup = BeautifulSoup(html, 'html.parser')"
   ]
  },
  {
   "cell_type": "code",
   "execution_count": 142,
   "metadata": {},
   "outputs": [],
   "source": [
    "songs = soup.select('table.list-wrap > tbody > tr')\n",
    "\n",
    "rank = 1\n",
    "songs_db = []\n",
    "\n",
    "for song in songs:\n",
    "    title = song.select('td.info > a.title.ellipsis')[0].text.strip()\n",
    "    artist = song.select('td.info > a.artist.ellipsis')[0].text.strip()\n",
    "    \n",
    "    songs_db.append(['Genie', rank, title, artist])\n",
    "    rank = rank + 1"
   ]
  },
  {
   "cell_type": "code",
   "execution_count": 143,
   "metadata": {},
   "outputs": [],
   "source": [
    "import pandas as pd\n",
    "\n",
    "songs_df = pd.DataFrame(songs_db, columns=['서비스', '순위', '타이틀', '가수'])\n",
    "\n",
    "songs_df.to_excel(r'C:\\Users\\Gargantua\\Desktop\\files\\Music_Rank\\지니.xlsx', index=False)"
   ]
  },
  {
   "cell_type": "code",
   "execution_count": 144,
   "metadata": {},
   "outputs": [],
   "source": [
    "\n",
    "\n",
    "#4 크롤링 엑셀파일 통합하기\n",
    "\n"
   ]
  },
  {
   "cell_type": "code",
   "execution_count": 147,
   "metadata": {},
   "outputs": [],
   "source": [
    "import pandas as pd\n",
    "\n",
    "excel_names = [r'C:\\Users\\Gargantua\\Desktop\\files\\Music_Rank\\멜론.xlsx', r'C:\\Users\\Gargantua\\Desktop\\files\\Music_Rank\\벅스.xlsx', r'C:\\Users\\Gargantua\\Desktop\\files\\Music_Rank\\지니.xlsx']\n",
    "\n",
    "appended_data = pd.DataFrame()\n",
    "\n",
    "for name in excel_names:\n",
    "    pd_data = pd.read_excel(name)\n",
    "    appended_data = appended_data.append(pd_data)\n",
    "\n",
    "appended_data.to_excel(r'C:\\Users\\Gargantua\\Desktop\\files\\Music_Rank\\total.xlsx')"
   ]
  },
  {
   "cell_type": "code",
   "execution_count": null,
   "metadata": {},
   "outputs": [],
   "source": []
  }
 ],
 "metadata": {
  "kernelspec": {
   "display_name": "Python 3",
   "language": "python",
   "name": "python3"
  },
  "language_info": {
   "codemirror_mode": {
    "name": "ipython",
    "version": 3
   },
   "file_extension": ".py",
   "mimetype": "text/x-python",
   "name": "python",
   "nbconvert_exporter": "python",
   "pygments_lexer": "ipython3",
   "version": "3.6.5"
  }
 },
 "nbformat": 4,
 "nbformat_minor": 2
}
