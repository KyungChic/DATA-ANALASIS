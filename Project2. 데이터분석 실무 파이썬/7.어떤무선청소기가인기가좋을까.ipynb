{
 "cells": [
  {
   "cell_type": "code",
   "execution_count": 1,
   "metadata": {},
   "outputs": [],
   "source": [
    "#다나와 url 접속\n",
    "\n",
    "from selenium import webdriver\n",
    "browser = webdriver.Chrome(r'C:\\Users\\Gargantua\\Desktop\\files\\chromedriver.exe')\n",
    "url = 'http://search.danawa.com/dsearch.php?k1=%EB%AC%B4%EC%84%A0%EC%B2%AD%EC%86%8C%EA%B8%B0&module=goods&act=dispMain'\n",
    "browser.get(url)"
   ]
  },
  {
   "cell_type": "code",
   "execution_count": 2,
   "metadata": {},
   "outputs": [],
   "source": [
    "from bs4 import BeautifulSoup\n",
    "\n",
    "html = browser.page_source\n",
    "soup = BeautifulSoup(html, 'html.parser')"
   ]
  },
  {
   "cell_type": "code",
   "execution_count": 3,
   "metadata": {},
   "outputs": [
    {
     "data": {
      "text/plain": [
       "47"
      ]
     },
     "execution_count": 3,
     "metadata": {},
     "output_type": "execute_result"
    }
   ],
   "source": [
    "prod_item = soup.select('li.prod_item')\n",
    "len(prod_item)"
   ]
  },
  {
   "cell_type": "code",
   "execution_count": 4,
   "metadata": {},
   "outputs": [
    {
     "data": {
      "text/plain": [
       "44"
      ]
     },
     "execution_count": 4,
     "metadata": {},
     "output_type": "execute_result"
    }
   ],
   "source": [
    "prod_item = soup.select('ul.product_list > li.prod_item > div.prod_main_info')\n",
    "len(prod_item)"
   ]
  },
  {
   "cell_type": "code",
   "execution_count": 5,
   "metadata": {},
   "outputs": [
    {
     "data": {
      "text/plain": [
       "'치후360 S9 MAX'"
      ]
     },
     "execution_count": 5,
     "metadata": {},
     "output_type": "execute_result"
    }
   ],
   "source": [
    "title = prod_item[0].select('div.prod_info > p > a')[0].text.strip()\n",
    "title"
   ]
  },
  {
   "cell_type": "code",
   "execution_count": 6,
   "metadata": {},
   "outputs": [
    {
     "data": {
      "text/plain": [
       "'로봇청소기 / 흡입+걸레 / [센서] LDS라이다센서 / 장애물인식센서 / 추락방지센서 / [성능] BLDC모터 / 흡입력: 2650Pa / 배터리: 리튬이온 / 용량: 5200mAh / 사용시간: 3시간20분(개당) / 헤파필터 / 소음: 54dB / 소비전력: 30W / [기능] 스마트폰제어: 간편업데이트, 금지구역, 원격예약, 원격청소 / 스마트맵핑 / 리모콘 / [부가] 먼지통용량: 0.42L / 물통용량: 0.2L / 색상: 화이트 / 무게: 3.9kg / 크기(가로x세로x깊이): 350x100x350mm'"
      ]
     },
     "execution_count": 6,
     "metadata": {},
     "output_type": "execute_result"
    }
   ],
   "source": [
    "prod_spec = prod_item[0].select('div.prod_info > dl.prod_spec_set > dd > div')[0].text.strip().replace('\\n\\t \\t\\t\\t\\t\\t\\t\\t\\t', \"\")\n",
    "prod_spec"
   ]
  },
  {
   "cell_type": "code",
   "execution_count": 7,
   "metadata": {},
   "outputs": [
    {
     "data": {
      "text/plain": [
       "'484030'"
      ]
     },
     "execution_count": 7,
     "metadata": {},
     "output_type": "execute_result"
    }
   ],
   "source": [
    "price = prod_item[0].select('div.prod_pricelist > ul > li > p.price_sect > a > strong')[0].text.strip().replace(\",\",\"\")\n",
    "price"
   ]
  },
  {
   "cell_type": "code",
   "execution_count": 103,
   "metadata": {},
   "outputs": [],
   "source": [
    "#반복문 통해 취합하기\n",
    "\n",
    "def get_prod_items(prod_items):\n",
    "    \n",
    "    prod_data = []\n",
    "\n",
    "    for prod in prod_items:\n",
    "        try:\n",
    "            title = prod.select('div.prod_info > p > a')[0].text.strip()\n",
    "        except:\n",
    "            title = ''\n",
    "    \n",
    "        try:\n",
    "            prod_spec = prod.select('div.prod_info > dl.prod_spec_set > dd > div')[0].text.strip().replace('\\n\\t \\t\\t\\t\\t\\t\\t\\t\\t', \"\")\n",
    "        except:\n",
    "            prod_spec = ''\n",
    "    \n",
    "        try:\n",
    "            price = prod.select('div.prod_pricelist > ul > li > p.price_sect > a > strong')[0].text.strip().replace(\",\",\"\")\n",
    "        except:\n",
    "            prod_spec = 0\n",
    "            \n",
    "        \n",
    "        if title == '' or len(title.split(' ')) == 1:\n",
    "            continue\n",
    "\n",
    "        prod_data.append([title, prod_spec, price])\n",
    "    \n",
    "    return prod_data"
   ]
  },
  {
   "cell_type": "code",
   "execution_count": 104,
   "metadata": {},
   "outputs": [
    {
     "name": "stdout",
     "output_type": "stream",
     "text": [
      "40\n"
     ]
    }
   ],
   "source": [
    "prod_item = soup.select('li.prod_item')\n",
    "\n",
    "prod_data = get_prod_items(prod_item)\n",
    "\n",
    "print(len(prod_data))"
   ]
  },
  {
   "cell_type": "code",
   "execution_count": 105,
   "metadata": {},
   "outputs": [
    {
     "data": {
      "text/plain": [
       "[['일렉트로룩스 퓨어 F9 PF91-5EBF',\n",
       "  '핸디/스틱청소기 / 스틱형 / 무선형 / 흡입전용 / [배터리] 리튬이온 / 충전시간: 6시간 / 사용시간: 55분(개당) / [필터] 5단계여과 / [기능] 먼지감지센서 / 셀프스탠딩 / LED라이트 / 배터리잔량표시 / [구성품] 바닥 / 침구 / 더스팅 / 3in1 / 업탑어댑터 / 거치대 / [부가] 먼지통용량: 0.7L / 알레르기인증(BAF) / 색상: 인디고블루 / 무게: 4.1kg / 플렉스리프트 / 크기(가로x세로x깊이): 215x1200x249mm',\n",
       "  '235110'],\n",
       " ['JDL tech 트위스터',\n",
       "  '물걸레청소기 / 스틱+핸디형 / 왕복식 / 무선형 / 용량: 2200mAh / 충전시간: 5시간 / 사용시간: 1시간50분(개당) / [기능] 물분사 / LED라이트 / 각도조절 / 셀프스탠딩 / 배터리잔량표시 / 프리볼트 / 소비전력: 25W / [부가] 색상: 화이트 / 무게: 2.4kg / 모터과열방지 / 과충전방지 / 크기(가로x세로x깊이): 270x1160x270mm',\n",
       "  '115900'],\n",
       " ['샤오미 COCLEAN 차량용 무선 청소기 가정용 충전기 220V', '차량용청소기 / 어댑터 / 가정용 충전기', '10580'],\n",
       " ['쿠쿠전자 인스퓨어 파워클론 CVC-A1420UG',\n",
       "  '핸디/스틱청소기 / 핸디+스틱형 / 무선형 / 흡입전용 / [성능] 싸이클론 / BLDC모터 / 흡입력: 140AW / 흡입력: 23000Pa / 소비전력: 420W / [배터리] 분리형 / 리튬이온 / 사용시간: 35분(개당) / [필터] 헤파필터 / H13급 / 5단계여과 / [기능] 먼지감지센서 / 배터리잔량표시 / [구성품] 바닥 / 침구 / 틈새 / 거치대 / [부가] 색상: 어반그레이 / 무게: 1.82kg / 크기(가로x세로x깊이): 250x1200x230mm',\n",
       "  '286000'],\n",
       " ['샤오미 VIOMI A9 V-HWVC12A',\n",
       "  '핸디/스틱청소기 / 핸디+스틱형 / 무선형 / 흡입전용 / [성능] 싸이클론 / DC모터 / 흡입력: 120AW / 흡입력: 23000Pa / 소비전력: 400W / [배터리] 분리형 / 리튬이온 / 용량: 2500mAh / 사용시간: 1시간(개당) / [필터] 헤파필터 / H12급 / 5단계여과 / [기능] LED라이트 / 배터리잔량표시 / 프리볼트 / [구성품] 바닥 / 침구 / 솔형 / 틈새 / 연장툴 / 거치대 / [부가] 먼지통용량: 0.4L / 색상: 블랙 / 무게: 1.54kg / 크기(가로x세로x깊이): 250x1250x235mm',\n",
       "  '229000'],\n",
       " ['SK매직 VCL-WA10',\n",
       "  '물걸레청소기 / 스틱형 / 회전식 / 무선형 / 배터리: 리튬이온 / 용량: 2150mAh / 충전시간: 3시간 / 사용시간: 30분(개당) / [기능] LED라이트 / 셀프스탠딩 / 배터리잔량표시 / 소비전력: 80W / [부가] 색상: 화이트 / 무게: 3kg / 패드: 극세사(벨크로형) / 크기(가로x세로x깊이): 410x1230x215mm',\n",
       "  '127150'],\n",
       " ['퍼피유 T12R',\n",
       "  '핸디/스틱청소기 / 핸디+스틱형 / 무선형 / 흡입전용 / [성능] 싸이클론 / BLDC모터 / 흡입력: 200AW / 흡입력: 29000Pa / 소비전력: 535W / [배터리] 리튬이온 / 용량: 2500mAh / 충전시간: 3시간30분 / 사용시간: 1시간(개당) / [필터] 헤파필터 / H13급 / 6단계여과 / [기능] 먼지감지센서 / LED라이트 / 배터리잔량표시 / [구성품] 바닥 / 침구 / 솔형 / 틈새 / 연장툴 / 거치대 / [부가] 먼지통용량: 0.42L / 색상: 실버 / 무게: 1.6kg / 크기(가로x세로x깊이): 278x1248x225mm',\n",
       "  '282350'],\n",
       " ['일렉트로룩스 퓨어 Q9 PQ91-3OB',\n",
       "  '핸디/스틱청소기 / 핸디+스틱형 / 무선형 / 흡입전용 / [성능] 싸이클론 / [배터리] 리튬이온 / 충전시간: 4시간 / 사용시간: 55분(개당) / [필터] 5단계여과 / [기능] 브러쉬자동청소 / 셀프스탠딩 / LED라이트 / [구성품] 바닥 / 솔형 / 더스팅 / 틈새 / 거치대 / [부가] 먼지통용량: 0.3L / 색상: 인디고블루 / 무게: 2.75kg / 크기(가로x세로x깊이): 256x1100x130mm',\n",
       "  '242210'],\n",
       " ['샤오미 드리미 T20',\n",
       "  '핸디/스틱청소기 / 핸디+스틱형 / 무선형 / 흡입+걸레겸용 / [성능] 싸이클론 / BLDC모터 / 흡입력: 150AW / 흡입력: 25000Pa / 소비전력: 450W / [배터리] 분리형 / 용량: 2800mAh / 충전시간: 4시간 / 사용시간: 1시간10분(개당) / [필터] 헤파필터 / H12급 / 5단계여과 / [구성품] 바닥 / 물걸레 / 침구 / 솔형 / 틈새 / 연장툴 / 거치대 / [부가] 먼지통용량: 0.6L / 물통용량: 0.25L / 색상: 레드 / 무게: 1.67kg / 크기(가로x세로x깊이): 259x1191x164mm',\n",
       "  '320850'],\n",
       " ['샤오미 70mai 차량용 무선 청소기 (해외구매)',\n",
       "  '차량용청소기 / 무선 / 흡입력: 5,000Pa / 최대출력: 80W / 헤파필터 / 추가노즐: 솔브러쉬 / 사용시간: 24분 / 먼지통: 100ml / 소음: 65dB / 충전시간: 3~4시간',\n",
       "  '33400'],\n",
       " ['LG전자 A749IA',\n",
       "  '핸디/스틱청소기 / 핸디+스틱형 / 무선형 / 흡입전용 / [성능] 스마트인버터모터 / 소비전력: 190W / [배터리] 분리형 / 리튬이온 (2개) / 사용시간: 20분(개당) / [기능] LED라이트 / [구성품] 바닥 / 침구 / 솔형 / 틈새 / [부가] 색상: 아이언그레이 / 크기(가로x세로x깊이): 270x1105x190mm',\n",
       "  '489000'],\n",
       " ['샤오미 로이드미 핸디 청소기 NANO (해외구매)',\n",
       "  '차량용청소기 / 무선 / 흡입력: 6,000Pa / 최대출력: 60W / 헤파필터 / LED라이트 / 사용시간: 25분 / 크기: 275x60mm / 무게: 500g / 색상: 블랙, 화이트',\n",
       "  '36460'],\n",
       " ['삼성전자 제트 VS15T7037P1',\n",
       "  '핸디/스틱청소기 / 핸디+스틱형 / 무선형 / 흡입+걸레겸용 / [성능] 싸이클론 / 인버터모터 / 흡입력: 150W / 소비전력: 410W / [배터리] 분리형 / 리튬이온 / 충전시간: 3시간30분 / 사용시간: 40분(개당) / [필터] 헤파필터 / 5단계여과 / [기능] 디스플레이표시창 / 프리볼트 / [구성품] 바닥 / 물걸레 / 솔형 / 틈새 / 연장툴 / 거치대 / 청정스테이션 / [부가] 먼지통용량: 0.5L / 알레르기인증(BAF) / 미세먼지인증(SLG) / 색상: 화이트+민트 / 무게: 2.54kg',\n",
       "  '518990'],\n",
       " ['신일전자 SVC-D900RK',\n",
       "  '핸디/스틱청소기 / 핸디형 / 무선형 / 흡입전용 / 소비전력: 40W / [배터리] 용량: 300mAh / 충전시간: 6시간30분 / 사용시간: 15분(개당) / [기능] 프리볼트 / [구성품] 틈새 / [부가] 먼지통용량: 0.4L / 물통용량: 0.1L / 색상: 화이트 / 무게: 1kg / 건습식 / 크기(가로x세로x깊이): 137x405x144mm',\n",
       "  '27500'],\n",
       " ['블랙앤데커 PV1020',\n",
       "  '핸디/스틱청소기 / 핸디형 / 무선형 / [성능] 싸이클론 / [배터리] 리튬이온 / 충전시간: 4시간 / 사용시간: 11분(개당) / [구성품] 솔형 / 틈새 / 거치대 / [부가] 색상: 블루, 오렌지 / 무게: 1.28kg / 피벗노즐 / 크기(가로x세로x깊이): 270x170x140mm',\n",
       "  '63560'],\n",
       " ['다이슨 V11 토탈클린',\n",
       "  '핸디/스틱청소기 / 핸디+스틱형 / 무선형 / [성능] 싸이클론 / 흡입력: 185AW / [배터리] 분리형 / 리튬이온 / 충전시간: 4시간30분 / 사용시간: 1시간(개당) / [기능] 디스플레이표시창 / [구성품] 하이토크 / 소프트롤러 / 미니모터 / 솔형 / 더스팅 / 스터번더트 / 틈새 / 긴틈새 / 매트리스 / 연장툴 / 업탑어댑터 / 거치대 / 도킹스테이션 / [부가] 먼지통용량: 0.54L / 색상: 쿠퍼컬러 / 무게: 2.95kg / 크기(가로x세로x깊이): 261x1280x250mm',\n",
       "  '1398380'],\n",
       " ['다이슨 V11 컴플리트 엑스트라',\n",
       "  '핸디/스틱청소기 / 핸디+스틱형 / 무선형 / [성능] 싸이클론 / 흡입력: 220AW / [배터리] 충전시간: 4시간30분 / 사용시간: 1시간(개당) / [기능] 디스플레이표시창 / [구성품] 하이토크 / 소프트롤러 / 미니모터 / 솔형 / 더스팅 / 틈새 / 매트리스 / 거치대 / 도킹스테이션 / [부가] 먼지통용량: 0.54L / 색상: 니켈블루 / 무게: 2.95kg / 크기(가로x세로x깊이): 261x1280x250mm',\n",
       "  '879700'],\n",
       " ['일렉트로룩스 에르고라피도 ZB3511DB',\n",
       "  '핸디/스틱청소기 / 핸디+스틱형 / 무선형 / 흡입전용 / [배터리] 리튬이온 / 충전시간: 4시간 / 사용시간: 35분(개당) / [필터] 4단계여과 / [기능] 브러쉬자동청소 / 셀프스탠딩 / LED라이트 / 배터리잔량표시 / [구성품] 바닥 / 틈새 / 거치대 / [부가] 먼지통용량: 0.42L / 알레르기인증(BAF) / 색상: 데님블루 / 무게: 2.5kg / 크기(가로x세로x깊이): 299x689x165mm',\n",
       "  '169500'],\n",
       " ['블루필 몽땅 BVC201',\n",
       "  '핸디/스틱청소기 / 핸디+스틱형 / 무선형 / 흡입전용 / [성능] BLDC모터 / 흡입력: 15000Pa / 소비전력: 120W / [배터리] 리튬이온 / 용량: 2000mAh / 충전시간: 2시간30분 / 사용시간: 30분(개당) / [필터] 헤파필터 / [기능] 배터리잔량표시 / [구성품] 바닥 / 틈새 / 연장툴 / 거치대 / [부가] 색상: 화이트 / 무게: 0.535kg / 크기(가로x세로x깊이): 73.4x360x73.4mm',\n",
       "  '134450'],\n",
       " ['오션 차량용 청소기 H1 PLUS',\n",
       "  '차량용청소기 / 무선 / 흡입력: 13,000Pa / 최대출력: 120W / 헤파필터 / 스테인리스 필터 / 추가노즐: 틈새 / 싸이클론 / 사용시간: 15~30분 / 배터리용량: 2,500mAh / 충전시간: 4~5시간 / 크기: 415x90mm / 무게: 550g / 색상: 화이트, 진그레이',\n",
       "  '102170'],\n",
       " ['샤오미 COCLEAN 차량용 무선 청소기 + 가정용 충전기 + 필터',\n",
       "  '차량용청소기 / 무선 / 흡입력: 5,800Pa / 최대출력: 80W / 헤파필터 / 추가노즐: 틈새, 솔브러쉬 / LED라이트 / 사용시간: 15분 / 충전시간: 1시간30분 / 충전방식: 시거잭 / 크기: 298x70mm / 무게: 560g',\n",
       "  '61230'],\n",
       " ['아이룸 AST-009 플러스',\n",
       "  '핸디/스틱청소기 / 핸디+스틱형 / 무선형 / 흡입전용 / [성능] 싸이클론 / 흡입력: 12000Pa / 소비전력: 160W / 용량: 2200mAh / 충전시간: 4시간 / 사용시간: 40분(개당) / [필터] 헤파필터 / [기능] LED라이트 / 배터리잔량표시 / [구성품] 바닥 / 침구 / 솔형 / 틈새 / 연장툴 / 거치대 / [부가] 색상: 퍼플 / 무게: 1.89kg',\n",
       "  '107240'],\n",
       " ['일렉트로룩스 에르고라피도 베드프로 ZB3323BO',\n",
       "  '핸디/스틱청소기 / 핸디+스틱형 / 무선형 / 흡입전용 / [성능] 싸이클론 / [배터리] 리튬이온 / 충전시간: 4시간 / 사용시간: 48분(개당) / [필터] 4단계여과 / [기능] 브러쉬자동청소 / 셀프스탠딩 / LED라이트 / 배터리잔량표시 / [구성품] 바닥 / 침구 / 틈새 / 거치대 / [부가] 먼지통용량: 0.42L / 알레르기인증(BAF) / 색상: 마호가니브론즈 / 무게: 3.36kg / 크기(가로x세로x깊이): 303x690x162mm',\n",
       "  '173700'],\n",
       " ['비브르 VBC700',\n",
       "  '침구청소기 / 핸디형 / 무선형 / 용량: 2200mAh / 충전시간: 5시간 / 사용시간: 40분(개당) / [기능] 청소모드: UV살균, 진동, 흡입 / 진동수: 8000회(분당) / 대상감지센서 / 바닥롤러 / 흡입력: 7000Pa / 헤파필터 / 2단계여과 / 소비전력: 90W / [부가] 먼지통용량: 0.5L / 색상: 네이비 / 무게: 1.3kg / 모터과열방지 / 과충전방지 / 과방전방지 / 미세먼지감지센서 / 크기(가로x세로x깊이): 260x175x105mm',\n",
       "  '97940'],\n",
       " ['베이스어스 차량용 무선 진공 청소기 A2 + 필터3개 (해외구매)',\n",
       "  '차량용청소기 / 무선 / 흡입력: 5,000Pa / 최대출력: 70W / 헤파필터 / 추가노즐: 솔브러쉬 / 사용시간: 18분 / 색상: 그린, 블랙, 화이트 / 60ml 먼지통 / 배터리 표시등',\n",
       "  '29800'],\n",
       " ['블랙앤데커 EBHHV320B02',\n",
       "  '핸디/스틱청소기 / 핸디형 / 무선형 / 흡입전용 / [성능] 흡입력: 26AW / [배터리] 내장형 / 리튬이온 / 충전시간: 5시간 / 사용시간: 18분(개당) / [필터] 2단계여과 / [기능] 배터리잔량표시 / 프리볼트 / [구성품] 틈새 / 거치대 / [부가] 먼지통용량: 0.7L / 색상: 블루 / 무게: 1kg',\n",
       "  '74790'],\n",
       " ['아이코넬 차량용 미니 무선청소기 VC-A100W',\n",
       "  '차량용청소기 / 무선 / 흡입력: 13,000Pa / 최대출력: 100W / 2중필터 / 헤파필터 / 추가노즐: 틈새, 솔브러쉬, 연장호스 / 사용시간: 35분 / 충전시간: 5시간 / 충전방식: 200V / 크기: 500x90mm / 무게: 850g',\n",
       "  '99000'],\n",
       " ['블랙앤데커 PV1820BK',\n",
       "  '핸디/스틱청소기 / 핸디형 / 무선형 / [성능] 싸이클론 / 흡입력: 35AW / [배터리] 리튬이온 / 충전시간: 4시간 / 사용시간: 12분(개당) / [필터] 3단계여과 / [기능] 배터리잔량표시 / 프리볼트 / [구성품] 틈새 / 거치대 / [부가] 색상: 블랙 / 무게: 1.38kg / 피벗노즐 / 크기(가로x세로x깊이): 140x270x170mm',\n",
       "  '89100'],\n",
       " ['삼성전자 제트 VS20T9278S7CC',\n",
       "  '핸디/스틱청소기 / 핸디+스틱형 / 무선형 / 흡입+걸레겸용 / [성능] 싸이클론 / 인버터모터 / 흡입력: 200W / 소비전력: 550W / [배터리] 분리형 / 리튬이온 (2개) / 충전시간: 3시간30분 / 사용시간: 1시간(개당) / [필터] 헤파필터 / 5단계여과 / [기능] 디스플레이표시창 / 프리볼트 / [구성품] 바닥 / 물걸레 / 침구 / 솔형 / 틈새 / 연장툴 / 거치대 / 청정스테이션 / [부가] 먼지통용량: 0.5L / 미세먼지인증(SLG) / 색상: 티탄골드 / 크기(가로x세로x깊이): 250x1136x215mm',\n",
       "  '1069880'],\n",
       " ['신일전자 SVC-750SG',\n",
       "  '핸디/스틱청소기 / 핸디+스틱형 / 무선형 / [성능] 흡입력: 86W / [배터리] 니켈카드뮴 / 충전시간: 8시간 / 사용시간: 15분(개당) / [구성품] 바닥 / 솔형 / 틈새 / 연장툴 / 거치대 / [부가] 색상: 실버 / 크기(가로x세로x깊이): 560x170x220mm',\n",
       "  '49700'],\n",
       " ['키친아트 KIA-BC100',\n",
       "  '욕실청소기 / 핸디+스틱형 / 무선형 / 소비전력: 10W / [배터리] 용량: 2600mAh / 충전시간: 3시간 / 사용시간: 1시간(개당) / [부가] 색상: 화이트+핑크 / 무게: 0.34kg / 방수 / 브러쉬: 평면, 일반, 모서리, 극세사, 수세미, 스폰지, 연장툴 / 크기(가로x세로x깊이): 70x1130x95mm',\n",
       "  '45000'],\n",
       " ['오토모 AVC-OTOA5',\n",
       "  '핸디/스틱청소기 / 핸디+스틱형 / 무선형 / 흡입전용 / [성능] BLDC모터 / 흡입력: 20000Pa / 소비전력: 200W / [배터리] 리튬이온 / 용량: 2000mAh / 충전시간: 5시간 / 사용시간: 1시간(개당) / [필터] 헤파필터 / H13급 / 4단계여과 / [기능] 셀프스탠딩 / LED라이트 / 배터리잔량표시 / [구성품] 바닥 / 솔형 / 틈새 / 거치대 / [부가] 색상: 그레이 / 무게: 2.32kg / 크기(가로x세로x깊이): 310x700x130mm',\n",
       "  '317100'],\n",
       " ['미로 더 플라 MAW10',\n",
       "  '물걸레청소기 / 물걸레+진공 / 회전식 / 무선형 / 배터리: 리튬이온 (2개) / 용량: 2500mAh / 충전시간: 7시간 / 사용시간: 50분(개당) / [기능] LED라이트 / 각도조절 / 배터리잔량표시 / 프리볼트 / 싸이클론 / 인버터모터 / 헤파필터 / 5단계여과 / 소비전력: 450W / [부가] 색상: 화이트골드 / 무게: 5kg / 패드: 극세사(벨크로형) / 크기(가로x세로x깊이): 410x1100x225mm',\n",
       "  '929070'],\n",
       " ['스윙 파워스윙 SWING 9000-DC',\n",
       "  '물걸레청소기 / 스틱형 / 물걸레+진공 / 회전식 / 무선형 / 배터리: 리튬이온 / 충전시간: 10시간 / 사용시간: 39분(개당) / [기능] LED라이트 / 셀프스탠딩 / 배터리잔량표시 / DC모터 / 흡입력: 8500Pa / 4단계여과 / 소비전력: 116W / [부가] 색상: 네이비 / 무게: 4.8kg / 과부하감지장치 / 패드: 극세사(벨크로형) / 크기(가로x세로x깊이): 342x1152x232mm',\n",
       "  '245520'],\n",
       " ['일렉트로룩스 에르고라피도 파워프로 ZB3423BO',\n",
       "  '핸디/스틱청소기 / 핸디+스틱형 / 무선형 / 흡입전용 / [배터리] 리튬이온 / 충전시간: 4시간 / 사용시간: 48분(개당) / [필터] 4단계여과 / [기능] 셀프스탠딩 / 배터리잔량표시 / [구성품] 바닥 / 침구 / 틈새 / 거치대 / [부가] 먼지통용량: 0.42L / 알레르기인증(BAF) / 색상: 마호가니브론즈 / 무게: 3.4kg',\n",
       "  '233930'],\n",
       " ['스위스밀리터리 아쿠아스피닝 D88',\n",
       "  '물걸레청소기 / 스틱형 / 물걸레전용 / 회전식 / 무선형 / 용량: 2200mAh / 충전시간: 4시간 / 사용시간: 25분(개당) / [기능] 각도조절 / 거치대 / [부가] 물통용량: 0.4L / 색상: 화이트 / 무게: 2.5kg / 브러쉬자동세척 / 크기(가로x세로x깊이): 304x1200x250mm',\n",
       "  '189000'],\n",
       " ['인트비즈 MORUN 싸이클론 차량용 무선 청소기 V2',\n",
       "  '차량용청소기 / 무선 / 12V / 흡입력: 5,500Pa / 최대출력: 120W / 3중필터 / 헤파필터 / 추가노즐: 틈새, 솔브러쉬, 연장호스 / 싸이클론 / LED라이트 / 사용시간: 25분 / 코드길이: 4.5m / 충전시간: 3시간 / 충전방식: 시거잭, 220V / 크기: 360x110x180mm',\n",
       "  '98000'],\n",
       " ['라우쉬 (RAUSCH) LSDS-7000',\n",
       "  '물걸레청소기 / 스틱형 / 회전식 / 무선형 / 용량: 2000mAh / 충전시간: 4시간 / 사용시간: 30분(개당) / [기능] 물분사 / LED라이트 / 각도조절 / 셀프스탠딩 / 소비전력: 30W / [부가] 색상: 블랙 / 무게: 1.8kg / 크기(가로x세로x깊이): 335x1100x180mm',\n",
       "  '69000'],\n",
       " ['이나프 VH-1600',\n",
       "  '핸디/스틱청소기 / 핸디+스틱형 / 무선형 / [성능] 싸이클론 / BLDC모터 / 흡입력: 19000Pa / 소비전력: 180W / [배터리] 분리형 / 리튬이온 / 용량: 2200mAh / 충전시간: 4시간30분 / 사용시간: 35분(개당) / [필터] 헤파필터 / H13급 / 3단계여과 / [기능] 배터리잔량표시 / 프리볼트 / [구성품] 바닥 / 솔형 / 틈새 / 거치대 / [부가] 색상: 메트로블루, 메트로골드 / 무게: 1.5kg / 크기(가로x세로x깊이): 305x225x117mm',\n",
       "  '69000'],\n",
       " ['마이프랜드 MF-750V',\n",
       "  '핸디/스틱청소기 / 핸디형 / 무선형 / 소비전력: 5W / [구성품] 솔형 / 틈새 / 거치대 / [부가] 색상: 화이트+퍼플 / 무게: 1.5kg / 크기(가로x세로x깊이): 65x365x110mm',\n",
       "  '35270']]"
      ]
     },
     "execution_count": 105,
     "metadata": {},
     "output_type": "execute_result"
    }
   ],
   "source": [
    "prod_data"
   ]
  },
  {
   "cell_type": "code",
   "execution_count": 94,
   "metadata": {},
   "outputs": [],
   "source": [
    "#검색 URL 함수\n",
    "\n",
    "def get_search_page_url(keyword, page):\n",
    "\n",
    "    return 'http://search.danawa.com/dsearch.php?query={}&volumeType=allvs&page={}&limit=40&sort=saveDESC&list=list&boost=true&addDelivery=N&recommendedSort=Y&defaultUICategoryCode=103740&defaultPhysicsCategoryCode=72%7C80%7C81%7C0&defaultVmTab=2494&defaultVaTab=156954&tab=goods'.format(keyword, page)"
   ]
  },
  {
   "cell_type": "code",
   "execution_count": 29,
   "metadata": {},
   "outputs": [
    {
     "name": "stdout",
     "output_type": "stream",
     "text": [
      "http://search.danawa.com/dsearch.php?query=무선청소기&volumeType=allvs&page=1&limit=40&sort=saveDESC&list=list&boost=true&addDelivery=N&recommendedSort=Y&defaultUICategoryCode=103740&defaultPhysicsCategoryCode=72%7C80%7C81%7C0&defaultVmTab=2494&defaultVaTab=156954&tab=goods\n"
     ]
    }
   ],
   "source": [
    "keyword = '무선청소기'\n",
    "page = 1\n",
    "url = get_search_page_url(keyword, page)\n",
    "print(url)"
   ]
  },
  {
   "cell_type": "code",
   "execution_count": 30,
   "metadata": {},
   "outputs": [],
   "source": []
  },
  {
   "cell_type": "code",
   "execution_count": 31,
   "metadata": {},
   "outputs": [],
   "source": [
    "#주피터 노트북 진행표시줄 처리"
   ]
  },
  {
   "cell_type": "code",
   "execution_count": 32,
   "metadata": {},
   "outputs": [
    {
     "name": "stdout",
     "output_type": "stream",
     "text": [
      "Collecting tqdm\n",
      "  Downloading https://files.pythonhosted.org/packages/72/8a/34efae5cf9924328a8f34eeb2fdaae14c011462d9f0e3fcded48e1266d1c/tqdm-4.60.0-py2.py3-none-any.whl (75kB)\n",
      "Installing collected packages: tqdm\n",
      "Successfully installed tqdm-4.60.0\n"
     ]
    },
    {
     "name": "stderr",
     "output_type": "stream",
     "text": [
      "distributed 1.21.8 requires msgpack, which is not installed.\n",
      "You are using pip version 10.0.1, however version 21.1.1 is available.\n",
      "You should consider upgrading via the 'python -m pip install --upgrade pip' command.\n"
     ]
    }
   ],
   "source": [
    "!pip install tqdm"
   ]
  },
  {
   "cell_type": "code",
   "execution_count": 33,
   "metadata": {},
   "outputs": [
    {
     "name": "stderr",
     "output_type": "stream",
     "text": [
      "C:\\Users\\Gargantua\\Anaconda3\\lib\\site-packages\\ipykernel_launcher.py:5: TqdmDeprecationWarning: This function will be removed in tqdm==5.0.0\n",
      "Please use `tqdm.notebook.tqdm` instead of `tqdm.tqdm_notebook`\n",
      "  \"\"\"\n"
     ]
    },
    {
     "data": {
      "application/vnd.jupyter.widget-view+json": {
       "model_id": "86d0b7dab8114e7baa68a8b272ddd13d",
       "version_major": 2,
       "version_minor": 0
      },
      "text/plain": [
       "  0%|          | 0/10 [00:00<?, ?it/s]"
      ]
     },
     "metadata": {},
     "output_type": "display_data"
    }
   ],
   "source": [
    "import time\n",
    "from tqdm import tqdm_notebook\n",
    "\n",
    "total_page = 10\n",
    "for page in tqdm_notebook(range(1, total_page + 1)):\n",
    "    time.sleep(5)"
   ]
  },
  {
   "cell_type": "code",
   "execution_count": null,
   "metadata": {},
   "outputs": [],
   "source": []
  },
  {
   "cell_type": "code",
   "execution_count": 106,
   "metadata": {},
   "outputs": [
    {
     "name": "stderr",
     "output_type": "stream",
     "text": [
      "C:\\Users\\Gargantua\\Anaconda3\\lib\\site-packages\\ipykernel_launcher.py:16: TqdmDeprecationWarning: This function will be removed in tqdm==5.0.0\n",
      "Please use `tqdm.notebook.tqdm` instead of `tqdm.tqdm_notebook`\n",
      "  app.launch_new_instance()\n"
     ]
    },
    {
     "data": {
      "application/vnd.jupyter.widget-view+json": {
       "model_id": "81e7fbacaa9b4cc5b8beaac4f5fbab01",
       "version_major": 2,
       "version_minor": 0
      },
      "text/plain": [
       "  0%|          | 0/10 [00:00<?, ?it/s]"
      ]
     },
     "metadata": {},
     "output_type": "display_data"
    }
   ],
   "source": [
    "#크롤링\n",
    "\n",
    "from selenium import webdriver\n",
    "import time\n",
    "from bs4 import BeautifulSoup\n",
    "from tqdm import tqdm_notebook\n",
    "\n",
    "browser = webdriver.Chrome(r'C:\\Users\\Gargantua\\Desktop\\files\\chromedriver.exe')\n",
    "browser.implicitly_wait(3)\n",
    "\n",
    "keyword = '무선청소기'\n",
    "total_page = 10\n",
    "\n",
    "prod_data_total = []\n",
    "\n",
    "for page in tqdm_notebook(range(1, total_page + 1)):\n",
    "    url = get_search_page_url(keyword, page)\n",
    "    browser.get(url)\n",
    "    time.sleep(5)\n",
    "    \n",
    "    html = browser.page_source\n",
    "    soup = BeautifulSoup(html, 'html.parser')\n",
    "    \n",
    "    prod_items = soup.select('ul.product_list > li.prod_item > div.prod_main_info')\n",
    "    prod_item_list = get_prod_items(prod_items)\n",
    "    \n",
    "    prod_data_total = prod_data_total + prod_item_list\n",
    "\n",
    "    "
   ]
  },
  {
   "cell_type": "code",
   "execution_count": 107,
   "metadata": {},
   "outputs": [],
   "source": [
    "#수집데이터 저장\n",
    "\n",
    "import pandas as pd\n",
    "data = pd.DataFrame(prod_data_total)\n",
    "data.columns = ['상품명', '스펙 목록', '가격']\n",
    "data.to_excel(r'C:\\Users\\Gargantua\\Desktop\\files\\Codeless\\1_danawa_crawling_result.xlsx', index = False)"
   ]
  },
  {
   "cell_type": "code",
   "execution_count": null,
   "metadata": {},
   "outputs": [],
   "source": []
  },
  {
   "cell_type": "code",
   "execution_count": 48,
   "metadata": {},
   "outputs": [],
   "source": [
    "#데이터전처리"
   ]
  },
  {
   "cell_type": "code",
   "execution_count": 108,
   "metadata": {},
   "outputs": [
    {
     "name": "stdout",
     "output_type": "stream",
     "text": [
      "<class 'pandas.core.frame.DataFrame'>\n",
      "RangeIndex: 403 entries, 0 to 402\n",
      "Data columns (total 3 columns):\n",
      "상품명      403 non-null object\n",
      "스펙 목록    403 non-null object\n",
      "가격       403 non-null int64\n",
      "dtypes: int64(1), object(2)\n",
      "memory usage: 9.5+ KB\n"
     ]
    },
    {
     "data": {
      "text/html": [
       "<div>\n",
       "<style scoped>\n",
       "    .dataframe tbody tr th:only-of-type {\n",
       "        vertical-align: middle;\n",
       "    }\n",
       "\n",
       "    .dataframe tbody tr th {\n",
       "        vertical-align: top;\n",
       "    }\n",
       "\n",
       "    .dataframe thead th {\n",
       "        text-align: right;\n",
       "    }\n",
       "</style>\n",
       "<table border=\"1\" class=\"dataframe\">\n",
       "  <thead>\n",
       "    <tr style=\"text-align: right;\">\n",
       "      <th></th>\n",
       "      <th>상품명</th>\n",
       "      <th>스펙 목록</th>\n",
       "      <th>가격</th>\n",
       "    </tr>\n",
       "  </thead>\n",
       "  <tbody>\n",
       "    <tr>\n",
       "      <th>0</th>\n",
       "      <td>치후360 S9 MAX</td>\n",
       "      <td>로봇청소기 / 흡입+걸레 / [센서] LDS라이다센서 / 장애물인식센서 / 추락방지...</td>\n",
       "      <td>499000</td>\n",
       "    </tr>\n",
       "    <tr>\n",
       "      <th>1</th>\n",
       "      <td>로보락 S5 Max</td>\n",
       "      <td>로봇청소기 / 흡입+걸레 / [센서] LDS라이다센서 / 추락방지센서 / 범핑센서 ...</td>\n",
       "      <td>558000</td>\n",
       "    </tr>\n",
       "    <tr>\n",
       "      <th>2</th>\n",
       "      <td>라이프로 RX10</td>\n",
       "      <td>로봇청소기 / 흡입+걸레 / [센서] LDS라이다센서 / 추락방지센서 / 범핑센서 ...</td>\n",
       "      <td>339000</td>\n",
       "    </tr>\n",
       "    <tr>\n",
       "      <th>3</th>\n",
       "      <td>LG전자 오브제컬렉션 코드제로 ThinQ A9S AO9571</td>\n",
       "      <td>핸디/스틱청소기 / 핸디+스틱형 / 무선형 / 흡입+걸레겸용 / [성능] 2중터보싸...</td>\n",
       "      <td>1193340</td>\n",
       "    </tr>\n",
       "    <tr>\n",
       "      <th>4</th>\n",
       "      <td>샤오미 CLEANFLY 차량용 무선 청소기 3세대 (해외구매)</td>\n",
       "      <td>차량용청소기 / 무선 / 흡입력: 16,800Pa / 최대출력: 120W / 헤파필...</td>\n",
       "      <td>51450</td>\n",
       "    </tr>\n",
       "  </tbody>\n",
       "</table>\n",
       "</div>"
      ],
      "text/plain": [
       "                                  상품명  \\\n",
       "0                        치후360 S9 MAX   \n",
       "1                          로보락 S5 Max   \n",
       "2                           라이프로 RX10   \n",
       "3   LG전자 오브제컬렉션 코드제로 ThinQ A9S AO9571   \n",
       "4  샤오미 CLEANFLY 차량용 무선 청소기 3세대 (해외구매)   \n",
       "\n",
       "                                               스펙 목록       가격  \n",
       "0  로봇청소기 / 흡입+걸레 / [센서] LDS라이다센서 / 장애물인식센서 / 추락방지...   499000  \n",
       "1  로봇청소기 / 흡입+걸레 / [센서] LDS라이다센서 / 추락방지센서 / 범핑센서 ...   558000  \n",
       "2  로봇청소기 / 흡입+걸레 / [센서] LDS라이다센서 / 추락방지센서 / 범핑센서 ...   339000  \n",
       "3  핸디/스틱청소기 / 핸디+스틱형 / 무선형 / 흡입+걸레겸용 / [성능] 2중터보싸...  1193340  \n",
       "4  차량용청소기 / 무선 / 흡입력: 16,800Pa / 최대출력: 120W / 헤파필...    51450  "
      ]
     },
     "execution_count": 108,
     "metadata": {},
     "output_type": "execute_result"
    }
   ],
   "source": [
    "import pandas as pd\n",
    "data = pd.read_excel(r'C:\\Users\\Gargantua\\Desktop\\files\\Codeless\\1_danawa_crawling_result.xlsx')\n",
    "data.info()\n",
    "data.head()"
   ]
  },
  {
   "cell_type": "code",
   "execution_count": 100,
   "metadata": {},
   "outputs": [
    {
     "data": {
      "text/plain": [
       "0                             라이프로 RX10\n",
       "1                          치후360 S9 MAX\n",
       "2                            로보락 S5 Max\n",
       "3     LG전자 오브제컬렉션 코드제로 ThinQ A9S AO9571\n",
       "4    샤오미 CLEANFLY 차량용 무선 청소기 3세대 (해외구매)\n",
       "5                            O0F8gsvMeX\n",
       "6          샤오미 미지아 차량용 핸디 무선 청소기 (해외구매)\n",
       "7                 삼성전자 제트 VS20T9278S3CS\n",
       "8                   LG전자 코드제로 A9 A9100S\n",
       "9                           샤오미 드리미 V10\n",
       "Name: 상품명, dtype: object"
      ]
     },
     "execution_count": 100,
     "metadata": {},
     "output_type": "execute_result"
    }
   ],
   "source": [
    "#상품명 전처리 : 모델과 제조사 구분\n",
    "\n",
    "data['상품명'][:10]"
   ]
  },
  {
   "cell_type": "code",
   "execution_count": 101,
   "metadata": {},
   "outputs": [
    {
     "name": "stdout",
     "output_type": "stream",
     "text": [
      "['치후360', 'S9 MAX']\n"
     ]
    }
   ],
   "source": [
    "title = '치후360 S9 MAX'\n",
    "info = title.split(' ', 1)\n",
    "print(info)"
   ]
  },
  {
   "cell_type": "code",
   "execution_count": 109,
   "metadata": {},
   "outputs": [],
   "source": [
    "company_list = []\n",
    "product_list = []\n",
    "\n",
    "for title in data['상품명']:\n",
    "    tmp = title.split(' ', 1)\n",
    "    company_list.append(tmp[0])\n",
    "    product_list.append(tmp[1])"
   ]
  },
  {
   "cell_type": "code",
   "execution_count": 10,
   "metadata": {},
   "outputs": [
    {
     "name": "stdout",
     "output_type": "stream",
     "text": [
      "430\n",
      "430\n",
      "430\n"
     ]
    }
   ],
   "source": [
    "print(len(data))\n",
    "print(len(company_list))\n",
    "print(len(product_list))"
   ]
  },
  {
   "cell_type": "code",
   "execution_count": 11,
   "metadata": {},
   "outputs": [
    {
     "name": "stdout",
     "output_type": "stream",
     "text": [
      "['치후360', '로보락', '라이프로', 'LG전자', '샤오미', '삼성전자', '샤오미', 'LG전자', '샤오미', '삼성전자']\n",
      "['S9 MAX', 'S5 Max', 'RX10', '오브제컬렉션 코드제로 ThinQ A9S AO9571', 'CLEANFLY 차량용 무선 청소기 3세대 (해외구매)', '제트 VS20T9278S3CS', '미지아 차량용 핸디 무선 청소기 (해외구매)', '코드제로 A9 A9100S', '드리미 V10', '비스포크 제트 VS20A956A3']\n"
     ]
    }
   ],
   "source": [
    "print(company_list[:10])\n",
    "print(product_list[:10])"
   ]
  },
  {
   "cell_type": "code",
   "execution_count": 12,
   "metadata": {},
   "outputs": [
    {
     "data": {
      "text/plain": [
       "0    로봇청소기 / 흡입+걸레 / [센서] LDS라이다센서 / 장애물인식센서 / 추락방지...\n",
       "1    로봇청소기 / 흡입+걸레 / [센서] LDS라이다센서 / 추락방지센서 / 범핑센서 ...\n",
       "2    로봇청소기 / 흡입+걸레 / [센서] LDS라이다센서 / 추락방지센서 / 범핑센서 ...\n",
       "3    핸디/스틱청소기 / 핸디+스틱형 / 무선형 / 흡입+걸레겸용 / [성능] 2중터보싸...\n",
       "4    차량용청소기 / 무선 / 흡입력: 16,800Pa / 최대출력: 120W / 헤파필...\n",
       "5    핸디/스틱청소기 / 핸디+스틱형 / 무선형 / 흡입+걸레겸용 / [성능] 싸이클론 ...\n",
       "6    차량용청소기 / 무선 / 흡입력: 13,000Pa / 최대출력: 120W / 헤파필...\n",
       "7    핸디/스틱청소기 / 핸디+스틱형 / 무선형 / 흡입+걸레겸용 / [성능] 2중터보싸...\n",
       "8    핸디/스틱청소기 / 핸디+스틱형 / 무선형 / 흡입전용 / [성능] 멀티싸이클론 /...\n",
       "9    핸디/스틱청소기 / 핸디+스틱형 / 무선형 / 흡입+걸레겸용 / [성능] 제트싸이클...\n",
       "Name: 스펙 목록, dtype: object"
      ]
     },
     "execution_count": 12,
     "metadata": {},
     "output_type": "execute_result"
    }
   ],
   "source": [
    "#스펙 목록 구분\n",
    "\n",
    "data['스펙 목록'][:10]"
   ]
  },
  {
   "cell_type": "code",
   "execution_count": 30,
   "metadata": {},
   "outputs": [
    {
     "name": "stdout",
     "output_type": "stream",
     "text": [
      "['로봇청소기 ', ' 흡입+걸레 ', ' [센서] LDS라이다센서 ', ' 추락방지센서 ', ' 범핑센서 ', ' [성능] 흡입력: 2000Pa ', ' 용량: 5200mAh ', ' 충전시간: 6시간 ', ' 사용시간: 2시간30분(개당) ', ' 소음: 53dB ', ' 소비전력: 58W ', ' [기능] 스마트폰제어: 금지구역, 원격예약, 원격청소 ', ' 스마트맵핑 ', ' 바닥감지 ', ' 자기위치메모리 ', ' 문턱등반 ', ' 자동충전 ', ' 음성안내 ', ' [부가] 먼지통용량: 0.46L ', ' 물통용량: 0.29L ', ' 색상: 화이트 ', ' 무게: 3.5kg ', ' 크기(가로x세로x깊이): 350x96.5x350mm']\n"
     ]
    }
   ],
   "source": [
    "print(data['스펙 목록'][1].split('/'))"
   ]
  },
  {
   "cell_type": "code",
   "execution_count": 15,
   "metadata": {},
   "outputs": [
    {
     "name": "stdout",
     "output_type": "stream",
     "text": [
      "로봇청소기 \n"
     ]
    }
   ],
   "source": [
    "##카테고리\n",
    "\n",
    "spec_list = data['스펙 목록'][0].split('/')\n",
    "\n",
    "category = spec_list[0]\n",
    "print(category)"
   ]
  },
  {
   "cell_type": "code",
   "execution_count": 20,
   "metadata": {},
   "outputs": [
    {
     "name": "stdout",
     "output_type": "stream",
     "text": [
      "사용시간: 3시간20분(개당)\n",
      "흡입력: 2650Pa\n"
     ]
    }
   ],
   "source": [
    "##사용시간 / 흡입력\n",
    "\n",
    "for spec in spec_list:\n",
    "    if '사용시간' in spec:\n",
    "        use_time_spec = spec.strip()\n",
    "    elif '흡입력' in spec:\n",
    "        suction_spec = spec.strip()\n",
    "\n",
    "print(use_time_spec)\n",
    "print(suction_spec)"
   ]
  },
  {
   "cell_type": "code",
   "execution_count": 22,
   "metadata": {},
   "outputs": [
    {
     "name": "stdout",
     "output_type": "stream",
     "text": [
      "3시간20분(개당)\n",
      "2650Pa\n"
     ]
    }
   ],
   "source": [
    "use_time_value = use_time_spec.split(' ')[1]\n",
    "suction_value = suction_spec.split(' ')[1]\n",
    "\n",
    "print(use_time_value)\n",
    "print(suction_value)"
   ]
  },
  {
   "cell_type": "code",
   "execution_count": 110,
   "metadata": {},
   "outputs": [],
   "source": [
    "category_list = []\n",
    "use_time_list = []\n",
    "suction_list = []\n",
    "\n",
    "\n",
    "for spec in data['스펙 목록']:\n",
    "    spec_list = spec.split(' / ')\n",
    "    \n",
    "    category = spec_list[0].strip()\n",
    "    \n",
    "    for value in spec_list:\n",
    "        if '사용시간' in value:\n",
    "            use_time = value.strip()\n",
    "            use_time_value = use_time.split(' ')[-1]\n",
    "        elif '흡입력' in value:\n",
    "            suction = value.strip()\n",
    "            suction_value = suction.split(' ')[-1]\n",
    "    \n",
    "    category_list.append(category)\n",
    "    use_time_list.append(use_time_value)\n",
    "    suction_list.append(suction_value)"
   ]
  },
  {
   "cell_type": "code",
   "execution_count": 34,
   "metadata": {},
   "outputs": [
    {
     "name": "stdout",
     "output_type": "stream",
     "text": [
      "카테고리 430 ['로봇청소기', '로봇청소기', '로봇청소기', '핸디/스틱청소기', '차량용청소기']\n",
      "사용시간 430 ['3시간20분(개당)', '2시간30분(개당)', '3시간(개당)', '1시간(개당)', '25분']\n",
      "흡입력 430 ['2650Pa', '2000Pa', '3000Pa', '210W', '16,800Pa']\n"
     ]
    }
   ],
   "source": [
    "print(\"카테고리\", len(category_list), category_list[:5])\n",
    "print(\"사용시간\", len(use_time_list), use_time_list[:5])\n",
    "print(\"흡입력\", len(suction_list), suction_list[:5])"
   ]
  },
  {
   "cell_type": "code",
   "execution_count": 50,
   "metadata": {},
   "outputs": [],
   "source": [
    "###사용시간 통일\n",
    "\n",
    "def convert_time_minute(time):\n",
    "    try:\n",
    "        if '시간' in time :\n",
    "            \n",
    "            if '분' in time:\n",
    "                hour = int(time.split('시간')[0])\n",
    "                minute = int(time.split('시간')[1].split('분')[0])\n",
    "            \n",
    "            else:\n",
    "                hour = int(time.split('시간')[0])\n",
    "                minute = 0\n",
    "        \n",
    "        else :\n",
    "            hour = 0\n",
    "            minute = int(time.split('분')[0])\n",
    "            \n",
    "            return minute\n",
    "    \n",
    "        return (hour*60 + minute)\n",
    "    \n",
    "    except:\n",
    "        return None"
   ]
  },
  {
   "cell_type": "code",
   "execution_count": 111,
   "metadata": {},
   "outputs": [
    {
     "name": "stdout",
     "output_type": "stream",
     "text": [
      "403\n",
      "[200, 150, 180, 60, 25]\n"
     ]
    }
   ],
   "source": [
    "new_use_time_list = []\n",
    "\n",
    "for time in use_time_list:\n",
    "    minute = convert_time_minute(time)\n",
    "    new_use_time_list.append(minute)\n",
    "\n",
    "print(len(new_use_time_list))\n",
    "print(new_use_time_list[:5])"
   ]
  },
  {
   "cell_type": "code",
   "execution_count": 53,
   "metadata": {},
   "outputs": [
    {
     "name": "stdout",
     "output_type": "stream",
     "text": [
      "['2650Pa', '2000Pa', '3000Pa', '210W', '16,800Pa', '200W', '13,000Pa', '13,000Pa', '22000Pa', '210W', '200W', '200W', '10,000Pa', '3000Pa', '200W', '100AW', '12,000Pa', '20000Pa', '210W', '210W', '20000Pa', '200W', '15,000Pa', '15,000Pa', '5,000Pa', '200W', '29000Pa', '27000Pa', '200W', '200W', '160AW', '210W', '150W', '150W', '25000Pa', '25000Pa', '25000Pa', '185AW', '7,000Pa', '7,000Pa', '50AW', '50AW', '20000Pa', '2650Pa', '2000Pa', '3000Pa', '210W', '16,800Pa', '200W', '13,000Pa']\n"
     ]
    }
   ],
   "source": [
    "###흡입력 단위 통일(AW)\n",
    "\n",
    "print(suction_list[:50])  # 1W = 1AW = 100PA"
   ]
  },
  {
   "cell_type": "code",
   "execution_count": 62,
   "metadata": {},
   "outputs": [],
   "source": [
    "def get_suction(value):\n",
    "    \n",
    "    AW = 0\n",
    "    \n",
    "    try:\n",
    "        if ',' in value:\n",
    "            value = value.replace(',', \"\")\n",
    "        else:\n",
    "            pass\n",
    "        \n",
    "        if 'Pa' in value:\n",
    "            AW = int(value.split('Pa')[0])/100\n",
    "        elif 'AW' in value:\n",
    "            AW = int(value.split('AW')[0])\n",
    "        else:\n",
    "            AW = int(value.split('W')[0])\n",
    "        \n",
    "        return AW\n",
    "    \n",
    "    except:\n",
    "        return None    "
   ]
  },
  {
   "cell_type": "code",
   "execution_count": 112,
   "metadata": {},
   "outputs": [
    {
     "name": "stdout",
     "output_type": "stream",
     "text": [
      "403 [26.5, 20.0, 30.0, 210, 168.0, 130.0, 200, 200, 220.0, 210]\n"
     ]
    }
   ],
   "source": [
    "new_suction_list = []\n",
    "\n",
    "for value in suction_list:\n",
    "    AW = get_suction(value)\n",
    "    new_suction_list.append(AW)\n",
    "    \n",
    "print(len(new_suction_list), new_suction_list[:10])"
   ]
  },
  {
   "cell_type": "code",
   "execution_count": 115,
   "metadata": {},
   "outputs": [],
   "source": [
    "#데이터 저장\n",
    "\n",
    "pd_data = pd.DataFrame()\n",
    "\n",
    "pd_data['카테고리'] = category_list\n",
    "pd_data['회사명'] = company_list\n",
    "pd_data['제품'] = product_list\n",
    "pd_data['가격'] = data['가격']\n",
    "pd_data['사용시간(분)'] = new_use_time_list\n",
    "pd_data['흡입력(AW)'] = new_suction_list\n",
    "\n",
    "#중복데이터 제거하기\n",
    "\n",
    "#pd_data.drop_duplicates(subset = ['제품'], inplace = True)\n",
    "\n"
   ]
  },
  {
   "cell_type": "code",
   "execution_count": 116,
   "metadata": {},
   "outputs": [
    {
     "data": {
      "text/plain": [
       "402"
      ]
     },
     "execution_count": 116,
     "metadata": {},
     "output_type": "execute_result"
    }
   ],
   "source": [
    "pd_data_set = set(pd_data['제품'])\n",
    "len(pd_data_set)"
   ]
  },
  {
   "cell_type": "code",
   "execution_count": 88,
   "metadata": {},
   "outputs": [
    {
     "data": {
      "text/plain": [
       "핸디/스틱청소기    29\n",
       "차량용청소기       7\n",
       "로봇청소기        4\n",
       "물걸레청소기       2\n",
       "욕실청소기        1\n",
       "Name: 카테고리, dtype: int64"
      ]
     },
     "execution_count": 88,
     "metadata": {},
     "output_type": "execute_result"
    }
   ],
   "source": [
    "pd_data['카테고리'].value_counts()"
   ]
  },
  {
   "cell_type": "code",
   "execution_count": 117,
   "metadata": {},
   "outputs": [
    {
     "data": {
      "text/plain": [
       "0                                   S9 MAX\n",
       "1                                   S5 Max\n",
       "2                                     RX10\n",
       "3             오브제컬렉션 코드제로 ThinQ A9S AO9571\n",
       "4           CLEANFLY 차량용 무선 청소기 3세대 (해외구매)\n",
       "5                 미지아 차량용 핸디 무선 청소기 (해외구매)\n",
       "6                         제트 VS20T9278S3CS\n",
       "7                           코드제로 A9 A9100S\n",
       "8                                  드리미 V10\n",
       "9                       비스포크 제트 VS20A956A3\n",
       "10                        제트 VS20T9218QDCC\n",
       "11                       WELL Q6 WQ61-1OGG\n",
       "12            LYDSTO 핸디형 에어펌프 진공청소기 (해외구매)\n",
       "13                               디봇 오즈모 T9\n",
       "14     SHUNZAO 차량용 무선청소기 2세대 Z1 PRO (해외구매)\n",
       "15                             디지털 슬림 플러피+\n",
       "16                    코드제로 ThinQ A9S A9700\n",
       "17                           듀얼스핀 HS-10000\n",
       "18                                  드리미 V9\n",
       "19                    코드제로 ThinQ A9S A9370\n",
       "20                        TROUVER POWER 11\n",
       "21                      비스포크 제트 VS20A957D2\n",
       "22                                ZB3302AK\n",
       "23                    코드제로 ThinQ A9S A9300\n",
       "24                         차량용 청소기 ICL-V01\n",
       "25                  차량용 미니 무선 청소기 TEB-4120\n",
       "26                    코드제로 ThinQ A9S A9500\n",
       "27                          제트 VS15R8500BF\n",
       "28                      트리플 플러스 HSBC-6000W\n",
       "29                                옴니 글라이드+\n",
       "                      ...                 \n",
       "373                                 A749IA\n",
       "374                로이드미 핸디 청소기 NANO (해외구매)\n",
       "375                         제트 VS15T7037P1\n",
       "376                             SVC-D900RK\n",
       "377                                 PV1020\n",
       "378                               V11 토탈클린\n",
       "379                          V11 컴플리트 엑스트라\n",
       "380                        에르고라피도 ZB3511DB\n",
       "381                              몽땅 BVC201\n",
       "382                        차량용 청소기 H1 PLUS\n",
       "383      COCLEAN 차량용 무선 청소기 + 가정용 충전기 + 필터\n",
       "384                            AST-009 플러스\n",
       "385                   에르고라피도 베드프로 ZB3323BO\n",
       "386                                 VBC700\n",
       "387         차량용 무선 진공 청소기 A2 + 필터3개 (해외구매)\n",
       "388                            EBHHV320B02\n",
       "389                  차량용 미니 무선청소기 VC-A100W\n",
       "390                               PV1820BK\n",
       "391                       제트 VS20T9278S7CC\n",
       "392                              SVC-750SG\n",
       "393                              KIA-BC100\n",
       "394                              AVC-OTOA5\n",
       "395                             더 플라 MAW10\n",
       "396                     파워스윙 SWING 9000-DC\n",
       "397                   에르고라피도 파워프로 ZB3423BO\n",
       "398                             아쿠아스피닝 D88\n",
       "399               MORUN 싸이클론 차량용 무선 청소기 V2\n",
       "400                     (RAUSCH) LSDS-7000\n",
       "401                                VH-1600\n",
       "402                                MF-750V\n",
       "Name: 제품, Length: 402, dtype: object"
      ]
     },
     "execution_count": 117,
     "metadata": {},
     "output_type": "execute_result"
    }
   ],
   "source": [
    "#중복데이터 제거하기\n",
    "\n",
    "pd_data.drop_duplicates(subset = ['제품'], inplace = True)\n",
    "\n",
    "pd_data['제품']"
   ]
  },
  {
   "cell_type": "code",
   "execution_count": 73,
   "metadata": {},
   "outputs": [],
   "source": [
    "#핸디/스틱청소기 카테고리 자료만 추출해보기"
   ]
  },
  {
   "cell_type": "code",
   "execution_count": 118,
   "metadata": {},
   "outputs": [
    {
     "data": {
      "text/plain": [
       "290"
      ]
     },
     "execution_count": 118,
     "metadata": {},
     "output_type": "execute_result"
    }
   ],
   "source": [
    "pd_data_final = pd_data[pd_data['카테고리'].isin(['핸디/스틱청소기'])]\n",
    "len(pd_data_final)"
   ]
  },
  {
   "cell_type": "code",
   "execution_count": 119,
   "metadata": {},
   "outputs": [],
   "source": [
    "pd_data_final.to_excel(r'C:\\Users\\Gargantua\\Desktop\\files\\Codeless\\2_danawa_data_final.xlsx', index = False)"
   ]
  },
  {
   "cell_type": "markdown",
   "metadata": {},
   "source": []
  },
  {
   "cell_type": "code",
   "execution_count": null,
   "metadata": {},
   "outputs": [],
   "source": []
  },
  {
   "cell_type": "code",
   "execution_count": 77,
   "metadata": {},
   "outputs": [],
   "source": [
    "#데이터분석"
   ]
  },
  {
   "cell_type": "code",
   "execution_count": 1,
   "metadata": {},
   "outputs": [
    {
     "data": {
      "text/html": [
       "<div>\n",
       "<style scoped>\n",
       "    .dataframe tbody tr th:only-of-type {\n",
       "        vertical-align: middle;\n",
       "    }\n",
       "\n",
       "    .dataframe tbody tr th {\n",
       "        vertical-align: top;\n",
       "    }\n",
       "\n",
       "    .dataframe thead th {\n",
       "        text-align: right;\n",
       "    }\n",
       "</style>\n",
       "<table border=\"1\" class=\"dataframe\">\n",
       "  <thead>\n",
       "    <tr style=\"text-align: right;\">\n",
       "      <th></th>\n",
       "      <th>카테고리</th>\n",
       "      <th>회사명</th>\n",
       "      <th>제품</th>\n",
       "      <th>가격</th>\n",
       "      <th>사용시간(분)</th>\n",
       "      <th>흡입력(AW)</th>\n",
       "    </tr>\n",
       "  </thead>\n",
       "  <tbody>\n",
       "    <tr>\n",
       "      <th>0</th>\n",
       "      <td>핸디/스틱청소기</td>\n",
       "      <td>LG전자</td>\n",
       "      <td>오브제컬렉션 코드제로 ThinQ A9S AO9571</td>\n",
       "      <td>1193340</td>\n",
       "      <td>60.0</td>\n",
       "      <td>210</td>\n",
       "    </tr>\n",
       "    <tr>\n",
       "      <th>1</th>\n",
       "      <td>핸디/스틱청소기</td>\n",
       "      <td>삼성전자</td>\n",
       "      <td>제트 VS20T9278S3CS</td>\n",
       "      <td>634280</td>\n",
       "      <td>60.0</td>\n",
       "      <td>200</td>\n",
       "    </tr>\n",
       "    <tr>\n",
       "      <th>2</th>\n",
       "      <td>핸디/스틱청소기</td>\n",
       "      <td>LG전자</td>\n",
       "      <td>코드제로 A9 A9100S</td>\n",
       "      <td>470800</td>\n",
       "      <td>40.0</td>\n",
       "      <td>200</td>\n",
       "    </tr>\n",
       "    <tr>\n",
       "      <th>3</th>\n",
       "      <td>핸디/스틱청소기</td>\n",
       "      <td>샤오미</td>\n",
       "      <td>드리미 V10</td>\n",
       "      <td>150880</td>\n",
       "      <td>60.0</td>\n",
       "      <td>220</td>\n",
       "    </tr>\n",
       "    <tr>\n",
       "      <th>4</th>\n",
       "      <td>핸디/스틱청소기</td>\n",
       "      <td>삼성전자</td>\n",
       "      <td>비스포크 제트 VS20A956A3</td>\n",
       "      <td>723150</td>\n",
       "      <td>60.0</td>\n",
       "      <td>210</td>\n",
       "    </tr>\n",
       "  </tbody>\n",
       "</table>\n",
       "</div>"
      ],
      "text/plain": [
       "       카테고리   회사명                            제품       가격  사용시간(분)  흡입력(AW)\n",
       "0  핸디/스틱청소기  LG전자  오브제컬렉션 코드제로 ThinQ A9S AO9571  1193340     60.0      210\n",
       "1  핸디/스틱청소기  삼성전자              제트 VS20T9278S3CS   634280     60.0      200\n",
       "2  핸디/스틱청소기  LG전자                코드제로 A9 A9100S   470800     40.0      200\n",
       "3  핸디/스틱청소기   샤오미                       드리미 V10   150880     60.0      220\n",
       "4  핸디/스틱청소기  삼성전자            비스포크 제트 VS20A956A3   723150     60.0      210"
      ]
     },
     "execution_count": 1,
     "metadata": {},
     "output_type": "execute_result"
    }
   ],
   "source": [
    "import pandas as pd\n",
    "danawa_data = pd.read_excel(r'C:\\Users\\Gargantua\\Desktop\\files\\Codeless\\2_danawa_data_final.xlsx')\n",
    "danawa_data.head()  #인기도순으로 정렬"
   ]
  },
  {
   "cell_type": "code",
   "execution_count": 2,
   "metadata": {},
   "outputs": [
    {
     "data": {
      "text/html": [
       "<div>\n",
       "<style scoped>\n",
       "    .dataframe tbody tr th:only-of-type {\n",
       "        vertical-align: middle;\n",
       "    }\n",
       "\n",
       "    .dataframe tbody tr th {\n",
       "        vertical-align: top;\n",
       "    }\n",
       "\n",
       "    .dataframe thead th {\n",
       "        text-align: right;\n",
       "    }\n",
       "</style>\n",
       "<table border=\"1\" class=\"dataframe\">\n",
       "  <thead>\n",
       "    <tr style=\"text-align: right;\">\n",
       "      <th></th>\n",
       "      <th>카테고리</th>\n",
       "      <th>회사명</th>\n",
       "      <th>제품</th>\n",
       "      <th>가격</th>\n",
       "      <th>사용시간(분)</th>\n",
       "      <th>흡입력(AW)</th>\n",
       "    </tr>\n",
       "  </thead>\n",
       "  <tbody>\n",
       "    <tr>\n",
       "      <th>156</th>\n",
       "      <td>핸디/스틱청소기</td>\n",
       "      <td>리하스</td>\n",
       "      <td>LH20</td>\n",
       "      <td>299000</td>\n",
       "      <td>120.0</td>\n",
       "      <td>330</td>\n",
       "    </tr>\n",
       "    <tr>\n",
       "      <th>270</th>\n",
       "      <td>핸디/스틱청소기</td>\n",
       "      <td>일렉트로룩스</td>\n",
       "      <td>퓨어 Q9 PQ91-3OB</td>\n",
       "      <td>242210</td>\n",
       "      <td>55.0</td>\n",
       "      <td>290</td>\n",
       "    </tr>\n",
       "    <tr>\n",
       "      <th>160</th>\n",
       "      <td>핸디/스틱청소기</td>\n",
       "      <td>캐치웰</td>\n",
       "      <td>NEW F8</td>\n",
       "      <td>189000</td>\n",
       "      <td>25.0</td>\n",
       "      <td>290</td>\n",
       "    </tr>\n",
       "    <tr>\n",
       "      <th>22</th>\n",
       "      <td>핸디/스틱청소기</td>\n",
       "      <td>DIBEA</td>\n",
       "      <td>차이슨 ALLNEW29000</td>\n",
       "      <td>249000</td>\n",
       "      <td>48.0</td>\n",
       "      <td>290</td>\n",
       "    </tr>\n",
       "    <tr>\n",
       "      <th>269</th>\n",
       "      <td>핸디/스틱청소기</td>\n",
       "      <td>퍼피유</td>\n",
       "      <td>T12R</td>\n",
       "      <td>282350</td>\n",
       "      <td>60.0</td>\n",
       "      <td>290</td>\n",
       "    </tr>\n",
       "  </tbody>\n",
       "</table>\n",
       "</div>"
      ],
      "text/plain": [
       "         카테고리     회사명               제품      가격  사용시간(분)  흡입력(AW)\n",
       "156  핸디/스틱청소기     리하스             LH20  299000    120.0      330\n",
       "270  핸디/스틱청소기  일렉트로룩스   퓨어 Q9 PQ91-3OB  242210     55.0      290\n",
       "160  핸디/스틱청소기     캐치웰           NEW F8  189000     25.0      290\n",
       "22   핸디/스틱청소기   DIBEA  차이슨 ALLNEW29000  249000     48.0      290\n",
       "269  핸디/스틱청소기     퍼피유             T12R  282350     60.0      290"
      ]
     },
     "execution_count": 2,
     "metadata": {},
     "output_type": "execute_result"
    }
   ],
   "source": [
    "#흡입력에 따라 정렬해보기\n",
    "\n",
    "top_list = danawa_data.sort_values([\"흡입력(AW)\"], ascending = False)\n",
    "top_list.head()"
   ]
  },
  {
   "cell_type": "code",
   "execution_count": 3,
   "metadata": {},
   "outputs": [],
   "source": [
    "#중복데이터 제거\n",
    "\n",
    "danawa_data.drop_duplicates(subset = ['제품'], inplace = True)"
   ]
  },
  {
   "cell_type": "code",
   "execution_count": 4,
   "metadata": {},
   "outputs": [
    {
     "data": {
      "text/html": [
       "<div>\n",
       "<style scoped>\n",
       "    .dataframe tbody tr th:only-of-type {\n",
       "        vertical-align: middle;\n",
       "    }\n",
       "\n",
       "    .dataframe tbody tr th {\n",
       "        vertical-align: top;\n",
       "    }\n",
       "\n",
       "    .dataframe thead th {\n",
       "        text-align: right;\n",
       "    }\n",
       "</style>\n",
       "<table border=\"1\" class=\"dataframe\">\n",
       "  <thead>\n",
       "    <tr style=\"text-align: right;\">\n",
       "      <th></th>\n",
       "      <th>카테고리</th>\n",
       "      <th>회사명</th>\n",
       "      <th>제품</th>\n",
       "      <th>가격</th>\n",
       "      <th>사용시간(분)</th>\n",
       "      <th>흡입력(AW)</th>\n",
       "    </tr>\n",
       "  </thead>\n",
       "  <tbody>\n",
       "    <tr>\n",
       "      <th>156</th>\n",
       "      <td>핸디/스틱청소기</td>\n",
       "      <td>리하스</td>\n",
       "      <td>LH20</td>\n",
       "      <td>299000</td>\n",
       "      <td>120.0</td>\n",
       "      <td>330</td>\n",
       "    </tr>\n",
       "    <tr>\n",
       "      <th>270</th>\n",
       "      <td>핸디/스틱청소기</td>\n",
       "      <td>일렉트로룩스</td>\n",
       "      <td>퓨어 Q9 PQ91-3OB</td>\n",
       "      <td>242210</td>\n",
       "      <td>55.0</td>\n",
       "      <td>290</td>\n",
       "    </tr>\n",
       "    <tr>\n",
       "      <th>160</th>\n",
       "      <td>핸디/스틱청소기</td>\n",
       "      <td>캐치웰</td>\n",
       "      <td>NEW F8</td>\n",
       "      <td>189000</td>\n",
       "      <td>25.0</td>\n",
       "      <td>290</td>\n",
       "    </tr>\n",
       "    <tr>\n",
       "      <th>22</th>\n",
       "      <td>핸디/스틱청소기</td>\n",
       "      <td>DIBEA</td>\n",
       "      <td>차이슨 ALLNEW29000</td>\n",
       "      <td>249000</td>\n",
       "      <td>48.0</td>\n",
       "      <td>290</td>\n",
       "    </tr>\n",
       "    <tr>\n",
       "      <th>269</th>\n",
       "      <td>핸디/스틱청소기</td>\n",
       "      <td>퍼피유</td>\n",
       "      <td>T12R</td>\n",
       "      <td>282350</td>\n",
       "      <td>60.0</td>\n",
       "      <td>290</td>\n",
       "    </tr>\n",
       "  </tbody>\n",
       "</table>\n",
       "</div>"
      ],
      "text/plain": [
       "         카테고리     회사명               제품      가격  사용시간(분)  흡입력(AW)\n",
       "156  핸디/스틱청소기     리하스             LH20  299000    120.0      330\n",
       "270  핸디/스틱청소기  일렉트로룩스   퓨어 Q9 PQ91-3OB  242210     55.0      290\n",
       "160  핸디/스틱청소기     캐치웰           NEW F8  189000     25.0      290\n",
       "22   핸디/스틱청소기   DIBEA  차이슨 ALLNEW29000  249000     48.0      290\n",
       "269  핸디/스틱청소기     퍼피유             T12R  282350     60.0      290"
      ]
     },
     "execution_count": 4,
     "metadata": {},
     "output_type": "execute_result"
    }
   ],
   "source": [
    "#흡입력에 따른 정렬\n",
    "top_list = danawa_data.sort_values([\"흡입력(AW)\"], ascending = False)\n",
    "top_list.head()"
   ]
  },
  {
   "cell_type": "code",
   "execution_count": 5,
   "metadata": {},
   "outputs": [
    {
     "data": {
      "text/html": [
       "<div>\n",
       "<style scoped>\n",
       "    .dataframe tbody tr th:only-of-type {\n",
       "        vertical-align: middle;\n",
       "    }\n",
       "\n",
       "    .dataframe tbody tr th {\n",
       "        vertical-align: top;\n",
       "    }\n",
       "\n",
       "    .dataframe thead th {\n",
       "        text-align: right;\n",
       "    }\n",
       "</style>\n",
       "<table border=\"1\" class=\"dataframe\">\n",
       "  <thead>\n",
       "    <tr style=\"text-align: right;\">\n",
       "      <th></th>\n",
       "      <th>카테고리</th>\n",
       "      <th>회사명</th>\n",
       "      <th>제품</th>\n",
       "      <th>가격</th>\n",
       "      <th>사용시간(분)</th>\n",
       "      <th>흡입력(AW)</th>\n",
       "    </tr>\n",
       "  </thead>\n",
       "  <tbody>\n",
       "    <tr>\n",
       "      <th>197</th>\n",
       "      <td>핸디/스틱청소기</td>\n",
       "      <td>아이룸</td>\n",
       "      <td>AST-009 플러스 맥스</td>\n",
       "      <td>107950</td>\n",
       "      <td>150.0</td>\n",
       "      <td>120</td>\n",
       "    </tr>\n",
       "    <tr>\n",
       "      <th>156</th>\n",
       "      <td>핸디/스틱청소기</td>\n",
       "      <td>리하스</td>\n",
       "      <td>LH20</td>\n",
       "      <td>299000</td>\n",
       "      <td>120.0</td>\n",
       "      <td>330</td>\n",
       "    </tr>\n",
       "    <tr>\n",
       "      <th>30</th>\n",
       "      <td>핸디/스틱청소기</td>\n",
       "      <td>샤오미</td>\n",
       "      <td>드리미 V12</td>\n",
       "      <td>309430</td>\n",
       "      <td>90.0</td>\n",
       "      <td>270</td>\n",
       "    </tr>\n",
       "    <tr>\n",
       "      <th>57</th>\n",
       "      <td>핸디/스틱청소기</td>\n",
       "      <td>샤오미</td>\n",
       "      <td>드리미 V11</td>\n",
       "      <td>242730</td>\n",
       "      <td>90.0</td>\n",
       "      <td>250</td>\n",
       "    </tr>\n",
       "    <tr>\n",
       "      <th>98</th>\n",
       "      <td>핸디/스틱청소기</td>\n",
       "      <td>모온</td>\n",
       "      <td>오비큠 플러스 이지클린 + 펫큠세트</td>\n",
       "      <td>331990</td>\n",
       "      <td>80.0</td>\n",
       "      <td>100</td>\n",
       "    </tr>\n",
       "  </tbody>\n",
       "</table>\n",
       "</div>"
      ],
      "text/plain": [
       "         카테고리  회사명                   제품      가격  사용시간(분)  흡입력(AW)\n",
       "197  핸디/스틱청소기  아이룸       AST-009 플러스 맥스  107950    150.0      120\n",
       "156  핸디/스틱청소기  리하스                 LH20  299000    120.0      330\n",
       "30   핸디/스틱청소기  샤오미              드리미 V12  309430     90.0      270\n",
       "57   핸디/스틱청소기  샤오미              드리미 V11  242730     90.0      250\n",
       "98   핸디/스틱청소기   모온  오비큠 플러스 이지클린 + 펫큠세트  331990     80.0      100"
      ]
     },
     "execution_count": 5,
     "metadata": {},
     "output_type": "execute_result"
    }
   ],
   "source": [
    "#사용시간에 따른 정렬\n",
    "top_list = danawa_data.sort_values([\"사용시간(분)\"], ascending = False)\n",
    "top_list.head()"
   ]
  },
  {
   "cell_type": "code",
   "execution_count": 6,
   "metadata": {},
   "outputs": [
    {
     "data": {
      "text/html": [
       "<div>\n",
       "<style scoped>\n",
       "    .dataframe tbody tr th:only-of-type {\n",
       "        vertical-align: middle;\n",
       "    }\n",
       "\n",
       "    .dataframe tbody tr th {\n",
       "        vertical-align: top;\n",
       "    }\n",
       "\n",
       "    .dataframe thead th {\n",
       "        text-align: right;\n",
       "    }\n",
       "</style>\n",
       "<table border=\"1\" class=\"dataframe\">\n",
       "  <thead>\n",
       "    <tr style=\"text-align: right;\">\n",
       "      <th></th>\n",
       "      <th>카테고리</th>\n",
       "      <th>회사명</th>\n",
       "      <th>제품</th>\n",
       "      <th>가격</th>\n",
       "      <th>사용시간(분)</th>\n",
       "      <th>흡입력(AW)</th>\n",
       "    </tr>\n",
       "  </thead>\n",
       "  <tbody>\n",
       "    <tr>\n",
       "      <th>197</th>\n",
       "      <td>핸디/스틱청소기</td>\n",
       "      <td>아이룸</td>\n",
       "      <td>AST-009 플러스 맥스</td>\n",
       "      <td>107950</td>\n",
       "      <td>150.0</td>\n",
       "      <td>120</td>\n",
       "    </tr>\n",
       "    <tr>\n",
       "      <th>156</th>\n",
       "      <td>핸디/스틱청소기</td>\n",
       "      <td>리하스</td>\n",
       "      <td>LH20</td>\n",
       "      <td>299000</td>\n",
       "      <td>120.0</td>\n",
       "      <td>330</td>\n",
       "    </tr>\n",
       "    <tr>\n",
       "      <th>30</th>\n",
       "      <td>핸디/스틱청소기</td>\n",
       "      <td>샤오미</td>\n",
       "      <td>드리미 V12</td>\n",
       "      <td>309430</td>\n",
       "      <td>90.0</td>\n",
       "      <td>270</td>\n",
       "    </tr>\n",
       "    <tr>\n",
       "      <th>57</th>\n",
       "      <td>핸디/스틱청소기</td>\n",
       "      <td>샤오미</td>\n",
       "      <td>드리미 V11</td>\n",
       "      <td>242730</td>\n",
       "      <td>90.0</td>\n",
       "      <td>250</td>\n",
       "    </tr>\n",
       "    <tr>\n",
       "      <th>98</th>\n",
       "      <td>핸디/스틱청소기</td>\n",
       "      <td>모온</td>\n",
       "      <td>오비큠 플러스 이지클린 + 펫큠세트</td>\n",
       "      <td>331990</td>\n",
       "      <td>80.0</td>\n",
       "      <td>100</td>\n",
       "    </tr>\n",
       "  </tbody>\n",
       "</table>\n",
       "</div>"
      ],
      "text/plain": [
       "         카테고리  회사명                   제품      가격  사용시간(분)  흡입력(AW)\n",
       "197  핸디/스틱청소기  아이룸       AST-009 플러스 맥스  107950    150.0      120\n",
       "156  핸디/스틱청소기  리하스                 LH20  299000    120.0      330\n",
       "30   핸디/스틱청소기  샤오미              드리미 V12  309430     90.0      270\n",
       "57   핸디/스틱청소기  샤오미              드리미 V11  242730     90.0      250\n",
       "98   핸디/스틱청소기   모온  오비큠 플러스 이지클린 + 펫큠세트  331990     80.0      100"
      ]
     },
     "execution_count": 6,
     "metadata": {},
     "output_type": "execute_result"
    }
   ],
   "source": [
    "#흡입력, 사용시간에 따른 정렬\n",
    "top_list = danawa_data.sort_values([\"사용시간(분)\", \"흡입력(AW)\"], ascending = False)\n",
    "top_list.head()"
   ]
  },
  {
   "cell_type": "code",
   "execution_count": null,
   "metadata": {},
   "outputs": [],
   "source": []
  },
  {
   "cell_type": "code",
   "execution_count": 7,
   "metadata": {},
   "outputs": [
    {
     "name": "stdout",
     "output_type": "stream",
     "text": [
      "가격 평균값 395252.45172413794\n",
      "흡입력 평균값 161.26896551724138\n",
      "사용시간 평균값 43.81754385964912\n"
     ]
    }
   ],
   "source": [
    "#가성비 분석히가\n",
    "\n",
    "price_mean_value = danawa_data['가격'].mean()\n",
    "suction_mean_value = danawa_data['흡입력(AW)'].mean()\n",
    "use_time_value = danawa_data['사용시간(분)'].mean()\n",
    "print(\"가격 평균값\", price_mean_value)\n",
    "print(\"흡입력 평균값\", suction_mean_value)\n",
    "print(\"사용시간 평균값\", use_time_value)"
   ]
  },
  {
   "cell_type": "code",
   "execution_count": 8,
   "metadata": {},
   "outputs": [
    {
     "data": {
      "text/html": [
       "<div>\n",
       "<style scoped>\n",
       "    .dataframe tbody tr th:only-of-type {\n",
       "        vertical-align: middle;\n",
       "    }\n",
       "\n",
       "    .dataframe tbody tr th {\n",
       "        vertical-align: top;\n",
       "    }\n",
       "\n",
       "    .dataframe thead th {\n",
       "        text-align: right;\n",
       "    }\n",
       "</style>\n",
       "<table border=\"1\" class=\"dataframe\">\n",
       "  <thead>\n",
       "    <tr style=\"text-align: right;\">\n",
       "      <th></th>\n",
       "      <th>카테고리</th>\n",
       "      <th>회사명</th>\n",
       "      <th>제품</th>\n",
       "      <th>가격</th>\n",
       "      <th>사용시간(분)</th>\n",
       "      <th>흡입력(AW)</th>\n",
       "    </tr>\n",
       "  </thead>\n",
       "  <tbody>\n",
       "    <tr>\n",
       "      <th>3</th>\n",
       "      <td>핸디/스틱청소기</td>\n",
       "      <td>샤오미</td>\n",
       "      <td>드리미 V10</td>\n",
       "      <td>150880</td>\n",
       "      <td>60.0</td>\n",
       "      <td>220</td>\n",
       "    </tr>\n",
       "    <tr>\n",
       "      <th>6</th>\n",
       "      <td>핸디/스틱청소기</td>\n",
       "      <td>일렉트로룩스</td>\n",
       "      <td>WELL Q6 WQ61-1OGG</td>\n",
       "      <td>147040</td>\n",
       "      <td>45.0</td>\n",
       "      <td>200</td>\n",
       "    </tr>\n",
       "    <tr>\n",
       "      <th>9</th>\n",
       "      <td>핸디/스틱청소기</td>\n",
       "      <td>샤오미</td>\n",
       "      <td>드리미 V9</td>\n",
       "      <td>298000</td>\n",
       "      <td>60.0</td>\n",
       "      <td>200</td>\n",
       "    </tr>\n",
       "    <tr>\n",
       "      <th>11</th>\n",
       "      <td>핸디/스틱청소기</td>\n",
       "      <td>샤오미</td>\n",
       "      <td>TROUVER POWER 11</td>\n",
       "      <td>138320</td>\n",
       "      <td>60.0</td>\n",
       "      <td>200</td>\n",
       "    </tr>\n",
       "    <tr>\n",
       "      <th>22</th>\n",
       "      <td>핸디/스틱청소기</td>\n",
       "      <td>DIBEA</td>\n",
       "      <td>차이슨 ALLNEW29000</td>\n",
       "      <td>249000</td>\n",
       "      <td>48.0</td>\n",
       "      <td>290</td>\n",
       "    </tr>\n",
       "    <tr>\n",
       "      <th>26</th>\n",
       "      <td>핸디/스틱청소기</td>\n",
       "      <td>일렉트로룩스</td>\n",
       "      <td>WELL Q7 WQ71-2ESSF</td>\n",
       "      <td>238360</td>\n",
       "      <td>50.0</td>\n",
       "      <td>185</td>\n",
       "    </tr>\n",
       "    <tr>\n",
       "      <th>29</th>\n",
       "      <td>핸디/스틱청소기</td>\n",
       "      <td>일렉트로룩스</td>\n",
       "      <td>Well Q7 Pet WQ71-2PSSF</td>\n",
       "      <td>328290</td>\n",
       "      <td>50.0</td>\n",
       "      <td>200</td>\n",
       "    </tr>\n",
       "    <tr>\n",
       "      <th>30</th>\n",
       "      <td>핸디/스틱청소기</td>\n",
       "      <td>샤오미</td>\n",
       "      <td>드리미 V12</td>\n",
       "      <td>309430</td>\n",
       "      <td>90.0</td>\n",
       "      <td>270</td>\n",
       "    </tr>\n",
       "    <tr>\n",
       "      <th>37</th>\n",
       "      <td>핸디/스틱청소기</td>\n",
       "      <td>일렉트로룩스</td>\n",
       "      <td>퓨어 Q9 파워프로 PQ92-3OBF</td>\n",
       "      <td>316590</td>\n",
       "      <td>53.0</td>\n",
       "      <td>200</td>\n",
       "    </tr>\n",
       "    <tr>\n",
       "      <th>41</th>\n",
       "      <td>핸디/스틱청소기</td>\n",
       "      <td>샤오미</td>\n",
       "      <td>드리미 V10 ARES</td>\n",
       "      <td>209000</td>\n",
       "      <td>60.0</td>\n",
       "      <td>220</td>\n",
       "    </tr>\n",
       "    <tr>\n",
       "      <th>47</th>\n",
       "      <td>핸디/스틱청소기</td>\n",
       "      <td>일렉트로룩스</td>\n",
       "      <td>WELL Q7 WQ71-2BSWF</td>\n",
       "      <td>323880</td>\n",
       "      <td>50.0</td>\n",
       "      <td>200</td>\n",
       "    </tr>\n",
       "    <tr>\n",
       "      <th>48</th>\n",
       "      <td>핸디/스틱청소기</td>\n",
       "      <td>샤오미</td>\n",
       "      <td>SHUNZAO Z11</td>\n",
       "      <td>145100</td>\n",
       "      <td>60.0</td>\n",
       "      <td>260</td>\n",
       "    </tr>\n",
       "    <tr>\n",
       "      <th>51</th>\n",
       "      <td>핸디/스틱청소기</td>\n",
       "      <td>샤오미</td>\n",
       "      <td>드리미 V9P</td>\n",
       "      <td>131130</td>\n",
       "      <td>60.0</td>\n",
       "      <td>200</td>\n",
       "    </tr>\n",
       "    <tr>\n",
       "      <th>54</th>\n",
       "      <td>핸디/스틱청소기</td>\n",
       "      <td>일렉트로룩스</td>\n",
       "      <td>Well Q6 Pet WQ61-1PSH</td>\n",
       "      <td>306240</td>\n",
       "      <td>45.0</td>\n",
       "      <td>170</td>\n",
       "    </tr>\n",
       "    <tr>\n",
       "      <th>57</th>\n",
       "      <td>핸디/스틱청소기</td>\n",
       "      <td>샤오미</td>\n",
       "      <td>드리미 V11</td>\n",
       "      <td>242730</td>\n",
       "      <td>90.0</td>\n",
       "      <td>250</td>\n",
       "    </tr>\n",
       "    <tr>\n",
       "      <th>59</th>\n",
       "      <td>핸디/스틱청소기</td>\n",
       "      <td>샤오미</td>\n",
       "      <td>SHUNZAO Z11 PRO</td>\n",
       "      <td>232990</td>\n",
       "      <td>60.0</td>\n",
       "      <td>260</td>\n",
       "    </tr>\n",
       "    <tr>\n",
       "      <th>61</th>\n",
       "      <td>핸디/스틱청소기</td>\n",
       "      <td>일렉트로룩스</td>\n",
       "      <td>WELL Q7 WQ71-2OIBF</td>\n",
       "      <td>246220</td>\n",
       "      <td>50.0</td>\n",
       "      <td>220</td>\n",
       "    </tr>\n",
       "    <tr>\n",
       "      <th>62</th>\n",
       "      <td>핸디/스틱청소기</td>\n",
       "      <td>일렉트로룩스</td>\n",
       "      <td>퓨어 Q9 파워프로 PQ92-2OGF</td>\n",
       "      <td>351780</td>\n",
       "      <td>50.0</td>\n",
       "      <td>220</td>\n",
       "    </tr>\n",
       "    <tr>\n",
       "      <th>63</th>\n",
       "      <td>핸디/스틱청소기</td>\n",
       "      <td>샤오미</td>\n",
       "      <td>드리미 V10P</td>\n",
       "      <td>224900</td>\n",
       "      <td>60.0</td>\n",
       "      <td>220</td>\n",
       "    </tr>\n",
       "    <tr>\n",
       "      <th>68</th>\n",
       "      <td>핸디/스틱청소기</td>\n",
       "      <td>원더스리빙</td>\n",
       "      <td>원더스 다이나킹 Z9</td>\n",
       "      <td>299000</td>\n",
       "      <td>65.0</td>\n",
       "      <td>220</td>\n",
       "    </tr>\n",
       "    <tr>\n",
       "      <th>92</th>\n",
       "      <td>핸디/스틱청소기</td>\n",
       "      <td>샤오미</td>\n",
       "      <td>로이드미 제로</td>\n",
       "      <td>216380</td>\n",
       "      <td>60.0</td>\n",
       "      <td>220</td>\n",
       "    </tr>\n",
       "    <tr>\n",
       "      <th>94</th>\n",
       "      <td>핸디/스틱청소기</td>\n",
       "      <td>일렉트로룩스</td>\n",
       "      <td>울트라파워 ZB5021</td>\n",
       "      <td>369220</td>\n",
       "      <td>50.0</td>\n",
       "      <td>220</td>\n",
       "    </tr>\n",
       "    <tr>\n",
       "      <th>119</th>\n",
       "      <td>핸디/스틱청소기</td>\n",
       "      <td>샤오미</td>\n",
       "      <td>유핀 CL99</td>\n",
       "      <td>38190</td>\n",
       "      <td>50.0</td>\n",
       "      <td>210</td>\n",
       "    </tr>\n",
       "    <tr>\n",
       "      <th>131</th>\n",
       "      <td>핸디/스틱청소기</td>\n",
       "      <td>유니맥스</td>\n",
       "      <td>UVC-1688</td>\n",
       "      <td>16580</td>\n",
       "      <td>60.0</td>\n",
       "      <td>210</td>\n",
       "    </tr>\n",
       "    <tr>\n",
       "      <th>134</th>\n",
       "      <td>핸디/스틱청소기</td>\n",
       "      <td>DIBEA</td>\n",
       "      <td>AUTO17000</td>\n",
       "      <td>98000</td>\n",
       "      <td>45.0</td>\n",
       "      <td>170</td>\n",
       "    </tr>\n",
       "    <tr>\n",
       "      <th>135</th>\n",
       "      <td>핸디/스틱청소기</td>\n",
       "      <td>유니맥스</td>\n",
       "      <td>UVC-1685A</td>\n",
       "      <td>30300</td>\n",
       "      <td>45.0</td>\n",
       "      <td>170</td>\n",
       "    </tr>\n",
       "    <tr>\n",
       "      <th>137</th>\n",
       "      <td>핸디/스틱청소기</td>\n",
       "      <td>기펠</td>\n",
       "      <td>ZET-10</td>\n",
       "      <td>213340</td>\n",
       "      <td>60.0</td>\n",
       "      <td>210</td>\n",
       "    </tr>\n",
       "    <tr>\n",
       "      <th>153</th>\n",
       "      <td>핸디/스틱청소기</td>\n",
       "      <td>샤오미</td>\n",
       "      <td>TROUVER TECH SOLO10</td>\n",
       "      <td>95280</td>\n",
       "      <td>48.0</td>\n",
       "      <td>180</td>\n",
       "    </tr>\n",
       "    <tr>\n",
       "      <th>156</th>\n",
       "      <td>핸디/스틱청소기</td>\n",
       "      <td>리하스</td>\n",
       "      <td>LH20</td>\n",
       "      <td>299000</td>\n",
       "      <td>120.0</td>\n",
       "      <td>330</td>\n",
       "    </tr>\n",
       "    <tr>\n",
       "      <th>175</th>\n",
       "      <td>핸디/스틱청소기</td>\n",
       "      <td>샤오미</td>\n",
       "      <td>로이드미 Z1</td>\n",
       "      <td>268000</td>\n",
       "      <td>60.0</td>\n",
       "      <td>220</td>\n",
       "    </tr>\n",
       "    <tr>\n",
       "      <th>176</th>\n",
       "      <td>핸디/스틱청소기</td>\n",
       "      <td>아이닉</td>\n",
       "      <td>i20</td>\n",
       "      <td>238000</td>\n",
       "      <td>50.0</td>\n",
       "      <td>250</td>\n",
       "    </tr>\n",
       "    <tr>\n",
       "      <th>196</th>\n",
       "      <td>핸디/스틱청소기</td>\n",
       "      <td>DIBEA</td>\n",
       "      <td>올인원뉴 무선청소기</td>\n",
       "      <td>179000</td>\n",
       "      <td>50.0</td>\n",
       "      <td>200</td>\n",
       "    </tr>\n",
       "    <tr>\n",
       "      <th>198</th>\n",
       "      <td>핸디/스틱청소기</td>\n",
       "      <td>DIBEA</td>\n",
       "      <td>X30</td>\n",
       "      <td>179000</td>\n",
       "      <td>50.0</td>\n",
       "      <td>250</td>\n",
       "    </tr>\n",
       "    <tr>\n",
       "      <th>199</th>\n",
       "      <td>핸디/스틱청소기</td>\n",
       "      <td>일렉트로룩스</td>\n",
       "      <td>WELL Q6 WQ61-1EDB</td>\n",
       "      <td>155930</td>\n",
       "      <td>45.0</td>\n",
       "      <td>250</td>\n",
       "    </tr>\n",
       "    <tr>\n",
       "      <th>210</th>\n",
       "      <td>핸디/스틱청소기</td>\n",
       "      <td>델로라</td>\n",
       "      <td>V11 파워 300W</td>\n",
       "      <td>117390</td>\n",
       "      <td>70.0</td>\n",
       "      <td>220</td>\n",
       "    </tr>\n",
       "    <tr>\n",
       "      <th>212</th>\n",
       "      <td>핸디/스틱청소기</td>\n",
       "      <td>샤오미</td>\n",
       "      <td>로이드미 Z1 Air</td>\n",
       "      <td>228000</td>\n",
       "      <td>60.0</td>\n",
       "      <td>220</td>\n",
       "    </tr>\n",
       "    <tr>\n",
       "      <th>213</th>\n",
       "      <td>핸디/스틱청소기</td>\n",
       "      <td>DIBEA</td>\n",
       "      <td>TSX-25000A</td>\n",
       "      <td>186640</td>\n",
       "      <td>45.0</td>\n",
       "      <td>250</td>\n",
       "    </tr>\n",
       "    <tr>\n",
       "      <th>214</th>\n",
       "      <td>핸디/스틱청소기</td>\n",
       "      <td>DIBEA</td>\n",
       "      <td>M500 퀀텀</td>\n",
       "      <td>236600</td>\n",
       "      <td>50.0</td>\n",
       "      <td>250</td>\n",
       "    </tr>\n",
       "    <tr>\n",
       "      <th>218</th>\n",
       "      <td>핸디/스틱청소기</td>\n",
       "      <td>샤오미</td>\n",
       "      <td>지미 JV85 Pro</td>\n",
       "      <td>243650</td>\n",
       "      <td>70.0</td>\n",
       "      <td>250</td>\n",
       "    </tr>\n",
       "    <tr>\n",
       "      <th>219</th>\n",
       "      <td>핸디/스틱청소기</td>\n",
       "      <td>일렉트로룩스</td>\n",
       "      <td>퓨어 Q9 파워프로 PQ92-3EMF</td>\n",
       "      <td>314600</td>\n",
       "      <td>53.0</td>\n",
       "      <td>250</td>\n",
       "    </tr>\n",
       "    <tr>\n",
       "      <th>224</th>\n",
       "      <td>핸디/스틱청소기</td>\n",
       "      <td>아이룸</td>\n",
       "      <td>ASC-079</td>\n",
       "      <td>58000</td>\n",
       "      <td>60.0</td>\n",
       "      <td>200</td>\n",
       "    </tr>\n",
       "    <tr>\n",
       "      <th>225</th>\n",
       "      <td>핸디/스틱청소기</td>\n",
       "      <td>DIBEA</td>\n",
       "      <td>X20</td>\n",
       "      <td>229000</td>\n",
       "      <td>50.0</td>\n",
       "      <td>200</td>\n",
       "    </tr>\n",
       "    <tr>\n",
       "      <th>248</th>\n",
       "      <td>핸디/스틱청소기</td>\n",
       "      <td>캐치웰</td>\n",
       "      <td>코드엑스</td>\n",
       "      <td>199000</td>\n",
       "      <td>60.0</td>\n",
       "      <td>220</td>\n",
       "    </tr>\n",
       "    <tr>\n",
       "      <th>256</th>\n",
       "      <td>핸디/스틱청소기</td>\n",
       "      <td>아이닉</td>\n",
       "      <td>i20 엘리트</td>\n",
       "      <td>138000</td>\n",
       "      <td>50.0</td>\n",
       "      <td>180</td>\n",
       "    </tr>\n",
       "    <tr>\n",
       "      <th>258</th>\n",
       "      <td>핸디/스틱청소기</td>\n",
       "      <td>샤오미</td>\n",
       "      <td>지미 JV53 LITE</td>\n",
       "      <td>134120</td>\n",
       "      <td>45.0</td>\n",
       "      <td>200</td>\n",
       "    </tr>\n",
       "    <tr>\n",
       "      <th>261</th>\n",
       "      <td>핸디/스틱청소기</td>\n",
       "      <td>DIBEA</td>\n",
       "      <td>M500 클래스</td>\n",
       "      <td>239000</td>\n",
       "      <td>50.0</td>\n",
       "      <td>200</td>\n",
       "    </tr>\n",
       "    <tr>\n",
       "      <th>262</th>\n",
       "      <td>핸디/스틱청소기</td>\n",
       "      <td>일렉트로룩스</td>\n",
       "      <td>에르고라피도 ZB3316AK</td>\n",
       "      <td>160760</td>\n",
       "      <td>48.0</td>\n",
       "      <td>200</td>\n",
       "    </tr>\n",
       "    <tr>\n",
       "      <th>263</th>\n",
       "      <td>핸디/스틱청소기</td>\n",
       "      <td>BSW</td>\n",
       "      <td>BS-14048-VC</td>\n",
       "      <td>29140</td>\n",
       "      <td>48.0</td>\n",
       "      <td>200</td>\n",
       "    </tr>\n",
       "    <tr>\n",
       "      <th>266</th>\n",
       "      <td>핸디/스틱청소기</td>\n",
       "      <td>일렉트로룩스</td>\n",
       "      <td>퓨어 F9 PF91-5EBF</td>\n",
       "      <td>235110</td>\n",
       "      <td>55.0</td>\n",
       "      <td>250</td>\n",
       "    </tr>\n",
       "    <tr>\n",
       "      <th>268</th>\n",
       "      <td>핸디/스틱청소기</td>\n",
       "      <td>샤오미</td>\n",
       "      <td>VIOMI A9 V-HWVC12A</td>\n",
       "      <td>229000</td>\n",
       "      <td>60.0</td>\n",
       "      <td>230</td>\n",
       "    </tr>\n",
       "    <tr>\n",
       "      <th>269</th>\n",
       "      <td>핸디/스틱청소기</td>\n",
       "      <td>퍼피유</td>\n",
       "      <td>T12R</td>\n",
       "      <td>282350</td>\n",
       "      <td>60.0</td>\n",
       "      <td>290</td>\n",
       "    </tr>\n",
       "    <tr>\n",
       "      <th>270</th>\n",
       "      <td>핸디/스틱청소기</td>\n",
       "      <td>일렉트로룩스</td>\n",
       "      <td>퓨어 Q9 PQ91-3OB</td>\n",
       "      <td>242210</td>\n",
       "      <td>55.0</td>\n",
       "      <td>290</td>\n",
       "    </tr>\n",
       "    <tr>\n",
       "      <th>271</th>\n",
       "      <td>핸디/스틱청소기</td>\n",
       "      <td>샤오미</td>\n",
       "      <td>드리미 T20</td>\n",
       "      <td>320850</td>\n",
       "      <td>70.0</td>\n",
       "      <td>250</td>\n",
       "    </tr>\n",
       "    <tr>\n",
       "      <th>286</th>\n",
       "      <td>핸디/스틱청소기</td>\n",
       "      <td>오토모</td>\n",
       "      <td>AVC-OTOA5</td>\n",
       "      <td>317100</td>\n",
       "      <td>60.0</td>\n",
       "      <td>200</td>\n",
       "    </tr>\n",
       "  </tbody>\n",
       "</table>\n",
       "</div>"
      ],
      "text/plain": [
       "         카테고리     회사명                      제품      가격  사용시간(분)  흡입력(AW)\n",
       "3    핸디/스틱청소기     샤오미                 드리미 V10  150880     60.0      220\n",
       "6    핸디/스틱청소기  일렉트로룩스       WELL Q6 WQ61-1OGG  147040     45.0      200\n",
       "9    핸디/스틱청소기     샤오미                  드리미 V9  298000     60.0      200\n",
       "11   핸디/스틱청소기     샤오미        TROUVER POWER 11  138320     60.0      200\n",
       "22   핸디/스틱청소기   DIBEA         차이슨 ALLNEW29000  249000     48.0      290\n",
       "26   핸디/스틱청소기  일렉트로룩스      WELL Q7 WQ71-2ESSF  238360     50.0      185\n",
       "29   핸디/스틱청소기  일렉트로룩스  Well Q7 Pet WQ71-2PSSF  328290     50.0      200\n",
       "30   핸디/스틱청소기     샤오미                 드리미 V12  309430     90.0      270\n",
       "37   핸디/스틱청소기  일렉트로룩스    퓨어 Q9 파워프로 PQ92-3OBF  316590     53.0      200\n",
       "41   핸디/스틱청소기     샤오미            드리미 V10 ARES  209000     60.0      220\n",
       "47   핸디/스틱청소기  일렉트로룩스      WELL Q7 WQ71-2BSWF  323880     50.0      200\n",
       "48   핸디/스틱청소기     샤오미             SHUNZAO Z11  145100     60.0      260\n",
       "51   핸디/스틱청소기     샤오미                 드리미 V9P  131130     60.0      200\n",
       "54   핸디/스틱청소기  일렉트로룩스   Well Q6 Pet WQ61-1PSH  306240     45.0      170\n",
       "57   핸디/스틱청소기     샤오미                 드리미 V11  242730     90.0      250\n",
       "59   핸디/스틱청소기     샤오미         SHUNZAO Z11 PRO  232990     60.0      260\n",
       "61   핸디/스틱청소기  일렉트로룩스      WELL Q7 WQ71-2OIBF  246220     50.0      220\n",
       "62   핸디/스틱청소기  일렉트로룩스    퓨어 Q9 파워프로 PQ92-2OGF  351780     50.0      220\n",
       "63   핸디/스틱청소기     샤오미                드리미 V10P  224900     60.0      220\n",
       "68   핸디/스틱청소기   원더스리빙             원더스 다이나킹 Z9  299000     65.0      220\n",
       "92   핸디/스틱청소기     샤오미                 로이드미 제로  216380     60.0      220\n",
       "94   핸디/스틱청소기  일렉트로룩스            울트라파워 ZB5021  369220     50.0      220\n",
       "119  핸디/스틱청소기     샤오미                 유핀 CL99   38190     50.0      210\n",
       "131  핸디/스틱청소기    유니맥스                UVC-1688   16580     60.0      210\n",
       "134  핸디/스틱청소기   DIBEA               AUTO17000   98000     45.0      170\n",
       "135  핸디/스틱청소기    유니맥스               UVC-1685A   30300     45.0      170\n",
       "137  핸디/스틱청소기      기펠                  ZET-10  213340     60.0      210\n",
       "153  핸디/스틱청소기     샤오미     TROUVER TECH SOLO10   95280     48.0      180\n",
       "156  핸디/스틱청소기     리하스                    LH20  299000    120.0      330\n",
       "175  핸디/스틱청소기     샤오미                 로이드미 Z1  268000     60.0      220\n",
       "176  핸디/스틱청소기     아이닉                     i20  238000     50.0      250\n",
       "196  핸디/스틱청소기   DIBEA              올인원뉴 무선청소기  179000     50.0      200\n",
       "198  핸디/스틱청소기   DIBEA                     X30  179000     50.0      250\n",
       "199  핸디/스틱청소기  일렉트로룩스       WELL Q6 WQ61-1EDB  155930     45.0      250\n",
       "210  핸디/스틱청소기     델로라             V11 파워 300W  117390     70.0      220\n",
       "212  핸디/스틱청소기     샤오미             로이드미 Z1 Air  228000     60.0      220\n",
       "213  핸디/스틱청소기   DIBEA              TSX-25000A  186640     45.0      250\n",
       "214  핸디/스틱청소기   DIBEA                 M500 퀀텀  236600     50.0      250\n",
       "218  핸디/스틱청소기     샤오미             지미 JV85 Pro  243650     70.0      250\n",
       "219  핸디/스틱청소기  일렉트로룩스    퓨어 Q9 파워프로 PQ92-3EMF  314600     53.0      250\n",
       "224  핸디/스틱청소기     아이룸                 ASC-079   58000     60.0      200\n",
       "225  핸디/스틱청소기   DIBEA                     X20  229000     50.0      200\n",
       "248  핸디/스틱청소기     캐치웰                    코드엑스  199000     60.0      220\n",
       "256  핸디/스틱청소기     아이닉                 i20 엘리트  138000     50.0      180\n",
       "258  핸디/스틱청소기     샤오미            지미 JV53 LITE  134120     45.0      200\n",
       "261  핸디/스틱청소기   DIBEA                M500 클래스  239000     50.0      200\n",
       "262  핸디/스틱청소기  일렉트로룩스         에르고라피도 ZB3316AK  160760     48.0      200\n",
       "263  핸디/스틱청소기     BSW             BS-14048-VC   29140     48.0      200\n",
       "266  핸디/스틱청소기  일렉트로룩스         퓨어 F9 PF91-5EBF  235110     55.0      250\n",
       "268  핸디/스틱청소기     샤오미      VIOMI A9 V-HWVC12A  229000     60.0      230\n",
       "269  핸디/스틱청소기     퍼피유                    T12R  282350     60.0      290\n",
       "270  핸디/스틱청소기  일렉트로룩스          퓨어 Q9 PQ91-3OB  242210     55.0      290\n",
       "271  핸디/스틱청소기     샤오미                 드리미 T20  320850     70.0      250\n",
       "286  핸디/스틱청소기     오토모               AVC-OTOA5  317100     60.0      200"
      ]
     },
     "execution_count": 8,
     "metadata": {},
     "output_type": "execute_result"
    }
   ],
   "source": [
    "condition_data = danawa_data[\n",
    "    (danawa_data['가격'] <= price_mean_value) &\n",
    "    (danawa_data['흡입력(AW)'] >= suction_mean_value)&\n",
    "    (danawa_data['사용시간(분)'] >= use_time_value )\n",
    "]\n",
    "condition_data"
   ]
  },
  {
   "cell_type": "code",
   "execution_count": null,
   "metadata": {},
   "outputs": [],
   "source": []
  },
  {
   "cell_type": "code",
   "execution_count": 130,
   "metadata": {},
   "outputs": [],
   "source": [
    "#데이터시각화"
   ]
  },
  {
   "cell_type": "code",
   "execution_count": 10,
   "metadata": {},
   "outputs": [],
   "source": [
    "import matplotlib.pyplot as plt\n",
    "import seaborn as sns\n",
    "from matplotlib import font_manager, rc\n",
    "import platform\n",
    "\n",
    "font_path = ''\n",
    "if platform.system() == 'Windows':\n",
    "    font_path = 'c:/Windows/Fonts/malgun.ttf'\n",
    "    font_name = font_manager.FontProperties(fname = font_path).get_name()\n",
    "    rc('font', family = font_name)\n",
    "elif platform.system() == 'Darwin':\n",
    "    font_path = r'\\Users\\$USER\\Library\\Fonts\\AppleGothic.ttf'\n",
    "    rc('font', family = 'AppleGothic')\n",
    "else:\n",
    "    print('Check your OS system')\n",
    "\n",
    "%matplotlib inline"
   ]
  },
  {
   "cell_type": "code",
   "execution_count": 12,
   "metadata": {},
   "outputs": [
    {
     "data": {
      "text/plain": [
       "285"
      ]
     },
     "execution_count": 12,
     "metadata": {},
     "output_type": "execute_result"
    }
   ],
   "source": [
    "#결측값 없애기\n",
    "\n",
    "chart_data = danawa_data.dropna(axis = 0)\n",
    "len(chart_data)"
   ]
  },
  {
   "cell_type": "code",
   "execution_count": 13,
   "metadata": {},
   "outputs": [],
   "source": [
    "suction_max_value = chart_data['흡입력(AW)'].max()\n",
    "suction_mean_value = chart_data['흡입력(AW)'].mean()\n",
    "use_time_max_value = chart_data['사용시간(분)'].max()\n",
    "use_time_mean_value = chart_data['사용시간(분)'].mean()"
   ]
  },
  {
   "cell_type": "code",
   "execution_count": 15,
   "metadata": {},
   "outputs": [
    {
     "data": {
      "image/png": "[encoded data removed]",
      "text/plain": [
       "<Figure size 1440x720 with 1 Axes>"
      ]
     },
     "metadata": {},
     "output_type": "display_data"
    }
   ],
   "source": [
    "plt.figure(figsize = (20,10))\n",
    "plt.title(\"무선 핸디/스틱청소기 차트\")\n",
    "\n",
    "sns.scatterplot(x = '흡입력(AW)', y = '사용시간(분)', size = '가격', hue = chart_data['회사명'], data = chart_data, sizes = (10,1000), legend = False)\n",
    "\n",
    "plt.plot([0, suction_max_value],\n",
    "        [use_time_mean_value, use_time_mean_value],\n",
    "        'r--',\n",
    "        lw = 1)\n",
    "plt.plot([suction_mean_value, suction_mean_value],\n",
    "        [0, use_time_max_value],\n",
    "        'r--',\n",
    "        lw = 1)\n",
    "plt.show()"
   ]
  },
  {
   "cell_type": "code",
   "execution_count": null,
   "metadata": {},
   "outputs": [],
   "source": []
  },
  {
   "cell_type": "code",
   "execution_count": 31,
   "metadata": {},
   "outputs": [
    {
     "data": {
      "text/plain": [
       "20"
      ]
     },
     "execution_count": 31,
     "metadata": {},
     "output_type": "execute_result"
    }
   ],
   "source": [
    "#상위 20개 제품(인기도순 정렬)\n",
    "\n",
    "chart_data_selected = chart_data[:15]\n",
    "len(chart_data_selected)"
   ]
  },
  {
   "cell_type": "code",
   "execution_count": 43,
   "metadata": {},
   "outputs": [
    {
     "data": {
      "image/png": "[encoded data removed]",
      "text/plain": [
       "<Figure size 720x1440 with 1 Axes>"
      ]
     },
     "metadata": {},
     "output_type": "display_data"
    }
   ],
   "source": [
    "suction_max_value = chart_data_selected['흡입력(AW)'].max()\n",
    "suction_mean_value = chart_data_selected['흡입력(AW)'].mean()\n",
    "use_time_max_value = chart_data_selected['사용시간(분)'].max()\n",
    "use_time_mean_value = chart_data_selected['사용시간(분)'].mean()\n",
    "\n",
    "plt.figure(figsize=(10,20))\n",
    "plt.title(\"무선 핸디/스틱청소기 차트 TOP 20\")\n",
    "sns.scatterplot(x = '사용시간(분)',\n",
    "               y = '흡입력(AW)',\n",
    "               size = '가격',\n",
    "               hue = chart_data_selected['회사명'],\n",
    "               data = chart_data_selected, sizes = (100, 2000),\n",
    "               legend = False)\n",
    "\n",
    "plt.plot([use_time_mean_value, use_time_mean_value],\n",
    "         [80, suction_max_value],\n",
    "        'r--',\n",
    "        lw = 1)\n",
    "plt.plot([30, use_time_max_value],\n",
    "         [suction_mean_value, suction_mean_value],\n",
    "        'r--',\n",
    "        lw = 1)\n",
    "\n",
    "for index, row in chart_data_selected.iterrows():\n",
    "    x = row['사용시간(분)']\n",
    "    y = row['흡입력(AW)']\n",
    "    s = row['제품'].split(' ')[0]\n",
    "    plt.text(x, y, s, size=10)\n",
    "\n",
    "\n",
    "plt.show()"
   ]
  },
  {
   "cell_type": "code",
   "execution_count": null,
   "metadata": {},
   "outputs": [],
   "source": []
  }
 ],
 "metadata": {
  "kernelspec": {
   "display_name": "Python 3",
   "language": "python",
   "name": "python3"
  },
  "language_info": {
   "codemirror_mode": {
    "name": "ipython",
    "version": 3
   },
   "file_extension": ".py",
   "mimetype": "text/x-python",
   "name": "python",
   "nbconvert_exporter": "python",
   "pygments_lexer": "ipython3",
   "version": "3.6.5"
  }
 },
 "nbformat": 4,
 "nbformat_minor": 2
}
