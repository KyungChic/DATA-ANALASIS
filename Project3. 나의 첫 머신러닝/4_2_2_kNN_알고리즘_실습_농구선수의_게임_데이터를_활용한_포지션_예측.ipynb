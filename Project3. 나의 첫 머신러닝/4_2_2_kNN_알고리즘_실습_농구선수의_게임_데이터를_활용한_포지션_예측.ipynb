{
  "nbformat": 4,
  "nbformat_minor": 0,
  "metadata": {
    "colab": {
      "name": "4.2.2 kNN 알고리즘 실습 - 농구선수의 게임 데이터를 활용한 포지션 예측",
      "provenance": [],
      "collapsed_sections": []
    },
    "kernelspec": {
      "name": "python3",
      "display_name": "Python 3"
    },
    "language_info": {
      "name": "python"
    }
  },
  "cells": [
    {
      "cell_type": "code",
      "metadata": {
        "id": "oo88ytku_3u9"
      },
      "source": [
        "import pandas as pd"
      ],
      "execution_count": 1,
      "outputs": []
    },
    {
      "cell_type": "code",
      "metadata": {
        "colab": {
          "base_uri": "https://localhost:8080/",
          "height": 195
        },
        "id": "-4GZJiHRAEH9",
        "outputId": "e441d36a-ab8f-4958-9cc5-d79a53533b5e"
      },
      "source": [
        "df = pd.read_csv('https://raw.githubusercontent.com/wikibook/machine-learning/2.0/data/csv/basketball_stat.csv')\n",
        "df.head()"
      ],
      "execution_count": 2,
      "outputs": [
        {
          "output_type": "execute_result",
          "data": {
            "text/html": [
              "<div>\n",
              "<style scoped>\n",
              "    .dataframe tbody tr th:only-of-type {\n",
              "        vertical-align: middle;\n",
              "    }\n",
              "\n",
              "    .dataframe tbody tr th {\n",
              "        vertical-align: top;\n",
              "    }\n",
              "\n",
              "    .dataframe thead th {\n",
              "        text-align: right;\n",
              "    }\n",
              "</style>\n",
              "<table border=\"1\" class=\"dataframe\">\n",
              "  <thead>\n",
              "    <tr style=\"text-align: right;\">\n",
              "      <th></th>\n",
              "      <th>Player</th>\n",
              "      <th>Pos</th>\n",
              "      <th>3P</th>\n",
              "      <th>2P</th>\n",
              "      <th>TRB</th>\n",
              "      <th>AST</th>\n",
              "      <th>STL</th>\n",
              "      <th>BLK</th>\n",
              "    </tr>\n",
              "  </thead>\n",
              "  <tbody>\n",
              "    <tr>\n",
              "      <th>0</th>\n",
              "      <td>Alex Abrines</td>\n",
              "      <td>SG</td>\n",
              "      <td>1.4</td>\n",
              "      <td>0.6</td>\n",
              "      <td>1.3</td>\n",
              "      <td>0.6</td>\n",
              "      <td>0.5</td>\n",
              "      <td>0.1</td>\n",
              "    </tr>\n",
              "    <tr>\n",
              "      <th>1</th>\n",
              "      <td>Steven Adams</td>\n",
              "      <td>C</td>\n",
              "      <td>0.0</td>\n",
              "      <td>4.7</td>\n",
              "      <td>7.7</td>\n",
              "      <td>1.1</td>\n",
              "      <td>1.1</td>\n",
              "      <td>1.0</td>\n",
              "    </tr>\n",
              "    <tr>\n",
              "      <th>2</th>\n",
              "      <td>Alexis Ajinca</td>\n",
              "      <td>C</td>\n",
              "      <td>0.0</td>\n",
              "      <td>2.3</td>\n",
              "      <td>4.5</td>\n",
              "      <td>0.3</td>\n",
              "      <td>0.5</td>\n",
              "      <td>0.6</td>\n",
              "    </tr>\n",
              "    <tr>\n",
              "      <th>3</th>\n",
              "      <td>Chris Andersen</td>\n",
              "      <td>C</td>\n",
              "      <td>0.0</td>\n",
              "      <td>0.8</td>\n",
              "      <td>2.6</td>\n",
              "      <td>0.4</td>\n",
              "      <td>0.4</td>\n",
              "      <td>0.6</td>\n",
              "    </tr>\n",
              "    <tr>\n",
              "      <th>4</th>\n",
              "      <td>Will Barton</td>\n",
              "      <td>SG</td>\n",
              "      <td>1.5</td>\n",
              "      <td>3.5</td>\n",
              "      <td>4.3</td>\n",
              "      <td>3.4</td>\n",
              "      <td>0.8</td>\n",
              "      <td>0.5</td>\n",
              "    </tr>\n",
              "  </tbody>\n",
              "</table>\n",
              "</div>"
            ],
            "text/plain": [
              "           Player Pos   3P   2P  TRB  AST  STL  BLK\n",
              "0    Alex Abrines  SG  1.4  0.6  1.3  0.6  0.5  0.1\n",
              "1    Steven Adams   C  0.0  4.7  7.7  1.1  1.1  1.0\n",
              "2   Alexis Ajinca   C  0.0  2.3  4.5  0.3  0.5  0.6\n",
              "3  Chris Andersen   C  0.0  0.8  2.6  0.4  0.4  0.6\n",
              "4     Will Barton  SG  1.5  3.5  4.3  3.4  0.8  0.5"
            ]
          },
          "metadata": {
            "tags": []
          },
          "execution_count": 2
        }
      ]
    },
    {
      "cell_type": "code",
      "metadata": {
        "colab": {
          "base_uri": "https://localhost:8080/"
        },
        "id": "JyASjsN-AH8u",
        "outputId": "c42adc15-6b4b-4bc9-dff8-e43b848bb9fb"
      },
      "source": [
        "#포지션 개수 세기\n",
        "df.Pos.value_counts()"
      ],
      "execution_count": 3,
      "outputs": [
        {
          "output_type": "execute_result",
          "data": {
            "text/plain": [
              "SG    50\n",
              "C     50\n",
              "Name: Pos, dtype: int64"
            ]
          },
          "metadata": {
            "tags": []
          },
          "execution_count": 3
        }
      ]
    },
    {
      "cell_type": "code",
      "metadata": {
        "id": "-NoAvZodAR2H"
      },
      "source": [
        "#시각화해서 살펴보기\n",
        "\n",
        "import matplotlib.pyplot as plt\n",
        "import seaborn as sns\n",
        "%matplotlib inline\n"
      ],
      "execution_count": 4,
      "outputs": []
    },
    {
      "cell_type": "code",
      "metadata": {
        "colab": {
          "base_uri": "https://localhost:8080/",
          "height": 472
        },
        "id": "rD0wRvvXaQ9X",
        "outputId": "c10660f8-a499-46d4-98de-050d017a36b2"
      },
      "source": [
        "#스틸, 2점슛 데이터 시각화\n",
        "\n",
        "sns.lmplot('STL', '2P', data=df, fit_reg=False,\n",
        "           scatter_kws = {\"s\": 150},\n",
        "           markers=[\"o\", \"x\"],\n",
        "           hue=\"Pos\")\n",
        "plt.title('STL and 2P in 2d plane')"
      ],
      "execution_count": 5,
      "outputs": [
        {
          "output_type": "stream",
          "text": [
            "/usr/local/lib/python3.7/dist-packages/seaborn/_decorators.py:43: FutureWarning: Pass the following variables as keyword args: x, y. From version 0.12, the only valid positional argument will be `data`, and passing other arguments without an explicit keyword will result in an error or misinterpretation.\n",
            "  FutureWarning\n"
          ],
          "name": "stderr"
        },
        {
          "output_type": "execute_result",
          "data": {
            "text/plain": [
              "Text(0.5, 1.0, 'STL and 2P in 2d plane')"
            ]
          },
          "metadata": {
            "tags": []
          },
          "execution_count": 5
        },
        {
          "output_type": "display_data",
          "data": {
            "image/png": "[encoded data removed]",
            "text/plain": [
              "<Figure size 410x360 with 1 Axes>"
            ]
          },
          "metadata": {
            "tags": [],
            "needs_background": "light"
          }
        }
      ]
    },
    {
      "cell_type": "code",
      "metadata": {
        "colab": {
          "base_uri": "https://localhost:8080/",
          "height": 472
        },
        "id": "2e1hT_CgbMlc",
        "outputId": "ad4c69ee-8cbb-428d-9f7d-761e8c967146"
      },
      "source": [
        "#어시스트, 2점슛 공간의 데이터 시각화\n",
        "\n",
        "sns.lmplot('AST', '2P', data = df, fit_reg = False,\n",
        "           scatter_kws = {'s' : 150},\n",
        "           markers = ['o','x'],\n",
        "           hue = 'Pos')\n",
        "plt.title(\"AST and 2p in 2d plane\")\n"
      ],
      "execution_count": 6,
      "outputs": [
        {
          "output_type": "stream",
          "text": [
            "/usr/local/lib/python3.7/dist-packages/seaborn/_decorators.py:43: FutureWarning: Pass the following variables as keyword args: x, y. From version 0.12, the only valid positional argument will be `data`, and passing other arguments without an explicit keyword will result in an error or misinterpretation.\n",
            "  FutureWarning\n"
          ],
          "name": "stderr"
        },
        {
          "output_type": "execute_result",
          "data": {
            "text/plain": [
              "Text(0.5, 1.0, 'AST and 2p in 2d plane')"
            ]
          },
          "metadata": {
            "tags": []
          },
          "execution_count": 6
        },
        {
          "output_type": "display_data",
          "data": {
            "image/png": "[encoded data removed]",
            "text/plain": [
              "<Figure size 410x360 with 1 Axes>"
            ]
          },
          "metadata": {
            "tags": [],
            "needs_background": "light"
          }
        }
      ]
    },
    {
      "cell_type": "code",
      "metadata": {
        "id": "-XEDdeBReOGj",
        "colab": {
          "base_uri": "https://localhost:8080/",
          "height": 472
        },
        "outputId": "87580255-17f1-4568-ed09-3ad4de80356b"
      },
      "source": [
        "#블로킹, 3점슛 데이터 시각화\n",
        "\n",
        "sns.lmplot('BLK', '3P', data = df, fit_reg = False,\n",
        "           scatter_kws = {'s' : 150},\n",
        "           markers = ['o', 'x'],\n",
        "           hue = 'Pos')\n",
        "\n",
        "plt.title('BLK and 3P in 2d plane')"
      ],
      "execution_count": 7,
      "outputs": [
        {
          "output_type": "stream",
          "text": [
            "/usr/local/lib/python3.7/dist-packages/seaborn/_decorators.py:43: FutureWarning: Pass the following variables as keyword args: x, y. From version 0.12, the only valid positional argument will be `data`, and passing other arguments without an explicit keyword will result in an error or misinterpretation.\n",
            "  FutureWarning\n"
          ],
          "name": "stderr"
        },
        {
          "output_type": "execute_result",
          "data": {
            "text/plain": [
              "Text(0.5, 1.0, 'BLK and 3P in 2d plane')"
            ]
          },
          "metadata": {
            "tags": []
          },
          "execution_count": 7
        },
        {
          "output_type": "display_data",
          "data": {
            "image/png": "[encoded data removed]",
            "text/plain": [
              "<Figure size 410x360 with 1 Axes>"
            ]
          },
          "metadata": {
            "tags": [],
            "needs_background": "light"
          }
        }
      ]
    },
    {
      "cell_type": "code",
      "metadata": {
        "colab": {
          "base_uri": "https://localhost:8080/",
          "height": 472
        },
        "id": "wam6A871lWHI",
        "outputId": "5e4de4e5-8bf0-4fb5-91d1-801851fcd6b9"
      },
      "source": [
        "#리바운드, 3점슛 데이터 시각화\n",
        "\n",
        "sns.lmplot('TRB', '3P', data = df, fit_reg= False,\n",
        "           scatter_kws = {'s': 150},\n",
        "           markers = ['o', 'x'],\n",
        "           hue = 'Pos')\n",
        "\n",
        "plt.title('TRB and 3P in 2d plane')"
      ],
      "execution_count": 8,
      "outputs": [
        {
          "output_type": "stream",
          "text": [
            "/usr/local/lib/python3.7/dist-packages/seaborn/_decorators.py:43: FutureWarning: Pass the following variables as keyword args: x, y. From version 0.12, the only valid positional argument will be `data`, and passing other arguments without an explicit keyword will result in an error or misinterpretation.\n",
            "  FutureWarning\n"
          ],
          "name": "stderr"
        },
        {
          "output_type": "execute_result",
          "data": {
            "text/plain": [
              "Text(0.5, 1.0, 'TRB and 3P in 2d plane')"
            ]
          },
          "metadata": {
            "tags": []
          },
          "execution_count": 8
        },
        {
          "output_type": "display_data",
          "data": {
            "image/png": "[encoded data removed]",
            "text/plain": [
              "<Figure size 410x360 with 1 Axes>"
            ]
          },
          "metadata": {
            "tags": [],
            "needs_background": "light"
          }
        }
      ]
    },
    {
      "cell_type": "code",
      "metadata": {
        "id": "rgJ94dEgmLUg"
      },
      "source": [
        "## 그래프를 통해 봤을 때 스틸, 어시스트, 2P는 변별력이 크지 않음. / 블록, 리바운드, 3P의 변별력이 더 높다"
      ],
      "execution_count": 9,
      "outputs": []
    },
    {
      "cell_type": "code",
      "metadata": {
        "id": "wrKI8HAns16t"
      },
      "source": [
        "#<데이터 전처리>"
      ],
      "execution_count": 10,
      "outputs": []
    },
    {
      "cell_type": "code",
      "metadata": {
        "colab": {
          "base_uri": "https://localhost:8080/",
          "height": 402
        },
        "id": "HkMvOAuBtKdZ",
        "outputId": "9e92a591-a124-409e-c105-bc2b939681e7"
      },
      "source": [
        "#변별력 없는 변수 제거\n",
        "\n",
        "df.drop(['2P', 'AST', 'STL'], axis=1, inplace = True)\n",
        "\n",
        "#axis = 1 : 행별로 관련 변수 값 제거 / inplace : 원본 값 수정함.\n",
        "\n",
        "df"
      ],
      "execution_count": 11,
      "outputs": [
        {
          "output_type": "execute_result",
          "data": {
            "text/html": [
              "<div>\n",
              "<style scoped>\n",
              "    .dataframe tbody tr th:only-of-type {\n",
              "        vertical-align: middle;\n",
              "    }\n",
              "\n",
              "    .dataframe tbody tr th {\n",
              "        vertical-align: top;\n",
              "    }\n",
              "\n",
              "    .dataframe thead th {\n",
              "        text-align: right;\n",
              "    }\n",
              "</style>\n",
              "<table border=\"1\" class=\"dataframe\">\n",
              "  <thead>\n",
              "    <tr style=\"text-align: right;\">\n",
              "      <th></th>\n",
              "      <th>Player</th>\n",
              "      <th>Pos</th>\n",
              "      <th>3P</th>\n",
              "      <th>TRB</th>\n",
              "      <th>BLK</th>\n",
              "    </tr>\n",
              "  </thead>\n",
              "  <tbody>\n",
              "    <tr>\n",
              "      <th>0</th>\n",
              "      <td>Alex Abrines</td>\n",
              "      <td>SG</td>\n",
              "      <td>1.4</td>\n",
              "      <td>1.3</td>\n",
              "      <td>0.1</td>\n",
              "    </tr>\n",
              "    <tr>\n",
              "      <th>1</th>\n",
              "      <td>Steven Adams</td>\n",
              "      <td>C</td>\n",
              "      <td>0.0</td>\n",
              "      <td>7.7</td>\n",
              "      <td>1.0</td>\n",
              "    </tr>\n",
              "    <tr>\n",
              "      <th>2</th>\n",
              "      <td>Alexis Ajinca</td>\n",
              "      <td>C</td>\n",
              "      <td>0.0</td>\n",
              "      <td>4.5</td>\n",
              "      <td>0.6</td>\n",
              "    </tr>\n",
              "    <tr>\n",
              "      <th>3</th>\n",
              "      <td>Chris Andersen</td>\n",
              "      <td>C</td>\n",
              "      <td>0.0</td>\n",
              "      <td>2.6</td>\n",
              "      <td>0.6</td>\n",
              "    </tr>\n",
              "    <tr>\n",
              "      <th>4</th>\n",
              "      <td>Will Barton</td>\n",
              "      <td>SG</td>\n",
              "      <td>1.5</td>\n",
              "      <td>4.3</td>\n",
              "      <td>0.5</td>\n",
              "    </tr>\n",
              "    <tr>\n",
              "      <th>...</th>\n",
              "      <td>...</td>\n",
              "      <td>...</td>\n",
              "      <td>...</td>\n",
              "      <td>...</td>\n",
              "      <td>...</td>\n",
              "    </tr>\n",
              "    <tr>\n",
              "      <th>95</th>\n",
              "      <td>Nikola Vucevic</td>\n",
              "      <td>C</td>\n",
              "      <td>0.3</td>\n",
              "      <td>10.4</td>\n",
              "      <td>1.0</td>\n",
              "    </tr>\n",
              "    <tr>\n",
              "      <th>96</th>\n",
              "      <td>Dwyane Wade</td>\n",
              "      <td>SG</td>\n",
              "      <td>0.8</td>\n",
              "      <td>4.5</td>\n",
              "      <td>0.7</td>\n",
              "    </tr>\n",
              "    <tr>\n",
              "      <th>97</th>\n",
              "      <td>Dion Waiters</td>\n",
              "      <td>SG</td>\n",
              "      <td>1.8</td>\n",
              "      <td>3.3</td>\n",
              "      <td>0.4</td>\n",
              "    </tr>\n",
              "    <tr>\n",
              "      <th>98</th>\n",
              "      <td>Hassan Whiteside</td>\n",
              "      <td>C</td>\n",
              "      <td>0.0</td>\n",
              "      <td>14.1</td>\n",
              "      <td>2.1</td>\n",
              "    </tr>\n",
              "    <tr>\n",
              "      <th>99</th>\n",
              "      <td>Lou Williams</td>\n",
              "      <td>SG</td>\n",
              "      <td>2.0</td>\n",
              "      <td>2.5</td>\n",
              "      <td>0.2</td>\n",
              "    </tr>\n",
              "  </tbody>\n",
              "</table>\n",
              "<p>100 rows × 5 columns</p>\n",
              "</div>"
            ],
            "text/plain": [
              "              Player Pos   3P   TRB  BLK\n",
              "0       Alex Abrines  SG  1.4   1.3  0.1\n",
              "1       Steven Adams   C  0.0   7.7  1.0\n",
              "2      Alexis Ajinca   C  0.0   4.5  0.6\n",
              "3     Chris Andersen   C  0.0   2.6  0.6\n",
              "4        Will Barton  SG  1.5   4.3  0.5\n",
              "..               ...  ..  ...   ...  ...\n",
              "95    Nikola Vucevic   C  0.3  10.4  1.0\n",
              "96       Dwyane Wade  SG  0.8   4.5  0.7\n",
              "97      Dion Waiters  SG  1.8   3.3  0.4\n",
              "98  Hassan Whiteside   C  0.0  14.1  2.1\n",
              "99      Lou Williams  SG  2.0   2.5  0.2\n",
              "\n",
              "[100 rows x 5 columns]"
            ]
          },
          "metadata": {
            "tags": []
          },
          "execution_count": 11
        }
      ]
    },
    {
      "cell_type": "code",
      "metadata": {
        "id": "IKlfi8mjuHgk"
      },
      "source": [
        "#<데이터 나누기> : 학습데이터와 테스트데이터 구분\n",
        "\n",
        "#20%를 테스트 데이터로 분류\n",
        "from sklearn.model_selection import train_test_split\n",
        "train, test = train_test_split(df, test_size = 0.2)"
      ],
      "execution_count": 12,
      "outputs": []
    },
    {
      "cell_type": "code",
      "metadata": {
        "colab": {
          "base_uri": "https://localhost:8080/"
        },
        "id": "ARKkcDZywmYP",
        "outputId": "4e8fcfee-c337-45fc-aba3-4c5b9a30a957"
      },
      "source": [
        "#데이터 개수 보기\n",
        "\n",
        "print(train.shape[0])\n",
        "print(test.shape[0])"
      ],
      "execution_count": 13,
      "outputs": [
        {
          "output_type": "stream",
          "text": [
            "80\n",
            "20\n"
          ],
          "name": "stdout"
        }
      ]
    },
    {
      "cell_type": "code",
      "metadata": {
        "colab": {
          "base_uri": "https://localhost:8080/"
        },
        "id": "KeKoTFTNwrY2",
        "outputId": "f06ab405-fc42-4fd1-96cf-b9d940298d97"
      },
      "source": [
        "#<최적의 kNN 파라미터 찾기>\n",
        "\n",
        "## 사이킷런의 cross_val_score을 통한 검증(k-fold 교차검증 방식)\n",
        "### 학습데이터를 10개로 나누고, 90%를 학습데이터, 10%를 검증데이터로 사용하여 10개의 검증결과를 산술평균 낸 결과 값으로 최적값을 추정함.\n",
        "\n",
        "#### k의 범위는 3부터 학습데이터 수의 절반으로 설정하고 최적값을 도출함.\n",
        "#### 10-fold을 각각의 k 값을 대상으로 검증결과 저장\n",
        "\n",
        "from sklearn.neighbors import KNeighborsClassifier\n",
        "from sklearn.model_selection import cross_val_score\n",
        "\n",
        "max_k_range = train.shape[0] // 2\n",
        "k_list = []\n",
        "for i in range(3, max_k_range, 2):\n",
        "  k_list.append(i)\n",
        "\n",
        "cross_validation_scores = []\n",
        "x_train = train[['3P', 'BLK', 'TRB']]\n",
        "y_train = train[['Pos']]\n",
        "\n",
        "for k in k_list :\n",
        "  knn = KNeighborsClassifier(n_neighbors = k)\n",
        "  scores = cross_val_score(knn, x_train, y_train.values.ravel(), cv=10,\n",
        "                           scoring = 'accuracy')\n",
        "  cross_validation_scores.append(scores.mean())\n",
        "\n",
        "cross_validation_scores"
      ],
      "execution_count": 14,
      "outputs": [
        {
          "output_type": "execute_result",
          "data": {
            "text/plain": [
              "[0.9125,\n",
              " 0.85,\n",
              " 0.8875,\n",
              " 0.8875,\n",
              " 0.8875,\n",
              " 0.875,\n",
              " 0.8875,\n",
              " 0.875,\n",
              " 0.875,\n",
              " 0.8625,\n",
              " 0.8625,\n",
              " 0.85,\n",
              " 0.85,\n",
              " 0.8375,\n",
              " 0.8,\n",
              " 0.8125,\n",
              " 0.8125,\n",
              " 0.8125,\n",
              " 0.775]"
            ]
          },
          "metadata": {
            "tags": []
          },
          "execution_count": 14
        }
      ]
    },
    {
      "cell_type": "code",
      "metadata": {
        "colab": {
          "base_uri": "https://localhost:8080/",
          "height": 279
        },
        "id": "1HfhQhkT67Ny",
        "outputId": "e63670f3-b4cc-4c12-fd36-08c28a3cdf9a"
      },
      "source": [
        "# k값에 대한 각각의 정확성 평균값을 시각화해보기\n",
        "\n",
        "plt.plot(k_list, cross_validation_scores)\n",
        "plt.xlabel('the number of k')\n",
        "plt.ylabel('Accuracy')\n",
        "plt.show()"
      ],
      "execution_count": 15,
      "outputs": [
        {
          "output_type": "display_data",
          "data": {
            "image/png": "[encoded data removed]",
            "text/plain": [
              "<Figure size 432x288 with 1 Axes>"
            ]
          },
          "metadata": {
            "tags": [],
            "needs_background": "light"
          }
        }
      ]
    },
    {
      "cell_type": "code",
      "metadata": {
        "id": "PMAoAak07UcL",
        "colab": {
          "base_uri": "https://localhost:8080/"
        },
        "outputId": "4f4993dd-b9ff-4873-e934-901d695738b6"
      },
      "source": [
        "#예측율 높은 k 선정\n",
        "k = k_list[cross_validation_scores.index(max(cross_validation_scores))]\n",
        "print('the best number of k : ' + str(k))"
      ],
      "execution_count": 20,
      "outputs": [
        {
          "output_type": "stream",
          "text": [
            "the best number of k : 3\n"
          ],
          "name": "stdout"
        }
      ]
    },
    {
      "cell_type": "code",
      "metadata": {
        "colab": {
          "base_uri": "https://localhost:8080/"
        },
        "id": "00JJvfihUdOZ",
        "outputId": "8be0e7d6-a7be-4c37-bfd1-9d316886f75e"
      },
      "source": [
        "#<모델테스트>\n",
        "\n",
        "from sklearn.neighbors import KNeighborsClassifier\n",
        "from sklearn.metrics import accuracy_score\n",
        "\n",
        "knn = KNeighborsClassifier(n_neighbors = k)\n",
        "\n",
        "# [kNN 모델 학습]\n",
        "\n",
        "##(학습)독립변수 지정 : 3P, 블락, 리바운드\n",
        "x_train = train[['3P', 'BLK', 'TRB']]\n",
        "##(학습)종속변수 지정\n",
        "y_train = train[['Pos']]\n",
        "##kNN 모델학습\n",
        "knn.fit(x_train, y_train.values.ravel())\n",
        "\n",
        "# [kNN 모델 테스트]\n",
        "\n",
        "##(테스트)독립변수\n",
        "x_test = test[['3P', 'BLK', 'TRB']]\n",
        "##(테스트)종속변수\n",
        "y_test = test[['Pos']]\n",
        "##테스트\n",
        "pred = knn.predict(x_test)\n",
        "\n",
        "##정확도 출력\n",
        "print(\"accuracy : \" + str( accuracy_score(y_test.values.ravel(), pred)))\n",
        "\n",
        "\n"
      ],
      "execution_count": 22,
      "outputs": [
        {
          "output_type": "stream",
          "text": [
            "accuracy : 0.9\n"
          ],
          "name": "stdout"
        }
      ]
    },
    {
      "cell_type": "code",
      "metadata": {
        "colab": {
          "base_uri": "https://localhost:8080/",
          "height": 639
        },
        "id": "-k2wI0oiUhZ_",
        "outputId": "37d92b01-fe57-42fd-92cb-b0c26ed18c10"
      },
      "source": [
        "##실제 값과 학습 값 비교해보기\n",
        "\n",
        "comparison = pd.DataFrame({'prediction':pred, 'ground_truth':y_test.values.ravel()})\n",
        "comparison"
      ],
      "execution_count": 23,
      "outputs": [
        {
          "output_type": "execute_result",
          "data": {
            "text/html": [
              "<div>\n",
              "<style scoped>\n",
              "    .dataframe tbody tr th:only-of-type {\n",
              "        vertical-align: middle;\n",
              "    }\n",
              "\n",
              "    .dataframe tbody tr th {\n",
              "        vertical-align: top;\n",
              "    }\n",
              "\n",
              "    .dataframe thead th {\n",
              "        text-align: right;\n",
              "    }\n",
              "</style>\n",
              "<table border=\"1\" class=\"dataframe\">\n",
              "  <thead>\n",
              "    <tr style=\"text-align: right;\">\n",
              "      <th></th>\n",
              "      <th>prediction</th>\n",
              "      <th>ground_truth</th>\n",
              "    </tr>\n",
              "  </thead>\n",
              "  <tbody>\n",
              "    <tr>\n",
              "      <th>0</th>\n",
              "      <td>SG</td>\n",
              "      <td>SG</td>\n",
              "    </tr>\n",
              "    <tr>\n",
              "      <th>1</th>\n",
              "      <td>C</td>\n",
              "      <td>C</td>\n",
              "    </tr>\n",
              "    <tr>\n",
              "      <th>2</th>\n",
              "      <td>SG</td>\n",
              "      <td>SG</td>\n",
              "    </tr>\n",
              "    <tr>\n",
              "      <th>3</th>\n",
              "      <td>C</td>\n",
              "      <td>SG</td>\n",
              "    </tr>\n",
              "    <tr>\n",
              "      <th>4</th>\n",
              "      <td>SG</td>\n",
              "      <td>SG</td>\n",
              "    </tr>\n",
              "    <tr>\n",
              "      <th>5</th>\n",
              "      <td>C</td>\n",
              "      <td>C</td>\n",
              "    </tr>\n",
              "    <tr>\n",
              "      <th>6</th>\n",
              "      <td>C</td>\n",
              "      <td>C</td>\n",
              "    </tr>\n",
              "    <tr>\n",
              "      <th>7</th>\n",
              "      <td>SG</td>\n",
              "      <td>SG</td>\n",
              "    </tr>\n",
              "    <tr>\n",
              "      <th>8</th>\n",
              "      <td>SG</td>\n",
              "      <td>SG</td>\n",
              "    </tr>\n",
              "    <tr>\n",
              "      <th>9</th>\n",
              "      <td>SG</td>\n",
              "      <td>SG</td>\n",
              "    </tr>\n",
              "    <tr>\n",
              "      <th>10</th>\n",
              "      <td>C</td>\n",
              "      <td>C</td>\n",
              "    </tr>\n",
              "    <tr>\n",
              "      <th>11</th>\n",
              "      <td>SG</td>\n",
              "      <td>C</td>\n",
              "    </tr>\n",
              "    <tr>\n",
              "      <th>12</th>\n",
              "      <td>C</td>\n",
              "      <td>C</td>\n",
              "    </tr>\n",
              "    <tr>\n",
              "      <th>13</th>\n",
              "      <td>SG</td>\n",
              "      <td>SG</td>\n",
              "    </tr>\n",
              "    <tr>\n",
              "      <th>14</th>\n",
              "      <td>C</td>\n",
              "      <td>C</td>\n",
              "    </tr>\n",
              "    <tr>\n",
              "      <th>15</th>\n",
              "      <td>C</td>\n",
              "      <td>C</td>\n",
              "    </tr>\n",
              "    <tr>\n",
              "      <th>16</th>\n",
              "      <td>SG</td>\n",
              "      <td>SG</td>\n",
              "    </tr>\n",
              "    <tr>\n",
              "      <th>17</th>\n",
              "      <td>C</td>\n",
              "      <td>C</td>\n",
              "    </tr>\n",
              "    <tr>\n",
              "      <th>18</th>\n",
              "      <td>C</td>\n",
              "      <td>C</td>\n",
              "    </tr>\n",
              "    <tr>\n",
              "      <th>19</th>\n",
              "      <td>C</td>\n",
              "      <td>C</td>\n",
              "    </tr>\n",
              "  </tbody>\n",
              "</table>\n",
              "</div>"
            ],
            "text/plain": [
              "   prediction ground_truth\n",
              "0          SG           SG\n",
              "1           C            C\n",
              "2          SG           SG\n",
              "3           C           SG\n",
              "4          SG           SG\n",
              "5           C            C\n",
              "6           C            C\n",
              "7          SG           SG\n",
              "8          SG           SG\n",
              "9          SG           SG\n",
              "10          C            C\n",
              "11         SG            C\n",
              "12          C            C\n",
              "13         SG           SG\n",
              "14          C            C\n",
              "15          C            C\n",
              "16         SG           SG\n",
              "17          C            C\n",
              "18          C            C\n",
              "19          C            C"
            ]
          },
          "metadata": {
            "tags": []
          },
          "execution_count": 23
        }
      ]
    },
    {
      "cell_type": "code",
      "metadata": {
        "id": "Yg3LLG2RiITQ"
      },
      "source": [
        ""
      ],
      "execution_count": null,
      "outputs": []
    }
  ]
}