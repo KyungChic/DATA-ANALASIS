{
  "nbformat": 4,
  "nbformat_minor": 0,
  "metadata": {
    "colab": {
      "name": "4_5_3_베르누이_나이브_베이즈",
      "provenance": [],
      "collapsed_sections": []
    },
    "kernelspec": {
      "name": "python3",
      "display_name": "Python 3"
    },
    "language_info": {
      "name": "python"
    }
  },
  "cells": [
    {
      "cell_type": "code",
      "metadata": {
        "id": "gxYKHxo1o09Z"
      },
      "source": [
        "import numpy as np\n",
        "import pandas as pd\n",
        "from sklearn.feature_extraction.text import CountVectorizer\n",
        "from sklearn.naive_bayes import BernoulliNB\n",
        "from sklearn.metrics import accuracy_score"
      ],
      "execution_count": 2,
      "outputs": []
    },
    {
      "cell_type": "code",
      "metadata": {
        "id": "OzMVfLQ_peXO"
      },
      "source": [
        "#<데이터수집>\n",
        "\n",
        "email_list = [\n",
        "              {'email title' : 'free game only today', 'spam' : True},\n",
        "              {'email title' : 'cheapest flight deal', 'spam' : True},\n",
        "              {'email title' : 'limited time offer only today only today', 'spam' : True},\n",
        "              {'email title' : 'today meeting schedule' , 'spam' : False},\n",
        "              {'email title' : 'your flight schedule attached', 'spam' : False},\n",
        "              {'email title' : 'your credit card statement' , 'spam' : False}\n",
        "]\n",
        "df = pd.DataFrame(email_list)"
      ],
      "execution_count": 3,
      "outputs": []
    },
    {
      "cell_type": "code",
      "metadata": {
        "colab": {
          "base_uri": "https://localhost:8080/",
          "height": 234
        },
        "id": "oyCsSu-dsl-E",
        "outputId": "852f1dfe-1c0e-4951-c766-9be95f5330d9"
      },
      "source": [
        "df"
      ],
      "execution_count": 4,
      "outputs": [
        {
          "output_type": "execute_result",
          "data": {
            "text/html": [
              "<div>\n",
              "<style scoped>\n",
              "    .dataframe tbody tr th:only-of-type {\n",
              "        vertical-align: middle;\n",
              "    }\n",
              "\n",
              "    .dataframe tbody tr th {\n",
              "        vertical-align: top;\n",
              "    }\n",
              "\n",
              "    .dataframe thead th {\n",
              "        text-align: right;\n",
              "    }\n",
              "</style>\n",
              "<table border=\"1\" class=\"dataframe\">\n",
              "  <thead>\n",
              "    <tr style=\"text-align: right;\">\n",
              "      <th></th>\n",
              "      <th>email title</th>\n",
              "      <th>spam</th>\n",
              "    </tr>\n",
              "  </thead>\n",
              "  <tbody>\n",
              "    <tr>\n",
              "      <th>0</th>\n",
              "      <td>free game only today</td>\n",
              "      <td>True</td>\n",
              "    </tr>\n",
              "    <tr>\n",
              "      <th>1</th>\n",
              "      <td>cheapest flight deal</td>\n",
              "      <td>True</td>\n",
              "    </tr>\n",
              "    <tr>\n",
              "      <th>2</th>\n",
              "      <td>limited time offer only today only today</td>\n",
              "      <td>True</td>\n",
              "    </tr>\n",
              "    <tr>\n",
              "      <th>3</th>\n",
              "      <td>today meeting schedule</td>\n",
              "      <td>False</td>\n",
              "    </tr>\n",
              "    <tr>\n",
              "      <th>4</th>\n",
              "      <td>your flight schedule attached</td>\n",
              "      <td>False</td>\n",
              "    </tr>\n",
              "    <tr>\n",
              "      <th>5</th>\n",
              "      <td>your credit card statement</td>\n",
              "      <td>False</td>\n",
              "    </tr>\n",
              "  </tbody>\n",
              "</table>\n",
              "</div>"
            ],
            "text/plain": [
              "                                email title   spam\n",
              "0                      free game only today   True\n",
              "1                      cheapest flight deal   True\n",
              "2  limited time offer only today only today   True\n",
              "3                    today meeting schedule  False\n",
              "4             your flight schedule attached  False\n",
              "5                your credit card statement  False"
            ]
          },
          "metadata": {
            "tags": []
          },
          "execution_count": 4
        }
      ]
    },
    {
      "cell_type": "code",
      "metadata": {
        "id": "VpqY7vjlst3x"
      },
      "source": [
        "#<데이터 전처리>\n",
        "\n",
        "df['label'] = df['spam'].map({True : 1, False : 0})"
      ],
      "execution_count": 5,
      "outputs": []
    },
    {
      "cell_type": "code",
      "metadata": {
        "id": "R84OO_XauHBD"
      },
      "source": [
        "df_x = df[\"email title\"]\n",
        "df_y = df[\"label\"]"
      ],
      "execution_count": 6,
      "outputs": []
    },
    {
      "cell_type": "code",
      "metadata": {
        "id": "YFV6WzoPuMvW"
      },
      "source": [
        "cv = CountVectorizer(binary = True)\n",
        "x_traincv = cv.fit_transform(df_x)"
      ],
      "execution_count": 7,
      "outputs": []
    },
    {
      "cell_type": "code",
      "metadata": {
        "colab": {
          "base_uri": "https://localhost:8080/"
        },
        "id": "9cHuhtOOu1Y-",
        "outputId": "6e05a21b-ff41-4e9b-b63c-78bcb699c826"
      },
      "source": [
        "encoded_input = x_traincv.toarray()\n",
        "encoded_input"
      ],
      "execution_count": 8,
      "outputs": [
        {
          "output_type": "execute_result",
          "data": {
            "text/plain": [
              "array([[0, 0, 0, 0, 0, 0, 1, 1, 0, 0, 0, 1, 0, 0, 0, 1, 0],\n",
              "       [0, 0, 1, 0, 1, 1, 0, 0, 0, 0, 0, 0, 0, 0, 0, 0, 0],\n",
              "       [0, 0, 0, 0, 0, 0, 0, 0, 1, 0, 1, 1, 0, 0, 1, 1, 0],\n",
              "       [0, 0, 0, 0, 0, 0, 0, 0, 0, 1, 0, 0, 1, 0, 0, 1, 0],\n",
              "       [1, 0, 0, 0, 0, 1, 0, 0, 0, 0, 0, 0, 1, 0, 0, 0, 1],\n",
              "       [0, 1, 0, 1, 0, 0, 0, 0, 0, 0, 0, 0, 0, 1, 0, 0, 1]])"
            ]
          },
          "metadata": {
            "tags": []
          },
          "execution_count": 8
        }
      ]
    },
    {
      "cell_type": "markdown",
      "metadata": {
        "id": "4OAs2_oKyT_f"
      },
      "source": [
        "1. 베르누이 NB는 바이너리 데이터만 처리 가능.\n",
        "2. 텍스트 데이터를 바이너리로 처리가능.(CounterVectorize) -> 데이터에 포함된 단어들을 이진수의 벡터로 만들어줌\n",
        "3. binary = True 를 남겨줌으로써 단어가 한 번 이상 들어가면 1 아니면 0 -> 3행을 보면 only today가 2번씩 들어갔지만 1로 표현됨."
      ]
    },
    {
      "cell_type": "code",
      "metadata": {
        "colab": {
          "base_uri": "https://localhost:8080/"
        },
        "id": "kb-A-L_kvARx",
        "outputId": "ca42b650-d6fe-434a-bc52-10e88aec1b02"
      },
      "source": [
        "#인코딩된 이메일 제목에 어떤 단어가 포함됐는지 확인하려면\n",
        "\n",
        "cv.inverse_transform(encoded_input[0])"
      ],
      "execution_count": 9,
      "outputs": [
        {
          "output_type": "execute_result",
          "data": {
            "text/plain": [
              "[array(['free', 'game', 'only', 'today'], dtype='<U9')]"
            ]
          },
          "metadata": {
            "tags": []
          },
          "execution_count": 9
        }
      ]
    },
    {
      "cell_type": "code",
      "metadata": {
        "colab": {
          "base_uri": "https://localhost:8080/"
        },
        "id": "jnelfU502JFY",
        "outputId": "25b2e9c6-499a-44cc-bb1e-bff94393d4c0"
      },
      "source": [
        "#각 인덱스가 어떤 단어를 의미하는지 궁금하다면\n",
        "\n",
        "cv.get_feature_names()"
      ],
      "execution_count": 10,
      "outputs": [
        {
          "output_type": "execute_result",
          "data": {
            "text/plain": [
              "['attached',\n",
              " 'card',\n",
              " 'cheapest',\n",
              " 'credit',\n",
              " 'deal',\n",
              " 'flight',\n",
              " 'free',\n",
              " 'game',\n",
              " 'limited',\n",
              " 'meeting',\n",
              " 'offer',\n",
              " 'only',\n",
              " 'schedule',\n",
              " 'statement',\n",
              " 'time',\n",
              " 'today',\n",
              " 'your']"
            ]
          },
          "metadata": {
            "tags": []
          },
          "execution_count": 10
        }
      ]
    },
    {
      "cell_type": "code",
      "metadata": {
        "colab": {
          "base_uri": "https://localhost:8080/"
        },
        "id": "WDLywRVA2Ppl",
        "outputId": "d14c8a4b-9fc6-4fbe-a5a1-d8b70a2a028b"
      },
      "source": [
        "#[베르누이 분류기 모델 학습]\n",
        "\n",
        "bnb = BernoulliNB()\n",
        "y_train = df_y.astype('int')\n",
        "bnb.fit(x_traincv, y_train)"
      ],
      "execution_count": 11,
      "outputs": [
        {
          "output_type": "execute_result",
          "data": {
            "text/plain": [
              "BernoulliNB(alpha=1.0, binarize=0.0, class_prior=None, fit_prior=True)"
            ]
          },
          "metadata": {
            "tags": []
          },
          "execution_count": 11
        }
      ]
    },
    {
      "cell_type": "markdown",
      "metadata": {
        "id": "Jj-xp6CiW_6S"
      },
      "source": [
        "**베르누이BN는 기본적으로 스무딩을 지원함. -> 학습에 없는 단어가 등장하더라도 이상 없이 분류를 진행함**"
      ]
    },
    {
      "cell_type": "code",
      "metadata": {
        "id": "Y7WdzEhsTE0C"
      },
      "source": [
        "##테스트 데이터 다듬기\n",
        "\n",
        "test_email_list = [\n",
        "                {'email title': 'free flight offer', 'spam': True},\n",
        "                {'email title': 'hey traveler free flight deal', 'spam': True},\n",
        "                {'email title': 'limited free game offer', 'spam': True},\n",
        "                {'email title': 'today flight schedule', 'spam': False},\n",
        "                {'email title': 'your credit card attached', 'spam': False},\n",
        "                {'email title': 'free credit card offer only today', 'spam': False}\n",
        "             ]\n",
        "\n",
        "test_df = pd.DataFrame(test_email_list)\n",
        "test_df['label'] = test_df['spam'].map({True:1, False:0})\n",
        "test_x = test_df['email title']\n",
        "test_y = test_df['label']\n",
        "x_testcv = cv.transform(test_x)"
      ],
      "execution_count": 17,
      "outputs": []
    },
    {
      "cell_type": "code",
      "metadata": {
        "id": "NxmAQ0EjUzg6"
      },
      "source": [
        "##테스트\n",
        "\n",
        "predictions = bnb.predict(x_testcv)"
      ],
      "execution_count": 18,
      "outputs": []
    },
    {
      "cell_type": "code",
      "metadata": {
        "colab": {
          "base_uri": "https://localhost:8080/"
        },
        "id": "hX4sYxlVU-YI",
        "outputId": "66aec718-2f78-403e-8c88-71d8451bebfc"
      },
      "source": [
        "accuracy_score(test_y, predictions)"
      ],
      "execution_count": 19,
      "outputs": [
        {
          "output_type": "execute_result",
          "data": {
            "text/plain": [
              "0.8333333333333334"
            ]
          },
          "metadata": {
            "tags": []
          },
          "execution_count": 19
        }
      ]
    },
    {
      "cell_type": "code",
      "metadata": {
        "colab": {
          "base_uri": "https://localhost:8080/"
        },
        "id": "adjCFzHHVXUb",
        "outputId": "9dbc2fc9-568f-40e3-cc89-a4b2c2253f94"
      },
      "source": [
        ""
      ],
      "execution_count": 16,
      "outputs": [
        {
          "output_type": "execute_result",
          "data": {
            "text/plain": [
              "array([1, 1, 1, 0, 0, 0])"
            ]
          },
          "metadata": {
            "tags": []
          },
          "execution_count": 16
        }
      ]
    }
  ]
}