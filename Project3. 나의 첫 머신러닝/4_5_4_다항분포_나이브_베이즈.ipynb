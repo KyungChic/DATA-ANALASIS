{
  "nbformat": 4,
  "nbformat_minor": 0,
  "metadata": {
    "colab": {
      "name": "4_5_4_다항분포_나이브_베이즈",
      "provenance": [],
      "collapsed_sections": []
    },
    "kernelspec": {
      "name": "python3",
      "display_name": "Python 3"
    },
    "language_info": {
      "name": "python"
    }
  },
  "cells": [
    {
      "cell_type": "markdown",
      "metadata": {
        "id": "ieiIi__PYuXf"
      },
      "source": [
        "**목적 : 영화 리뷰에 다항분포 나이브 베이즈를 활용하여 리뷰가 긍정적인지 부정적인지 확인함.**"
      ]
    },
    {
      "cell_type": "code",
      "metadata": {
        "id": "T6aoqOrmYSJF"
      },
      "source": [
        "#임포트\n",
        "\n",
        "import numpy as np\n",
        "import pandas as pd\n",
        "from sklearn.feature_extraction.text import CountVectorizer\n",
        "from sklearn.naive_bayes import MultinomialNB\n",
        "from sklearn.metrics import accuracy_score"
      ],
      "execution_count": 2,
      "outputs": []
    },
    {
      "cell_type": "code",
      "metadata": {
        "colab": {
          "base_uri": "https://localhost:8080/",
          "height": 357
        },
        "id": "S6FCfcPAZhUu",
        "outputId": "5ae6cec7-6574-43f0-d774-2d5d764d6ffe"
      },
      "source": [
        "#[테스트 데이터 불러오기]\n",
        "\n",
        "review_list = [\n",
        "                {'movie_review': 'this is great great movie. I will watch again', 'type': 'positive'},\n",
        "                {'movie_review': 'I like this movie', 'type': 'positive'},\n",
        "                {'movie_review': 'amazing movie in this year', 'type': 'positive'},\n",
        "                {'movie_review': 'cool my boyfriend also said the movie is cool', 'type': 'positive'},\n",
        "                {'movie_review': 'awesome of the awesome movie ever', 'type': 'positive'},\n",
        "                {'movie_review': 'shame I wasted money and time', 'type': 'negative'},\n",
        "                {'movie_review': 'regret on this move. I will never never what movie from this director', 'type': 'negative'},\n",
        "                {'movie_review': 'I do not like this movie', 'type': 'negative'},\n",
        "                {'movie_review': 'I do not like actors in this movie', 'type': 'negative'},\n",
        "                {'movie_review': 'boring boring sleeping movie', 'type': 'negative'}\n",
        "             ]\n",
        "df = pd.DataFrame(review_list)\n",
        "df"
      ],
      "execution_count": 4,
      "outputs": [
        {
          "output_type": "execute_result",
          "data": {
            "text/html": [
              "<div>\n",
              "<style scoped>\n",
              "    .dataframe tbody tr th:only-of-type {\n",
              "        vertical-align: middle;\n",
              "    }\n",
              "\n",
              "    .dataframe tbody tr th {\n",
              "        vertical-align: top;\n",
              "    }\n",
              "\n",
              "    .dataframe thead th {\n",
              "        text-align: right;\n",
              "    }\n",
              "</style>\n",
              "<table border=\"1\" class=\"dataframe\">\n",
              "  <thead>\n",
              "    <tr style=\"text-align: right;\">\n",
              "      <th></th>\n",
              "      <th>movie_review</th>\n",
              "      <th>type</th>\n",
              "    </tr>\n",
              "  </thead>\n",
              "  <tbody>\n",
              "    <tr>\n",
              "      <th>0</th>\n",
              "      <td>this is great great movie. I will watch again</td>\n",
              "      <td>positive</td>\n",
              "    </tr>\n",
              "    <tr>\n",
              "      <th>1</th>\n",
              "      <td>I like this movie</td>\n",
              "      <td>positive</td>\n",
              "    </tr>\n",
              "    <tr>\n",
              "      <th>2</th>\n",
              "      <td>amazing movie in this year</td>\n",
              "      <td>positive</td>\n",
              "    </tr>\n",
              "    <tr>\n",
              "      <th>3</th>\n",
              "      <td>cool my boyfriend also said the movie is cool</td>\n",
              "      <td>positive</td>\n",
              "    </tr>\n",
              "    <tr>\n",
              "      <th>4</th>\n",
              "      <td>awesome of the awesome movie ever</td>\n",
              "      <td>positive</td>\n",
              "    </tr>\n",
              "    <tr>\n",
              "      <th>5</th>\n",
              "      <td>shame I wasted money and time</td>\n",
              "      <td>negative</td>\n",
              "    </tr>\n",
              "    <tr>\n",
              "      <th>6</th>\n",
              "      <td>regret on this move. I will never never what m...</td>\n",
              "      <td>negative</td>\n",
              "    </tr>\n",
              "    <tr>\n",
              "      <th>7</th>\n",
              "      <td>I do not like this movie</td>\n",
              "      <td>negative</td>\n",
              "    </tr>\n",
              "    <tr>\n",
              "      <th>8</th>\n",
              "      <td>I do not like actors in this movie</td>\n",
              "      <td>negative</td>\n",
              "    </tr>\n",
              "    <tr>\n",
              "      <th>9</th>\n",
              "      <td>boring boring sleeping movie</td>\n",
              "      <td>negative</td>\n",
              "    </tr>\n",
              "  </tbody>\n",
              "</table>\n",
              "</div>"
            ],
            "text/plain": [
              "                                        movie_review      type\n",
              "0      this is great great movie. I will watch again  positive\n",
              "1                                  I like this movie  positive\n",
              "2                         amazing movie in this year  positive\n",
              "3      cool my boyfriend also said the movie is cool  positive\n",
              "4                  awesome of the awesome movie ever  positive\n",
              "5                      shame I wasted money and time  negative\n",
              "6  regret on this move. I will never never what m...  negative\n",
              "7                           I do not like this movie  negative\n",
              "8                 I do not like actors in this movie  negative\n",
              "9                       boring boring sleeping movie  negative"
            ]
          },
          "metadata": {
            "tags": []
          },
          "execution_count": 4
        }
      ]
    },
    {
      "cell_type": "code",
      "metadata": {
        "id": "XfAFf2abaMWp"
      },
      "source": [
        "#테스트_데이터_전처리\n",
        "## 0과 1로 치환\n",
        "\n",
        "df['label'] = df['type'].map({\"positive\":1, \"negative\":0})"
      ],
      "execution_count": 5,
      "outputs": []
    },
    {
      "cell_type": "code",
      "metadata": {
        "id": "HZSex1xWcBzD"
      },
      "source": [
        "df_x = df['movie_review']\n",
        "df_y = df['label']"
      ],
      "execution_count": 6,
      "outputs": []
    },
    {
      "cell_type": "markdown",
      "metadata": {
        "id": "R5i0JTBUchsG"
      },
      "source": [
        "**단어 빈도수를 벡터화 해야함**"
      ]
    },
    {
      "cell_type": "code",
      "metadata": {
        "colab": {
          "base_uri": "https://localhost:8080/"
        },
        "id": "tuRIogjScLS-",
        "outputId": "1367ec34-e80f-4662-cbde-dbe494d154f1"
      },
      "source": [
        "cv = CountVectorizer()\n",
        "x_traincv = cv.fit_transform(df_x)\n",
        "encoded_input = x_traincv.toarray()\n",
        "encoded_input"
      ],
      "execution_count": 10,
      "outputs": [
        {
          "output_type": "execute_result",
          "data": {
            "text/plain": [
              "array([[0, 1, 0, 0, 0, 0, 0, 0, 0, 0, 0, 0, 0, 2, 0, 1, 0, 0, 0, 1, 0, 0,\n",
              "        0, 0, 0, 0, 0, 0, 0, 0, 1, 0, 0, 1, 0, 1, 0],\n",
              "       [0, 0, 0, 0, 0, 0, 0, 0, 0, 0, 0, 0, 0, 0, 0, 0, 1, 0, 0, 1, 0, 0,\n",
              "        0, 0, 0, 0, 0, 0, 0, 0, 1, 0, 0, 0, 0, 0, 0],\n",
              "       [0, 0, 0, 1, 0, 0, 0, 0, 0, 0, 0, 0, 0, 0, 1, 0, 0, 0, 0, 1, 0, 0,\n",
              "        0, 0, 0, 0, 0, 0, 0, 0, 1, 0, 0, 0, 0, 0, 1],\n",
              "       [0, 0, 1, 0, 0, 0, 0, 1, 2, 0, 0, 0, 0, 0, 0, 1, 0, 0, 0, 1, 1, 0,\n",
              "        0, 0, 0, 0, 1, 0, 0, 1, 0, 0, 0, 0, 0, 0, 0],\n",
              "       [0, 0, 0, 0, 0, 2, 0, 0, 0, 0, 0, 1, 0, 0, 0, 0, 0, 0, 0, 1, 0, 0,\n",
              "        0, 1, 0, 0, 0, 0, 0, 1, 0, 0, 0, 0, 0, 0, 0],\n",
              "       [0, 0, 0, 0, 1, 0, 0, 0, 0, 0, 0, 0, 0, 0, 0, 0, 0, 1, 0, 0, 0, 0,\n",
              "        0, 0, 0, 0, 0, 1, 0, 0, 0, 1, 1, 0, 0, 0, 0],\n",
              "       [0, 0, 0, 0, 0, 0, 0, 0, 0, 1, 0, 0, 1, 0, 0, 0, 0, 0, 1, 1, 0, 2,\n",
              "        0, 0, 1, 1, 0, 0, 0, 0, 2, 0, 0, 0, 1, 1, 0],\n",
              "       [0, 0, 0, 0, 0, 0, 0, 0, 0, 0, 1, 0, 0, 0, 0, 0, 1, 0, 0, 1, 0, 0,\n",
              "        1, 0, 0, 0, 0, 0, 0, 0, 1, 0, 0, 0, 0, 0, 0],\n",
              "       [1, 0, 0, 0, 0, 0, 0, 0, 0, 0, 1, 0, 0, 0, 1, 0, 1, 0, 0, 1, 0, 0,\n",
              "        1, 0, 0, 0, 0, 0, 0, 0, 1, 0, 0, 0, 0, 0, 0],\n",
              "       [0, 0, 0, 0, 0, 0, 2, 0, 0, 0, 0, 0, 0, 0, 0, 0, 0, 0, 0, 1, 0, 0,\n",
              "        0, 0, 0, 0, 0, 0, 1, 0, 0, 0, 0, 0, 0, 0, 0]])"
            ]
          },
          "metadata": {
            "tags": []
          },
          "execution_count": 10
        }
      ]
    },
    {
      "cell_type": "markdown",
      "metadata": {
        "id": "BZxLiTiKdrt4"
      },
      "source": [
        "**cv = CountVectorizer() 항에 바이너리 옵션이 없어서 단어 개수가 그대로 카운팅됨을 알 수 있다.**"
      ]
    },
    {
      "cell_type": "code",
      "metadata": {
        "colab": {
          "base_uri": "https://localhost:8080/"
        },
        "id": "U3ZstPXEcoYh",
        "outputId": "ae89ccae-0de7-46b5-cc51-0903b8c8c6f1"
      },
      "source": [
        "#포함된 단어 살펴보기\n",
        "cv.inverse_transform(encoded_input[0])"
      ],
      "execution_count": 11,
      "outputs": [
        {
          "output_type": "execute_result",
          "data": {
            "text/plain": [
              "[array(['again', 'great', 'is', 'movie', 'this', 'watch', 'will'],\n",
              "       dtype='<U9')]"
            ]
          },
          "metadata": {
            "tags": []
          },
          "execution_count": 11
        }
      ]
    },
    {
      "cell_type": "code",
      "metadata": {
        "colab": {
          "base_uri": "https://localhost:8080/"
        },
        "id": "CRuTekDser5D",
        "outputId": "b848a14b-2ad3-4483-da26-47bea7db4d37"
      },
      "source": [
        "#벡터의 각 인덱스가 어떤 값을 의미하는지\n",
        "cv.get_feature_names()"
      ],
      "execution_count": 12,
      "outputs": [
        {
          "output_type": "execute_result",
          "data": {
            "text/plain": [
              "['actors',\n",
              " 'again',\n",
              " 'also',\n",
              " 'amazing',\n",
              " 'and',\n",
              " 'awesome',\n",
              " 'boring',\n",
              " 'boyfriend',\n",
              " 'cool',\n",
              " 'director',\n",
              " 'do',\n",
              " 'ever',\n",
              " 'from',\n",
              " 'great',\n",
              " 'in',\n",
              " 'is',\n",
              " 'like',\n",
              " 'money',\n",
              " 'move',\n",
              " 'movie',\n",
              " 'my',\n",
              " 'never',\n",
              " 'not',\n",
              " 'of',\n",
              " 'on',\n",
              " 'regret',\n",
              " 'said',\n",
              " 'shame',\n",
              " 'sleeping',\n",
              " 'the',\n",
              " 'this',\n",
              " 'time',\n",
              " 'wasted',\n",
              " 'watch',\n",
              " 'what',\n",
              " 'will',\n",
              " 'year']"
            ]
          },
          "metadata": {
            "tags": []
          },
          "execution_count": 12
        }
      ]
    },
    {
      "cell_type": "code",
      "metadata": {
        "colab": {
          "base_uri": "https://localhost:8080/"
        },
        "id": "fqRk8Hmne3TV",
        "outputId": "9935ba13-6d1f-45cc-8421-80520980ef68"
      },
      "source": [
        "#[다항분포 BN 학습하기]\n",
        "## 마찬가지로 기본적으로 스무딩 지우너함.\n",
        "\n",
        "mnb = MultinomialNB()\n",
        "y_train = df_y.astype('int')\n",
        "mnb.fit(x_traincv,y_train)"
      ],
      "execution_count": 13,
      "outputs": [
        {
          "output_type": "execute_result",
          "data": {
            "text/plain": [
              "MultinomialNB(alpha=1.0, class_prior=None, fit_prior=True)"
            ]
          },
          "metadata": {
            "tags": []
          },
          "execution_count": 13
        }
      ]
    },
    {
      "cell_type": "code",
      "metadata": {
        "id": "y-dKMsPYfY85"
      },
      "source": [
        "test_feedback_list = [\n",
        "                {'movie_review': 'great great great movie ever', 'type': 'positive'},\n",
        "                {'movie_review': 'I like this amazing movie', 'type': 'positive'},\n",
        "                {'movie_review': 'my boyfriend said great movie ever', 'type': 'positive'},\n",
        "                {'movie_review': 'cool cool cool', 'type': 'positive'},\n",
        "                {'movie_review': 'awesome boyfriend said cool movie ever', 'type': 'positive'},\n",
        "                {'movie_review': 'shame shame shame', 'type': 'negative'},\n",
        "                {'movie_review': 'awesome director shame movie boring movie', 'type': 'negative'},\n",
        "                {'movie_review': 'do not like this movie', 'type': 'negative'},\n",
        "                {'movie_review': 'I do not like this boring movie', 'type': 'negative'},\n",
        "                {'movie_review': 'aweful terrible boring movie', 'type': 'negative'}\n",
        "             ]\n",
        "\n",
        "test_df = pd.DataFrame(test_feedback_list)\n",
        "test_df['label'] = test_df['type'].map({'positive':1, 'negative':0})\n",
        "\n",
        "test_x = test_df['movie_review']\n",
        "test_y = test_df['label']"
      ],
      "execution_count": 28,
      "outputs": []
    },
    {
      "cell_type": "code",
      "metadata": {
        "id": "wc7f4nhogL5C"
      },
      "source": [
        "x_testcv = cv.transform(test_x)\n",
        "predictions = mnb.predict(x_testcv)"
      ],
      "execution_count": 29,
      "outputs": []
    },
    {
      "cell_type": "code",
      "metadata": {
        "colab": {
          "base_uri": "https://localhost:8080/"
        },
        "id": "Itud0U3ThOvw",
        "outputId": "1153a265-c4f9-4c34-b436-80abf0ed6b52"
      },
      "source": [
        "#[정확성 계산]\n",
        "accuracy_score(test_y, predictions)"
      ],
      "execution_count": 30,
      "outputs": [
        {
          "output_type": "execute_result",
          "data": {
            "text/plain": [
              "1.0"
            ]
          },
          "metadata": {
            "tags": []
          },
          "execution_count": 30
        }
      ]
    },
    {
      "cell_type": "code",
      "metadata": {
        "colab": {
          "base_uri": "https://localhost:8080/"
        },
        "id": "j-JqcSoohYRF",
        "outputId": "24c2c2e5-181a-49b4-f0f5-e89854502e0c"
      },
      "source": [
        ""
      ],
      "execution_count": 27,
      "outputs": [
        {
          "output_type": "execute_result",
          "data": {
            "text/plain": [
              "0    1.0\n",
              "1    1.0\n",
              "2    1.0\n",
              "3    1.0\n",
              "4    1.0\n",
              "5    NaN\n",
              "6    NaN\n",
              "7    NaN\n",
              "8    NaN\n",
              "9    NaN\n",
              "Name: label, dtype: float64"
            ]
          },
          "metadata": {
            "tags": []
          },
          "execution_count": 27
        }
      ]
    },
    {
      "cell_type": "code",
      "metadata": {
        "id": "8xt-_CqYiVvE"
      },
      "source": [
        ""
      ],
      "execution_count": null,
      "outputs": []
    }
  ]
}